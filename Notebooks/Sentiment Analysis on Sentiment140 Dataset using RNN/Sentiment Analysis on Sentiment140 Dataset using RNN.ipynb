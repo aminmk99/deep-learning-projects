{
 "cells": [
  {
   "cell_type": "code",
   "execution_count": 2,
   "id": "064a846e-0812-4f84-95b6-bc96da0459ad",
   "metadata": {},
   "outputs": [],
   "source": [
    "import tensorflow as tf"
   ]
  },
  {
   "cell_type": "markdown",
   "id": "b598d765-90ad-43ce-aedc-7685676bf14c",
   "metadata": {
    "jp-MarkdownHeadingCollapsed": true
   },
   "source": [
    "## Getting Data"
   ]
  },
  {
   "cell_type": "code",
   "execution_count": 4,
   "id": "cf23ba10-9cbc-4481-90ac-386cc1ff005e",
   "metadata": {},
   "outputs": [],
   "source": [
    "import zipfile\n",
    "\n",
    "with zipfile.ZipFile('archive.zip', 'r') as zip_ref:\n",
    "    zip_ref.extractall('sentiment140')"
   ]
  },
  {
   "cell_type": "code",
   "execution_count": 7,
   "id": "ad7a9441-cf8a-47c9-85ed-8d39398ffa24",
   "metadata": {},
   "outputs": [],
   "source": [
    "import pandas as pd\n",
    "\n",
    "df = pd.read_csv('sentiment140/training.1600000.processed.noemoticon.csv', \n",
    "                 encoding='latin-1', header=None, )"
   ]
  },
  {
   "cell_type": "code",
   "execution_count": 8,
   "id": "45f7b334-2873-45a8-ae2f-19bac3f77586",
   "metadata": {},
   "outputs": [],
   "source": [
    "df.columns = ['target', 'id', 'date', 'flag', 'user', 'text']"
   ]
  },
  {
   "cell_type": "code",
   "execution_count": 10,
   "id": "ba23b5c5-f49a-4879-93ee-f57c30fb2b31",
   "metadata": {},
   "outputs": [
    {
     "data": {
      "text/html": [
       "<div>\n",
       "<style scoped>\n",
       "    .dataframe tbody tr th:only-of-type {\n",
       "        vertical-align: middle;\n",
       "    }\n",
       "\n",
       "    .dataframe tbody tr th {\n",
       "        vertical-align: top;\n",
       "    }\n",
       "\n",
       "    .dataframe thead th {\n",
       "        text-align: right;\n",
       "    }\n",
       "</style>\n",
       "<table border=\"1\" class=\"dataframe\">\n",
       "  <thead>\n",
       "    <tr style=\"text-align: right;\">\n",
       "      <th></th>\n",
       "      <th>target</th>\n",
       "      <th>id</th>\n",
       "      <th>date</th>\n",
       "      <th>flag</th>\n",
       "      <th>user</th>\n",
       "      <th>text</th>\n",
       "    </tr>\n",
       "  </thead>\n",
       "  <tbody>\n",
       "    <tr>\n",
       "      <th>0</th>\n",
       "      <td>0</td>\n",
       "      <td>1467810369</td>\n",
       "      <td>Mon Apr 06 22:19:45 PDT 2009</td>\n",
       "      <td>NO_QUERY</td>\n",
       "      <td>_TheSpecialOne_</td>\n",
       "      <td>@switchfoot http://twitpic.com/2y1zl - Awww, t...</td>\n",
       "    </tr>\n",
       "    <tr>\n",
       "      <th>1</th>\n",
       "      <td>0</td>\n",
       "      <td>1467810672</td>\n",
       "      <td>Mon Apr 06 22:19:49 PDT 2009</td>\n",
       "      <td>NO_QUERY</td>\n",
       "      <td>scotthamilton</td>\n",
       "      <td>is upset that he can't update his Facebook by ...</td>\n",
       "    </tr>\n",
       "    <tr>\n",
       "      <th>2</th>\n",
       "      <td>0</td>\n",
       "      <td>1467810917</td>\n",
       "      <td>Mon Apr 06 22:19:53 PDT 2009</td>\n",
       "      <td>NO_QUERY</td>\n",
       "      <td>mattycus</td>\n",
       "      <td>@Kenichan I dived many times for the ball. Man...</td>\n",
       "    </tr>\n",
       "    <tr>\n",
       "      <th>3</th>\n",
       "      <td>0</td>\n",
       "      <td>1467811184</td>\n",
       "      <td>Mon Apr 06 22:19:57 PDT 2009</td>\n",
       "      <td>NO_QUERY</td>\n",
       "      <td>ElleCTF</td>\n",
       "      <td>my whole body feels itchy and like its on fire</td>\n",
       "    </tr>\n",
       "    <tr>\n",
       "      <th>4</th>\n",
       "      <td>0</td>\n",
       "      <td>1467811193</td>\n",
       "      <td>Mon Apr 06 22:19:57 PDT 2009</td>\n",
       "      <td>NO_QUERY</td>\n",
       "      <td>Karoli</td>\n",
       "      <td>@nationwideclass no, it's not behaving at all....</td>\n",
       "    </tr>\n",
       "  </tbody>\n",
       "</table>\n",
       "</div>"
      ],
      "text/plain": [
       "   target          id                          date      flag  \\\n",
       "0       0  1467810369  Mon Apr 06 22:19:45 PDT 2009  NO_QUERY   \n",
       "1       0  1467810672  Mon Apr 06 22:19:49 PDT 2009  NO_QUERY   \n",
       "2       0  1467810917  Mon Apr 06 22:19:53 PDT 2009  NO_QUERY   \n",
       "3       0  1467811184  Mon Apr 06 22:19:57 PDT 2009  NO_QUERY   \n",
       "4       0  1467811193  Mon Apr 06 22:19:57 PDT 2009  NO_QUERY   \n",
       "\n",
       "              user                                               text  \n",
       "0  _TheSpecialOne_  @switchfoot http://twitpic.com/2y1zl - Awww, t...  \n",
       "1    scotthamilton  is upset that he can't update his Facebook by ...  \n",
       "2         mattycus  @Kenichan I dived many times for the ball. Man...  \n",
       "3          ElleCTF    my whole body feels itchy and like its on fire   \n",
       "4           Karoli  @nationwideclass no, it's not behaving at all....  "
      ]
     },
     "execution_count": 10,
     "metadata": {},
     "output_type": "execute_result"
    }
   ],
   "source": [
    "df.head()"
   ]
  },
  {
   "cell_type": "code",
   "execution_count": 15,
   "id": "91c08cfd-3a92-4076-ba52-48ecfa45bc8e",
   "metadata": {},
   "outputs": [],
   "source": [
    "df['target'] = df['target'].replace(4, 1)"
   ]
  },
  {
   "cell_type": "code",
   "execution_count": 16,
   "id": "7669c3ae-4bba-491c-aaea-dc4eafc3f6f8",
   "metadata": {},
   "outputs": [
    {
     "data": {
      "text/plain": [
       "target\n",
       "0    800000\n",
       "1    800000\n",
       "Name: count, dtype: int64"
      ]
     },
     "execution_count": 16,
     "metadata": {},
     "output_type": "execute_result"
    }
   ],
   "source": [
    "df['target'].value_counts()"
   ]
  },
  {
   "cell_type": "markdown",
   "id": "dfd639a6-7369-4a40-87a8-cbeb8f1bfe6f",
   "metadata": {},
   "source": [
    "## Preprocessing Data"
   ]
  },
  {
   "cell_type": "markdown",
   "id": "1f9e84f3-4e94-4517-99de-2fc7c8d69e4f",
   "metadata": {
    "jp-MarkdownHeadingCollapsed": true
   },
   "source": [
    "### Cleaning Sentences"
   ]
  },
  {
   "cell_type": "code",
   "execution_count": 18,
   "id": "77daf46e-a92f-4c61-8545-1ca77b834ce2",
   "metadata": {},
   "outputs": [],
   "source": [
    "import re\n",
    "\n",
    "def clean_tweet(text):\n",
    "    \"\"\"\n",
    "    Clean a tweet by removing URLs, mentions, hashtags, \n",
    "    punctuation, and converting to lowercase.\n",
    "    \"\"\"\n",
    "    text = text.lower()                                # Lowercase all text\n",
    "    text = re.sub(r'http\\S+|www\\S+', '', text)         # Remove URLs\n",
    "    text = re.sub(r'@\\w+', '', text)                   # Remove mentions\n",
    "    text = re.sub(r'#', '', text)                      # Remove '#' from hashtags\n",
    "    text = re.sub(r'[^a-z\\s]', '', text)               # Remove non-alphabetic characters\n",
    "    text = re.sub(r'\\s+', ' ', text).strip()           # Remove extra whitespace\n",
    "    return text"
   ]
  },
  {
   "cell_type": "code",
   "execution_count": 19,
   "id": "59afc1b5-572b-46dd-acc4-0883fed7d672",
   "metadata": {},
   "outputs": [],
   "source": [
    "df['clean_text'] = df['text'].apply(clean_tweet)"
   ]
  },
  {
   "cell_type": "code",
   "execution_count": 21,
   "id": "91b411da-8fd0-424f-925c-7381e82a8624",
   "metadata": {},
   "outputs": [
    {
     "data": {
      "text/plain": [
       "\"@switchfoot http://twitpic.com/2y1zl - Awww, that's a bummer.  You shoulda got David Carr of Third Day to do it. ;D\""
      ]
     },
     "execution_count": 21,
     "metadata": {},
     "output_type": "execute_result"
    }
   ],
   "source": [
    "df['text'][0]"
   ]
  },
  {
   "cell_type": "code",
   "execution_count": 22,
   "id": "3ae0d927-5ab0-4f2e-a0b3-5d15eaee7993",
   "metadata": {},
   "outputs": [
    {
     "data": {
      "text/plain": [
       "'a thats a bummer you shoulda got david carr of third day to do it d'"
      ]
     },
     "execution_count": 22,
     "metadata": {},
     "output_type": "execute_result"
    }
   ],
   "source": [
    "df['clean_text'][0]"
   ]
  },
  {
   "cell_type": "markdown",
   "id": "fac02371-cc3f-44c9-af5e-d86bb98b235e",
   "metadata": {},
   "source": [
    "### Tokenization and Padding of Cleaned Tweets"
   ]
  },
  {
   "cell_type": "markdown",
   "id": "cc02db70-1870-4b5c-b0e8-671efa4d3db3",
   "metadata": {
    "jp-MarkdownHeadingCollapsed": true
   },
   "source": [
    "##### Tokenization"
   ]
  },
  {
   "cell_type": "code",
   "execution_count": 23,
   "id": "7ca00d1e-e018-49c0-8e6e-76d8de5bb64f",
   "metadata": {},
   "outputs": [],
   "source": [
    "from tensorflow.keras.preprocessing.text import Tokenizer\n",
    "\n",
    "vocab_size = 10000  # You can adjust this based on dataset size\n",
    "tokenizer = Tokenizer(num_words=vocab_size, oov_token='<OOV>')\n",
    "tokenizer.fit_on_texts(df['clean_text'])\n",
    "\n",
    "sequences = tokenizer.texts_to_sequences(df['clean_text'])"
   ]
  },
  {
   "cell_type": "code",
   "execution_count": 32,
   "id": "fc584dac-46af-41e8-8c8b-3095330c5518",
   "metadata": {},
   "outputs": [
    {
     "data": {
      "text/plain": [
       "[5, 102, 5, 1207, 8, 3426, 49, 863, 9709, 13, 1842, 32, 3, 41, 10, 384]"
      ]
     },
     "execution_count": 32,
     "metadata": {},
     "output_type": "execute_result"
    }
   ],
   "source": [
    "sequences[0]"
   ]
  },
  {
   "cell_type": "code",
   "execution_count": 33,
   "id": "f459a6ca-529a-4fc3-8f39-611d12397962",
   "metadata": {},
   "outputs": [
    {
     "data": {
      "text/plain": [
       "'a thats a bummer you shoulda got david carr of third day to do it d'"
      ]
     },
     "execution_count": 33,
     "metadata": {},
     "output_type": "execute_result"
    }
   ],
   "source": [
    "df['clean_text'][0]"
   ]
  },
  {
   "cell_type": "code",
   "execution_count": 35,
   "id": "5df2e932-521d-4799-a906-18a683cd64b1",
   "metadata": {},
   "outputs": [
    {
     "data": {
      "text/plain": [
       "102"
      ]
     },
     "execution_count": 35,
     "metadata": {},
     "output_type": "execute_result"
    }
   ],
   "source": [
    "tokenizer.word_index['thats']"
   ]
  },
  {
   "cell_type": "markdown",
   "id": "ad2b6544-4502-4cd3-b04d-d1bad2f6b85b",
   "metadata": {
    "jp-MarkdownHeadingCollapsed": true
   },
   "source": [
    "#### Padding"
   ]
  },
  {
   "cell_type": "code",
   "execution_count": 36,
   "id": "57355af0-f00a-4916-ba03-4eb568ad62b6",
   "metadata": {},
   "outputs": [],
   "source": [
    "from tensorflow.keras.preprocessing.sequence import pad_sequences\n",
    "\n",
    "max_length = 32  # Tweets are short; 32 is usually plenty\n",
    "padded_sequences = pad_sequences(sequences, maxlen=max_length, padding='post', truncating='post')"
   ]
  },
  {
   "cell_type": "code",
   "execution_count": 41,
   "id": "a06819b1-9a10-4da0-a77b-98388aa71b48",
   "metadata": {},
   "outputs": [
    {
     "data": {
      "text/plain": [
       "[5, 102, 5, 1207, 8, 3426, 49, 863, 9709, 13, 1842, 32, 3, 41, 10, 384]"
      ]
     },
     "execution_count": 41,
     "metadata": {},
     "output_type": "execute_result"
    }
   ],
   "source": [
    "sequences[0]"
   ]
  },
  {
   "cell_type": "code",
   "execution_count": 39,
   "id": "d5d4fa38-b083-408e-ab8a-f7bea0e9d2d5",
   "metadata": {},
   "outputs": [
    {
     "data": {
      "text/plain": [
       "array([   5,  102,    5, 1207,    8, 3426,   49,  863, 9709,   13, 1842,\n",
       "         32,    3,   41,   10,  384,    0,    0,    0,    0,    0,    0,\n",
       "          0,    0,    0,    0,    0,    0,    0,    0,    0,    0])"
      ]
     },
     "execution_count": 39,
     "metadata": {},
     "output_type": "execute_result"
    }
   ],
   "source": [
    "padded_sequences[0]"
   ]
  },
  {
   "cell_type": "code",
   "execution_count": 43,
   "id": "8a9a0cf6-2bb7-42e5-84d0-3655d23fd7cd",
   "metadata": {},
   "outputs": [
    {
     "data": {
      "text/plain": [
       "numpy.ndarray"
      ]
     },
     "execution_count": 43,
     "metadata": {},
     "output_type": "execute_result"
    }
   ],
   "source": [
    "type(df['target'].values)"
   ]
  },
  {
   "cell_type": "markdown",
   "id": "4b485756-a27a-46fe-a2a7-d01361f1135e",
   "metadata": {},
   "source": [
    "## Model (Neural Network)"
   ]
  },
  {
   "cell_type": "markdown",
   "id": "498c0e5f-b3a4-40c5-921f-f8a45622ee27",
   "metadata": {
    "jp-MarkdownHeadingCollapsed": true
   },
   "source": [
    "### Train Test Split"
   ]
  },
  {
   "cell_type": "code",
   "execution_count": 44,
   "id": "6a4962e9-a62e-4633-805d-05b3bfe785ba",
   "metadata": {},
   "outputs": [],
   "source": [
    "X = padded_sequences\n",
    "y = df['target'].values"
   ]
  },
  {
   "cell_type": "code",
   "execution_count": 49,
   "id": "87a25ffe-bdfd-49ad-a547-a0a8fc9aa229",
   "metadata": {},
   "outputs": [],
   "source": [
    "from sklearn.model_selection import train_test_split\n",
    "\n",
    "X_train, X_test, y_train, y_test = train_test_split(\n",
    "    X, y, test_size=0.2, random_state=42, stratify=y)"
   ]
  },
  {
   "cell_type": "markdown",
   "id": "d4c1af01-b2f2-4658-8d12-1e55cd47d627",
   "metadata": {
    "jp-MarkdownHeadingCollapsed": true
   },
   "source": [
    "### Building and Training an RNN Model"
   ]
  },
  {
   "cell_type": "code",
   "execution_count": 53,
   "id": "f70e346d-646c-4cdb-aaa0-87f1a974fd23",
   "metadata": {},
   "outputs": [],
   "source": [
    "from tensorflow.keras.models import Sequential\n",
    "from tensorflow.keras.layers import Input, Embedding, LSTM, Dense, Dropout"
   ]
  },
  {
   "cell_type": "markdown",
   "id": "ae96c01b-6683-4895-9921-42c8d4602c9a",
   "metadata": {},
   "source": [
    "#### Building"
   ]
  },
  {
   "cell_type": "code",
   "execution_count": 54,
   "id": "0f75b9d1-3184-4458-aef1-9b63300fab37",
   "metadata": {},
   "outputs": [],
   "source": [
    "# Define parameters\n",
    "embedding_dim = 100"
   ]
  },
  {
   "cell_type": "code",
   "execution_count": 60,
   "id": "cd90ab09-417b-45fc-856c-2c4189796233",
   "metadata": {},
   "outputs": [],
   "source": [
    "# Build the model\n",
    "model = Sequential()\n",
    "model.add(Input(shape=(X_train.shape[1],)))  # Use max_length from padded sequences\n",
    "model.add(Embedding(input_dim=vocab_size, output_dim=embedding_dim))\n",
    "model.add(LSTM(64, return_sequences=False))\n",
    "model.add(Dropout(0.3))\n",
    "model.add(Dense(64, activation='relu'))\n",
    "model.add(Dense(1, activation='sigmoid'))  # Binary classification"
   ]
  },
  {
   "cell_type": "code",
   "execution_count": 61,
   "id": "a12866f5-5a43-41a7-ac16-4ed937b3c26b",
   "metadata": {},
   "outputs": [],
   "source": [
    "# Compile the model\n",
    "model.compile(loss='binary_crossentropy', optimizer='adam', metrics=['accuracy'])"
   ]
  },
  {
   "cell_type": "code",
   "execution_count": 62,
   "id": "ae21d33d-c7d8-400c-b934-a887dedbaa83",
   "metadata": {},
   "outputs": [
    {
     "name": "stdout",
     "output_type": "stream",
     "text": [
      "Model: \"sequential\"\n",
      "_________________________________________________________________\n",
      " Layer (type)                Output Shape              Param #   \n",
      "=================================================================\n",
      " embedding (Embedding)       (None, 32, 100)           1000000   \n",
      "                                                                 \n",
      " lstm (LSTM)                 (None, 64)                42240     \n",
      "                                                                 \n",
      " dropout (Dropout)           (None, 64)                0         \n",
      "                                                                 \n",
      " dense (Dense)               (None, 64)                4160      \n",
      "                                                                 \n",
      " dense_1 (Dense)             (None, 1)                 65        \n",
      "                                                                 \n",
      "=================================================================\n",
      "Total params: 1,046,465\n",
      "Trainable params: 1,046,465\n",
      "Non-trainable params: 0\n",
      "_________________________________________________________________\n"
     ]
    }
   ],
   "source": [
    "model.summary()"
   ]
  },
  {
   "cell_type": "code",
   "execution_count": null,
   "id": "238c7510-5a6c-49c6-abdf-d60fce74f5a1",
   "metadata": {},
   "outputs": [],
   "source": [
    "history = model.fit(\n",
    "    X_train, y_train,\n",
    "    validation_data=(X_test, y_test),\n",
    "    epochs=5,\n",
    "    batch_size=128,\n",
    "    verbose=1\n",
    ")"
   ]
  },
  {
   "cell_type": "markdown",
   "id": "543db6bd-1870-4388-8c17-7ae1beac7d6f",
   "metadata": {},
   "source": [
    "#### Training"
   ]
  },
  {
   "cell_type": "code",
   "execution_count": 63,
   "id": "bbd74b0f-0834-4dc5-8c93-8f08cd1f8c91",
   "metadata": {},
   "outputs": [
    {
     "name": "stdout",
     "output_type": "stream",
     "text": [
      "Epoch 1/5\n",
      "10000/10000 [==============================] - 107s 10ms/step - loss: 0.4281 - accuracy: 0.8021 - val_loss: 0.4028 - val_accuracy: 0.8177\n",
      "Epoch 2/5\n",
      "10000/10000 [==============================] - 100s 10ms/step - loss: 0.3910 - accuracy: 0.8230 - val_loss: 0.3951 - val_accuracy: 0.8222\n",
      "Epoch 3/5\n",
      "10000/10000 [==============================] - 101s 10ms/step - loss: 0.3726 - accuracy: 0.8325 - val_loss: 0.3863 - val_accuracy: 0.8262\n",
      "Epoch 4/5\n",
      "10000/10000 [==============================] - 100s 10ms/step - loss: 0.3564 - accuracy: 0.8410 - val_loss: 0.3864 - val_accuracy: 0.8253\n",
      "Epoch 5/5\n",
      "10000/10000 [==============================] - 101s 10ms/step - loss: 0.3406 - accuracy: 0.8490 - val_loss: 0.3891 - val_accuracy: 0.8262\n"
     ]
    }
   ],
   "source": [
    "history = model.fit(\n",
    "    X_train, y_train,\n",
    "    validation_data=(X_test, y_test),\n",
    "    epochs=5,\n",
    "    batch_size=128,\n",
    "    verbose=1\n",
    ")"
   ]
  },
  {
   "cell_type": "markdown",
   "id": "cf9aa20d-cc8f-4c77-82ce-3b113bd81082",
   "metadata": {},
   "source": [
    "### Upgraded Model"
   ]
  },
  {
   "cell_type": "markdown",
   "id": "de68b6e0-62eb-475f-9150-df5584f6bfa9",
   "metadata": {},
   "source": [
    "#### Building"
   ]
  },
  {
   "cell_type": "code",
   "execution_count": 66,
   "id": "245cca87-2364-4b67-aca4-0d17e489d9c3",
   "metadata": {},
   "outputs": [],
   "source": [
    "from tensorflow.keras.models import Sequential\n",
    "from tensorflow.keras.layers import Input, Embedding, LSTM, Dense, Dropout, Bidirectional\n",
    "\n",
    "model = Sequential()\n",
    "model.add(Input(shape=(X_train.shape[1],)))  # input shape = (max_length,)\n",
    "model.add(Embedding(input_dim=vocab_size, output_dim=embedding_dim))\n",
    "model.add(Bidirectional(LSTM(128, return_sequences=False)))\n",
    "model.add(Dropout(0.5))\n",
    "model.add(Dense(64, activation='relu'))\n",
    "model.add(Dropout(0.3))\n",
    "model.add(Dense(1, activation='sigmoid'))  # Binary classification\n",
    "\n",
    "model.compile(loss='binary_crossentropy', optimizer='adam', metrics=['accuracy'])"
   ]
  },
  {
   "cell_type": "code",
   "execution_count": 67,
   "id": "219979f0-cbad-4a27-babe-9f8344e78c11",
   "metadata": {},
   "outputs": [
    {
     "name": "stdout",
     "output_type": "stream",
     "text": [
      "Model: \"sequential_3\"\n",
      "_________________________________________________________________\n",
      " Layer (type)                Output Shape              Param #   \n",
      "=================================================================\n",
      " embedding_3 (Embedding)     (None, 32, 100)           1000000   \n",
      "                                                                 \n",
      " bidirectional_2 (Bidirectio  (None, 256)              234496    \n",
      " nal)                                                            \n",
      "                                                                 \n",
      " dropout_5 (Dropout)         (None, 256)               0         \n",
      "                                                                 \n",
      " dense_6 (Dense)             (None, 64)                16448     \n",
      "                                                                 \n",
      " dropout_6 (Dropout)         (None, 64)                0         \n",
      "                                                                 \n",
      " dense_7 (Dense)             (None, 1)                 65        \n",
      "                                                                 \n",
      "=================================================================\n",
      "Total params: 1,251,009\n",
      "Trainable params: 1,251,009\n",
      "Non-trainable params: 0\n",
      "_________________________________________________________________\n"
     ]
    }
   ],
   "source": [
    "model.summary()"
   ]
  },
  {
   "cell_type": "markdown",
   "id": "20439f15-c373-4e53-8a87-3d66b0b47742",
   "metadata": {},
   "source": [
    "#### Training"
   ]
  },
  {
   "cell_type": "code",
   "execution_count": 68,
   "id": "fb9bf0f7-e0df-4ea1-b869-84653e8dfd11",
   "metadata": {},
   "outputs": [],
   "source": [
    "from tensorflow.keras.callbacks import EarlyStopping\n",
    "\n",
    "early_stop = EarlyStopping(\n",
    "    monitor='val_loss',\n",
    "    patience=2,               # Stop if val_loss doesn't improve for 2 epochs\n",
    "    restore_best_weights=True\n",
    ")"
   ]
  },
  {
   "cell_type": "code",
   "execution_count": 69,
   "id": "1103f533-59c9-49dc-b1d4-295cf90ad934",
   "metadata": {},
   "outputs": [
    {
     "name": "stdout",
     "output_type": "stream",
     "text": [
      "Epoch 1/20\n",
      "10000/10000 [==============================] - 179s 18ms/step - loss: 0.4258 - accuracy: 0.8044 - val_loss: 0.3966 - val_accuracy: 0.8190\n",
      "Epoch 2/20\n",
      "10000/10000 [==============================] - 176s 18ms/step - loss: 0.3893 - accuracy: 0.8244 - val_loss: 0.3890 - val_accuracy: 0.8239\n",
      "Epoch 3/20\n",
      "10000/10000 [==============================] - 176s 18ms/step - loss: 0.3721 - accuracy: 0.8335 - val_loss: 0.3849 - val_accuracy: 0.8268\n",
      "Epoch 4/20\n",
      "10000/10000 [==============================] - 176s 18ms/step - loss: 0.3574 - accuracy: 0.8417 - val_loss: 0.3852 - val_accuracy: 0.8275\n",
      "Epoch 5/20\n",
      "10000/10000 [==============================] - 176s 18ms/step - loss: 0.3433 - accuracy: 0.8486 - val_loss: 0.3922 - val_accuracy: 0.8265\n"
     ]
    }
   ],
   "source": [
    "history = model.fit(\n",
    "    X_train, y_train,\n",
    "    validation_data=(X_test, y_test),\n",
    "    epochs=20,                # Start with 20 (early stopping will likely stop sooner)\n",
    "    batch_size=128,\n",
    "    callbacks=[early_stop],\n",
    "    verbose=1\n",
    ")"
   ]
  },
  {
   "cell_type": "code",
   "execution_count": null,
   "id": "83659e58-a914-45af-a312-ec7a1868a405",
   "metadata": {},
   "outputs": [],
   "source": []
  }
 ],
 "metadata": {
  "kernelspec": {
   "display_name": "Python (dpn)",
   "language": "python",
   "name": "dpn"
  },
  "language_info": {
   "codemirror_mode": {
    "name": "ipython",
    "version": 3
   },
   "file_extension": ".py",
   "mimetype": "text/x-python",
   "name": "python",
   "nbconvert_exporter": "python",
   "pygments_lexer": "ipython3",
   "version": "3.10.16"
  }
 },
 "nbformat": 4,
 "nbformat_minor": 5
}
