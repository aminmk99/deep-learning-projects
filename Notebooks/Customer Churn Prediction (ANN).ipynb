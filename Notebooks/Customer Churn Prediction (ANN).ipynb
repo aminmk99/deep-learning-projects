{
 "cells": [
  {
   "cell_type": "markdown",
   "id": "899db9a7-3cdc-40ff-abc5-4bd3905d1d62",
   "metadata": {},
   "source": [
    "# Customer Churn Prediction (ANN)"
   ]
  },
  {
   "cell_type": "markdown",
   "id": "32ec1408-59e1-4dcd-ac26-6bbae54a6b12",
   "metadata": {},
   "source": [
    "## Description"
   ]
  },
  {
   "cell_type": "markdown",
   "id": "b4ce027f-a3c1-4d77-881b-1c0999c20d0b",
   "metadata": {},
   "source": [
    "<hr style=\"height:1px;border-width:0;color:black;background-color:black\">"
   ]
  },
  {
   "cell_type": "markdown",
   "id": "deb50bee-7693-4c43-980b-f19f8ebd66a3",
   "metadata": {},
   "source": [
    "### Importing Required Libraries"
   ]
  },
  {
   "cell_type": "code",
   "execution_count": 11,
   "id": "f2fe51b3-9795-40a2-b458-c5a9e06f7b85",
   "metadata": {},
   "outputs": [],
   "source": [
    "import numpy as np\n",
    "import pandas as pd"
   ]
  },
  {
   "cell_type": "code",
   "execution_count": 13,
   "id": "4381e8ed-27c6-42a8-b83c-e69b3b0e605f",
   "metadata": {},
   "outputs": [],
   "source": [
    "import tensorflow as tf"
   ]
  },
  {
   "cell_type": "markdown",
   "id": "592eeaa6-ddc9-4f13-a831-62f5d596a057",
   "metadata": {},
   "source": [
    "#### Checking if TensorFlow is using GPU properly"
   ]
  },
  {
   "cell_type": "code",
   "execution_count": 19,
   "id": "5b226f10-95b1-4c4c-aad6-d8f5e2371afc",
   "metadata": {
    "jupyter": {
     "source_hidden": true
    }
   },
   "outputs": [
    {
     "name": "stdout",
     "output_type": "stream",
     "text": [
      "✅ TensorFlow detected 1 GPU(s):\n",
      "  - PhysicalDevice(name='/physical_device:GPU:0', device_type='GPU')\n"
     ]
    }
   ],
   "source": [
    "gpus = tf.config.list_physical_devices('GPU') #this is the main code for listing all available GPU(s)\n",
    "if gpus:\n",
    "    print(f\"✅ TensorFlow detected {len(gpus)} GPU(s):\")\n",
    "    for gpu in gpus:\n",
    "        print(f\"  - {gpu}\")\n",
    "else:\n",
    "    print(\"❌ No GPU detected. TensorFlow is using CPU instead.\")"
   ]
  },
  {
   "cell_type": "markdown",
   "id": "6db7e77e-f64b-469d-9083-4db6ae9e912f",
   "metadata": {},
   "source": [
    "<hr style=\"height:1px;border-width:0;color:black;background-color:black\">"
   ]
  },
  {
   "cell_type": "markdown",
   "id": "eaba4962-9bb6-4411-9a76-aa9168a3fed5",
   "metadata": {},
   "source": [
    "### Section 1: Data Preprocessing"
   ]
  },
  {
   "cell_type": "code",
   "execution_count": 166,
   "id": "1f29fd46-3c46-49ea-b859-65496d54bfd0",
   "metadata": {},
   "outputs": [],
   "source": [
    "df = pd.read_csv('C:\\\\Users\\\\Amin\\\\DeepLearningProjects\\\\my-codes\\\\Data\\\\Churn_Modelling.csv')"
   ]
  },
  {
   "cell_type": "code",
   "execution_count": 174,
   "id": "04f5ac4d-263e-46ed-9c34-23b10f8432dc",
   "metadata": {},
   "outputs": [
    {
     "name": "stdout",
     "output_type": "stream",
     "text": [
      "<class 'pandas.core.frame.DataFrame'>\n",
      "RangeIndex: 10000 entries, 0 to 9999\n",
      "Data columns (total 14 columns):\n",
      " #   Column           Non-Null Count  Dtype  \n",
      "---  ------           --------------  -----  \n",
      " 0   RowNumber        10000 non-null  int64  \n",
      " 1   CustomerId       10000 non-null  int64  \n",
      " 2   Surname          10000 non-null  object \n",
      " 3   CreditScore      10000 non-null  int64  \n",
      " 4   Geography        10000 non-null  object \n",
      " 5   Gender           10000 non-null  object \n",
      " 6   Age              10000 non-null  int64  \n",
      " 7   Tenure           10000 non-null  int64  \n",
      " 8   Balance          10000 non-null  float64\n",
      " 9   NumOfProducts    10000 non-null  int64  \n",
      " 10  HasCrCard        10000 non-null  int64  \n",
      " 11  IsActiveMember   10000 non-null  int64  \n",
      " 12  EstimatedSalary  10000 non-null  float64\n",
      " 13  Exited           10000 non-null  int64  \n",
      "dtypes: float64(2), int64(9), object(3)\n",
      "memory usage: 1.1+ MB\n"
     ]
    }
   ],
   "source": [
    "df.info()"
   ]
  },
  {
   "cell_type": "code",
   "execution_count": 30,
   "id": "2982c910-908a-4201-af77-220ed01da4ef",
   "metadata": {},
   "outputs": [
    {
     "data": {
      "text/html": [
       "<div>\n",
       "<style scoped>\n",
       "    .dataframe tbody tr th:only-of-type {\n",
       "        vertical-align: middle;\n",
       "    }\n",
       "\n",
       "    .dataframe tbody tr th {\n",
       "        vertical-align: top;\n",
       "    }\n",
       "\n",
       "    .dataframe thead th {\n",
       "        text-align: right;\n",
       "    }\n",
       "</style>\n",
       "<table border=\"1\" class=\"dataframe\">\n",
       "  <thead>\n",
       "    <tr style=\"text-align: right;\">\n",
       "      <th></th>\n",
       "      <th>RowNumber</th>\n",
       "      <th>CustomerId</th>\n",
       "      <th>Surname</th>\n",
       "      <th>CreditScore</th>\n",
       "      <th>Geography</th>\n",
       "      <th>Gender</th>\n",
       "      <th>Age</th>\n",
       "      <th>Tenure</th>\n",
       "      <th>Balance</th>\n",
       "      <th>NumOfProducts</th>\n",
       "      <th>HasCrCard</th>\n",
       "      <th>IsActiveMember</th>\n",
       "      <th>EstimatedSalary</th>\n",
       "      <th>Exited</th>\n",
       "    </tr>\n",
       "  </thead>\n",
       "  <tbody>\n",
       "    <tr>\n",
       "      <th>0</th>\n",
       "      <td>1</td>\n",
       "      <td>15634602</td>\n",
       "      <td>Hargrave</td>\n",
       "      <td>619</td>\n",
       "      <td>France</td>\n",
       "      <td>Female</td>\n",
       "      <td>42</td>\n",
       "      <td>2</td>\n",
       "      <td>0.00</td>\n",
       "      <td>1</td>\n",
       "      <td>1</td>\n",
       "      <td>1</td>\n",
       "      <td>101348.88</td>\n",
       "      <td>1</td>\n",
       "    </tr>\n",
       "    <tr>\n",
       "      <th>1</th>\n",
       "      <td>2</td>\n",
       "      <td>15647311</td>\n",
       "      <td>Hill</td>\n",
       "      <td>608</td>\n",
       "      <td>Spain</td>\n",
       "      <td>Female</td>\n",
       "      <td>41</td>\n",
       "      <td>1</td>\n",
       "      <td>83807.86</td>\n",
       "      <td>1</td>\n",
       "      <td>0</td>\n",
       "      <td>1</td>\n",
       "      <td>112542.58</td>\n",
       "      <td>0</td>\n",
       "    </tr>\n",
       "    <tr>\n",
       "      <th>2</th>\n",
       "      <td>3</td>\n",
       "      <td>15619304</td>\n",
       "      <td>Onio</td>\n",
       "      <td>502</td>\n",
       "      <td>France</td>\n",
       "      <td>Female</td>\n",
       "      <td>42</td>\n",
       "      <td>8</td>\n",
       "      <td>159660.80</td>\n",
       "      <td>3</td>\n",
       "      <td>1</td>\n",
       "      <td>0</td>\n",
       "      <td>113931.57</td>\n",
       "      <td>1</td>\n",
       "    </tr>\n",
       "    <tr>\n",
       "      <th>3</th>\n",
       "      <td>4</td>\n",
       "      <td>15701354</td>\n",
       "      <td>Boni</td>\n",
       "      <td>699</td>\n",
       "      <td>France</td>\n",
       "      <td>Female</td>\n",
       "      <td>39</td>\n",
       "      <td>1</td>\n",
       "      <td>0.00</td>\n",
       "      <td>2</td>\n",
       "      <td>0</td>\n",
       "      <td>0</td>\n",
       "      <td>93826.63</td>\n",
       "      <td>0</td>\n",
       "    </tr>\n",
       "    <tr>\n",
       "      <th>4</th>\n",
       "      <td>5</td>\n",
       "      <td>15737888</td>\n",
       "      <td>Mitchell</td>\n",
       "      <td>850</td>\n",
       "      <td>Spain</td>\n",
       "      <td>Female</td>\n",
       "      <td>43</td>\n",
       "      <td>2</td>\n",
       "      <td>125510.82</td>\n",
       "      <td>1</td>\n",
       "      <td>1</td>\n",
       "      <td>1</td>\n",
       "      <td>79084.10</td>\n",
       "      <td>0</td>\n",
       "    </tr>\n",
       "  </tbody>\n",
       "</table>\n",
       "</div>"
      ],
      "text/plain": [
       "   RowNumber  CustomerId   Surname  CreditScore Geography  Gender  Age  \\\n",
       "0          1    15634602  Hargrave          619    France  Female   42   \n",
       "1          2    15647311      Hill          608     Spain  Female   41   \n",
       "2          3    15619304      Onio          502    France  Female   42   \n",
       "3          4    15701354      Boni          699    France  Female   39   \n",
       "4          5    15737888  Mitchell          850     Spain  Female   43   \n",
       "\n",
       "   Tenure    Balance  NumOfProducts  HasCrCard  IsActiveMember  \\\n",
       "0       2       0.00              1          1               1   \n",
       "1       1   83807.86              1          0               1   \n",
       "2       8  159660.80              3          1               0   \n",
       "3       1       0.00              2          0               0   \n",
       "4       2  125510.82              1          1               1   \n",
       "\n",
       "   EstimatedSalary  Exited  \n",
       "0        101348.88       1  \n",
       "1        112542.58       0  \n",
       "2        113931.57       1  \n",
       "3         93826.63       0  \n",
       "4         79084.10       0  "
      ]
     },
     "execution_count": 30,
     "metadata": {},
     "output_type": "execute_result"
    }
   ],
   "source": [
    "df.head()"
   ]
  },
  {
   "cell_type": "markdown",
   "id": "3232f2c4-c0f8-4287-9277-6e34bc9dc585",
   "metadata": {},
   "source": [
    "It seems that the first three features (columns) are not useful and as a resutl, we will drop those features. Plus, we will split our data into features (X) and targets (y)"
   ]
  },
  {
   "cell_type": "code",
   "execution_count": 147,
   "id": "fa39635b-9e2d-418f-8935-1efb11a410b2",
   "metadata": {},
   "outputs": [],
   "source": [
    "X = df.drop(['RowNumber', 'CustomerId', 'Surname'], axis=1)\n",
    "y = df['Exited']"
   ]
  },
  {
   "cell_type": "code",
   "execution_count": 149,
   "id": "6389aa8e-77a6-4cb2-9d40-a3e7e878c9ea",
   "metadata": {},
   "outputs": [
    {
     "data": {
      "text/html": [
       "<div>\n",
       "<style scoped>\n",
       "    .dataframe tbody tr th:only-of-type {\n",
       "        vertical-align: middle;\n",
       "    }\n",
       "\n",
       "    .dataframe tbody tr th {\n",
       "        vertical-align: top;\n",
       "    }\n",
       "\n",
       "    .dataframe thead th {\n",
       "        text-align: right;\n",
       "    }\n",
       "</style>\n",
       "<table border=\"1\" class=\"dataframe\">\n",
       "  <thead>\n",
       "    <tr style=\"text-align: right;\">\n",
       "      <th></th>\n",
       "      <th>CreditScore</th>\n",
       "      <th>Geography</th>\n",
       "      <th>Gender</th>\n",
       "      <th>Age</th>\n",
       "      <th>Tenure</th>\n",
       "      <th>Balance</th>\n",
       "      <th>NumOfProducts</th>\n",
       "      <th>HasCrCard</th>\n",
       "      <th>IsActiveMember</th>\n",
       "      <th>EstimatedSalary</th>\n",
       "      <th>Exited</th>\n",
       "    </tr>\n",
       "  </thead>\n",
       "  <tbody>\n",
       "    <tr>\n",
       "      <th>0</th>\n",
       "      <td>619</td>\n",
       "      <td>France</td>\n",
       "      <td>Female</td>\n",
       "      <td>42</td>\n",
       "      <td>2</td>\n",
       "      <td>0.00</td>\n",
       "      <td>1</td>\n",
       "      <td>1</td>\n",
       "      <td>1</td>\n",
       "      <td>101348.88</td>\n",
       "      <td>1</td>\n",
       "    </tr>\n",
       "    <tr>\n",
       "      <th>1</th>\n",
       "      <td>608</td>\n",
       "      <td>Spain</td>\n",
       "      <td>Female</td>\n",
       "      <td>41</td>\n",
       "      <td>1</td>\n",
       "      <td>83807.86</td>\n",
       "      <td>1</td>\n",
       "      <td>0</td>\n",
       "      <td>1</td>\n",
       "      <td>112542.58</td>\n",
       "      <td>0</td>\n",
       "    </tr>\n",
       "    <tr>\n",
       "      <th>2</th>\n",
       "      <td>502</td>\n",
       "      <td>France</td>\n",
       "      <td>Female</td>\n",
       "      <td>42</td>\n",
       "      <td>8</td>\n",
       "      <td>159660.80</td>\n",
       "      <td>3</td>\n",
       "      <td>1</td>\n",
       "      <td>0</td>\n",
       "      <td>113931.57</td>\n",
       "      <td>1</td>\n",
       "    </tr>\n",
       "    <tr>\n",
       "      <th>3</th>\n",
       "      <td>699</td>\n",
       "      <td>France</td>\n",
       "      <td>Female</td>\n",
       "      <td>39</td>\n",
       "      <td>1</td>\n",
       "      <td>0.00</td>\n",
       "      <td>2</td>\n",
       "      <td>0</td>\n",
       "      <td>0</td>\n",
       "      <td>93826.63</td>\n",
       "      <td>0</td>\n",
       "    </tr>\n",
       "    <tr>\n",
       "      <th>4</th>\n",
       "      <td>850</td>\n",
       "      <td>Spain</td>\n",
       "      <td>Female</td>\n",
       "      <td>43</td>\n",
       "      <td>2</td>\n",
       "      <td>125510.82</td>\n",
       "      <td>1</td>\n",
       "      <td>1</td>\n",
       "      <td>1</td>\n",
       "      <td>79084.10</td>\n",
       "      <td>0</td>\n",
       "    </tr>\n",
       "  </tbody>\n",
       "</table>\n",
       "</div>"
      ],
      "text/plain": [
       "   CreditScore Geography  Gender  Age  Tenure    Balance  NumOfProducts  \\\n",
       "0          619    France  Female   42       2       0.00              1   \n",
       "1          608     Spain  Female   41       1   83807.86              1   \n",
       "2          502    France  Female   42       8  159660.80              3   \n",
       "3          699    France  Female   39       1       0.00              2   \n",
       "4          850     Spain  Female   43       2  125510.82              1   \n",
       "\n",
       "   HasCrCard  IsActiveMember  EstimatedSalary  Exited  \n",
       "0          1               1        101348.88       1  \n",
       "1          0               1        112542.58       0  \n",
       "2          1               0        113931.57       1  \n",
       "3          0               0         93826.63       0  \n",
       "4          1               1         79084.10       0  "
      ]
     },
     "execution_count": 149,
     "metadata": {},
     "output_type": "execute_result"
    }
   ],
   "source": [
    "X.head()"
   ]
  },
  {
   "cell_type": "code",
   "execution_count": 151,
   "id": "aba5bfff-7b09-47b3-9778-f28470a18a7a",
   "metadata": {},
   "outputs": [
    {
     "data": {
      "text/plain": [
       "0    1\n",
       "1    0\n",
       "2    1\n",
       "3    0\n",
       "4    0\n",
       "Name: Exited, dtype: int64"
      ]
     },
     "execution_count": 151,
     "metadata": {},
     "output_type": "execute_result"
    }
   ],
   "source": [
    "y.head()"
   ]
  },
  {
   "cell_type": "markdown",
   "id": "cfee7d12-2784-4e5d-9688-e88f8b199c3e",
   "metadata": {},
   "source": [
    "#### Another Approach"
   ]
  },
  {
   "cell_type": "code",
   "execution_count": 153,
   "id": "ab6902f4-a7bf-429a-8778-6e2288a8ad8a",
   "metadata": {},
   "outputs": [],
   "source": [
    "X = df.iloc[:, 3:-1]\n",
    "y = df.iloc[:, -1]"
   ]
  },
  {
   "cell_type": "code",
   "execution_count": 155,
   "id": "8ea5f6f1-5e6d-4076-8f11-c3d7ec555806",
   "metadata": {},
   "outputs": [
    {
     "data": {
      "text/html": [
       "<div>\n",
       "<style scoped>\n",
       "    .dataframe tbody tr th:only-of-type {\n",
       "        vertical-align: middle;\n",
       "    }\n",
       "\n",
       "    .dataframe tbody tr th {\n",
       "        vertical-align: top;\n",
       "    }\n",
       "\n",
       "    .dataframe thead th {\n",
       "        text-align: right;\n",
       "    }\n",
       "</style>\n",
       "<table border=\"1\" class=\"dataframe\">\n",
       "  <thead>\n",
       "    <tr style=\"text-align: right;\">\n",
       "      <th></th>\n",
       "      <th>CreditScore</th>\n",
       "      <th>Geography</th>\n",
       "      <th>Gender</th>\n",
       "      <th>Age</th>\n",
       "      <th>Tenure</th>\n",
       "      <th>Balance</th>\n",
       "      <th>NumOfProducts</th>\n",
       "      <th>HasCrCard</th>\n",
       "      <th>IsActiveMember</th>\n",
       "      <th>EstimatedSalary</th>\n",
       "    </tr>\n",
       "  </thead>\n",
       "  <tbody>\n",
       "    <tr>\n",
       "      <th>0</th>\n",
       "      <td>619</td>\n",
       "      <td>France</td>\n",
       "      <td>Female</td>\n",
       "      <td>42</td>\n",
       "      <td>2</td>\n",
       "      <td>0.00</td>\n",
       "      <td>1</td>\n",
       "      <td>1</td>\n",
       "      <td>1</td>\n",
       "      <td>101348.88</td>\n",
       "    </tr>\n",
       "    <tr>\n",
       "      <th>1</th>\n",
       "      <td>608</td>\n",
       "      <td>Spain</td>\n",
       "      <td>Female</td>\n",
       "      <td>41</td>\n",
       "      <td>1</td>\n",
       "      <td>83807.86</td>\n",
       "      <td>1</td>\n",
       "      <td>0</td>\n",
       "      <td>1</td>\n",
       "      <td>112542.58</td>\n",
       "    </tr>\n",
       "    <tr>\n",
       "      <th>2</th>\n",
       "      <td>502</td>\n",
       "      <td>France</td>\n",
       "      <td>Female</td>\n",
       "      <td>42</td>\n",
       "      <td>8</td>\n",
       "      <td>159660.80</td>\n",
       "      <td>3</td>\n",
       "      <td>1</td>\n",
       "      <td>0</td>\n",
       "      <td>113931.57</td>\n",
       "    </tr>\n",
       "    <tr>\n",
       "      <th>3</th>\n",
       "      <td>699</td>\n",
       "      <td>France</td>\n",
       "      <td>Female</td>\n",
       "      <td>39</td>\n",
       "      <td>1</td>\n",
       "      <td>0.00</td>\n",
       "      <td>2</td>\n",
       "      <td>0</td>\n",
       "      <td>0</td>\n",
       "      <td>93826.63</td>\n",
       "    </tr>\n",
       "    <tr>\n",
       "      <th>4</th>\n",
       "      <td>850</td>\n",
       "      <td>Spain</td>\n",
       "      <td>Female</td>\n",
       "      <td>43</td>\n",
       "      <td>2</td>\n",
       "      <td>125510.82</td>\n",
       "      <td>1</td>\n",
       "      <td>1</td>\n",
       "      <td>1</td>\n",
       "      <td>79084.10</td>\n",
       "    </tr>\n",
       "  </tbody>\n",
       "</table>\n",
       "</div>"
      ],
      "text/plain": [
       "   CreditScore Geography  Gender  Age  Tenure    Balance  NumOfProducts  \\\n",
       "0          619    France  Female   42       2       0.00              1   \n",
       "1          608     Spain  Female   41       1   83807.86              1   \n",
       "2          502    France  Female   42       8  159660.80              3   \n",
       "3          699    France  Female   39       1       0.00              2   \n",
       "4          850     Spain  Female   43       2  125510.82              1   \n",
       "\n",
       "   HasCrCard  IsActiveMember  EstimatedSalary  \n",
       "0          1               1        101348.88  \n",
       "1          0               1        112542.58  \n",
       "2          1               0        113931.57  \n",
       "3          0               0         93826.63  \n",
       "4          1               1         79084.10  "
      ]
     },
     "execution_count": 155,
     "metadata": {},
     "output_type": "execute_result"
    }
   ],
   "source": [
    "X.head()"
   ]
  },
  {
   "cell_type": "code",
   "execution_count": 137,
   "id": "5a08210f-4bb5-417b-adc0-c77ba4965118",
   "metadata": {},
   "outputs": [
    {
     "data": {
      "text/plain": [
       "0    1\n",
       "1    0\n",
       "2    1\n",
       "3    0\n",
       "4    0\n",
       "Name: Exited, dtype: int64"
      ]
     },
     "execution_count": 137,
     "metadata": {},
     "output_type": "execute_result"
    }
   ],
   "source": [
    "y.head()"
   ]
  },
  {
   "cell_type": "code",
   "execution_count": 139,
   "id": "5825a3f3-14ae-4f47-a9f8-66a713eb575a",
   "metadata": {},
   "outputs": [],
   "source": [
    "X = X.values\n",
    "y = y.values"
   ]
  },
  {
   "cell_type": "code",
   "execution_count": 141,
   "id": "ce2f78df-29f2-410e-bb49-c3cfcc40856a",
   "metadata": {},
   "outputs": [
    {
     "data": {
      "text/plain": [
       "array([[619, 'France', 'Female', ..., 1, 1, 101348.88],\n",
       "       [608, 'Spain', 'Female', ..., 0, 1, 112542.58],\n",
       "       [502, 'France', 'Female', ..., 1, 0, 113931.57],\n",
       "       ...,\n",
       "       [709, 'France', 'Female', ..., 0, 1, 42085.58],\n",
       "       [772, 'Germany', 'Male', ..., 1, 0, 92888.52],\n",
       "       [792, 'France', 'Female', ..., 1, 0, 38190.78]], dtype=object)"
      ]
     },
     "execution_count": 141,
     "metadata": {},
     "output_type": "execute_result"
    }
   ],
   "source": [
    "X"
   ]
  },
  {
   "cell_type": "code",
   "execution_count": 143,
   "id": "a6d75e5f-b4a7-4fc4-972b-336b91156693",
   "metadata": {},
   "outputs": [
    {
     "data": {
      "text/plain": [
       "array([1, 0, 1, ..., 1, 1, 0], dtype=int64)"
      ]
     },
     "execution_count": 143,
     "metadata": {},
     "output_type": "execute_result"
    }
   ],
   "source": [
    "y"
   ]
  },
  {
   "cell_type": "markdown",
   "id": "4ac98ff1-b400-4a95-a121-9fa34e6e5492",
   "metadata": {},
   "source": [
    "<hr style=\"height:1px;border-width:0;color:black;background-color:black\">"
   ]
  },
  {
   "cell_type": "markdown",
   "id": "6c16e705-1279-4af8-bee9-9f1e606125eb",
   "metadata": {},
   "source": [
    "### Section 2: Encoding Categorical Data"
   ]
  },
  {
   "cell_type": "markdown",
   "id": "a2ac0850-44d0-4227-9b33-1145110c0bc6",
   "metadata": {},
   "source": [
    "Due to the fact that the input of Deep Learning must be numerical, we have to encode the categorical features (like Geography and Gender in this dataset)"
   ]
  },
  {
   "cell_type": "markdown",
   "id": "b1653fb8-9727-4f0b-8fde-6e543cc7c699",
   "metadata": {},
   "source": [
    "#### One-Hot Encoding to the 'Gender' column (using pd.get_dummies())"
   ]
  },
  {
   "cell_type": "code",
   "execution_count": 168,
   "id": "1b29b790-1967-4376-9758-1f0fd98a487c",
   "metadata": {},
   "outputs": [],
   "source": [
    "X = pd.get_dummies(X, columns=['Gender'], drop_first=True)"
   ]
  },
  {
   "cell_type": "code",
   "execution_count": 176,
   "id": "651a3886-c84a-440f-a7ed-148c8fb048cf",
   "metadata": {},
   "outputs": [],
   "source": [
    "X['Gender_Male'] = X['Gender_Male'].astype(int)"
   ]
  },
  {
   "cell_type": "code",
   "execution_count": 178,
   "id": "b15e192f-f7cf-44c5-a789-0e501eca4ed5",
   "metadata": {},
   "outputs": [
    {
     "data": {
      "text/html": [
       "<div>\n",
       "<style scoped>\n",
       "    .dataframe tbody tr th:only-of-type {\n",
       "        vertical-align: middle;\n",
       "    }\n",
       "\n",
       "    .dataframe tbody tr th {\n",
       "        vertical-align: top;\n",
       "    }\n",
       "\n",
       "    .dataframe thead th {\n",
       "        text-align: right;\n",
       "    }\n",
       "</style>\n",
       "<table border=\"1\" class=\"dataframe\">\n",
       "  <thead>\n",
       "    <tr style=\"text-align: right;\">\n",
       "      <th></th>\n",
       "      <th>CreditScore</th>\n",
       "      <th>Geography</th>\n",
       "      <th>Age</th>\n",
       "      <th>Tenure</th>\n",
       "      <th>Balance</th>\n",
       "      <th>NumOfProducts</th>\n",
       "      <th>HasCrCard</th>\n",
       "      <th>IsActiveMember</th>\n",
       "      <th>EstimatedSalary</th>\n",
       "      <th>Gender_Male</th>\n",
       "    </tr>\n",
       "  </thead>\n",
       "  <tbody>\n",
       "    <tr>\n",
       "      <th>0</th>\n",
       "      <td>619</td>\n",
       "      <td>France</td>\n",
       "      <td>42</td>\n",
       "      <td>2</td>\n",
       "      <td>0.00</td>\n",
       "      <td>1</td>\n",
       "      <td>1</td>\n",
       "      <td>1</td>\n",
       "      <td>101348.88</td>\n",
       "      <td>0</td>\n",
       "    </tr>\n",
       "    <tr>\n",
       "      <th>1</th>\n",
       "      <td>608</td>\n",
       "      <td>Spain</td>\n",
       "      <td>41</td>\n",
       "      <td>1</td>\n",
       "      <td>83807.86</td>\n",
       "      <td>1</td>\n",
       "      <td>0</td>\n",
       "      <td>1</td>\n",
       "      <td>112542.58</td>\n",
       "      <td>0</td>\n",
       "    </tr>\n",
       "    <tr>\n",
       "      <th>2</th>\n",
       "      <td>502</td>\n",
       "      <td>France</td>\n",
       "      <td>42</td>\n",
       "      <td>8</td>\n",
       "      <td>159660.80</td>\n",
       "      <td>3</td>\n",
       "      <td>1</td>\n",
       "      <td>0</td>\n",
       "      <td>113931.57</td>\n",
       "      <td>0</td>\n",
       "    </tr>\n",
       "    <tr>\n",
       "      <th>3</th>\n",
       "      <td>699</td>\n",
       "      <td>France</td>\n",
       "      <td>39</td>\n",
       "      <td>1</td>\n",
       "      <td>0.00</td>\n",
       "      <td>2</td>\n",
       "      <td>0</td>\n",
       "      <td>0</td>\n",
       "      <td>93826.63</td>\n",
       "      <td>0</td>\n",
       "    </tr>\n",
       "    <tr>\n",
       "      <th>4</th>\n",
       "      <td>850</td>\n",
       "      <td>Spain</td>\n",
       "      <td>43</td>\n",
       "      <td>2</td>\n",
       "      <td>125510.82</td>\n",
       "      <td>1</td>\n",
       "      <td>1</td>\n",
       "      <td>1</td>\n",
       "      <td>79084.10</td>\n",
       "      <td>0</td>\n",
       "    </tr>\n",
       "  </tbody>\n",
       "</table>\n",
       "</div>"
      ],
      "text/plain": [
       "   CreditScore Geography  Age  Tenure    Balance  NumOfProducts  HasCrCard  \\\n",
       "0          619    France   42       2       0.00              1          1   \n",
       "1          608     Spain   41       1   83807.86              1          0   \n",
       "2          502    France   42       8  159660.80              3          1   \n",
       "3          699    France   39       1       0.00              2          0   \n",
       "4          850     Spain   43       2  125510.82              1          1   \n",
       "\n",
       "   IsActiveMember  EstimatedSalary  Gender_Male  \n",
       "0               1        101348.88            0  \n",
       "1               1        112542.58            0  \n",
       "2               0        113931.57            0  \n",
       "3               0         93826.63            0  \n",
       "4               1         79084.10            0  "
      ]
     },
     "execution_count": 178,
     "metadata": {},
     "output_type": "execute_result"
    }
   ],
   "source": [
    "X.head()"
   ]
  },
  {
   "cell_type": "markdown",
   "id": "66e3ad90-00df-4f34-bc95-8592263f67ba",
   "metadata": {},
   "source": [
    "---"
   ]
  },
  {
   "cell_type": "markdown",
   "id": "2a279891-4c84-40b6-b523-883d51afe7bd",
   "metadata": {},
   "source": [
    "#### One Hot Encoding for 'Geoghraphy' Column (using library)"
   ]
  },
  {
   "cell_type": "code",
   "execution_count": 68,
   "id": "4b22e0a4-e57d-4190-9350-29c8309e0315",
   "metadata": {},
   "outputs": [],
   "source": [
    "from sklearn.compose import ColumnTransformer\n",
    "from sklearn.preprocessing import OneHotEncoder"
   ]
  },
  {
   "cell_type": "markdown",
   "id": "c6d28315-6764-4e0e-8e9e-25e988add93b",
   "metadata": {},
   "source": [
    "This approach should be implemented on numpy array because if it applies to the pandas dataframe, the display of numbers will be different."
   ]
  },
  {
   "cell_type": "code",
   "execution_count": 188,
   "id": "6fa78be6-bc1d-439c-8339-99223a8cdff4",
   "metadata": {},
   "outputs": [
    {
     "data": {
      "text/plain": [
       "array([1.0000000e+00, 0.0000000e+00, 0.0000000e+00, 6.1900000e+02,\n",
       "       4.2000000e+01, 2.0000000e+00, 0.0000000e+00, 1.0000000e+00,\n",
       "       1.0000000e+00, 1.0000000e+00, 1.0134888e+05, 0.0000000e+00])"
      ]
     },
     "execution_count": 188,
     "metadata": {},
     "output_type": "execute_result"
    }
   ],
   "source": [
    "ct.fit_transform(X)[0]"
   ]
  },
  {
   "cell_type": "code",
   "execution_count": 108,
   "id": "e6d1d959-9b31-4eb3-a423-0c8723abb35f",
   "metadata": {},
   "outputs": [
    {
     "data": {
      "text/plain": [
       "array([619, 'France', 'Female', 42, 2, 0.0, 1, 1, 1, 101348.88],\n",
       "      dtype=object)"
      ]
     },
     "execution_count": 108,
     "metadata": {},
     "output_type": "execute_result"
    }
   ],
   "source": [
    "X[0]"
   ]
  },
  {
   "cell_type": "code",
   "execution_count": 199,
   "id": "3e22961d-2e70-4c24-a10e-b9126c406830",
   "metadata": {},
   "outputs": [],
   "source": [
    "X = X.values\n",
    "y = y.values"
   ]
  },
  {
   "cell_type": "code",
   "execution_count": 201,
   "id": "c330254a-63b2-4749-8e3b-a4446810a250",
   "metadata": {},
   "outputs": [],
   "source": [
    "# Apply OneHotEncoder to 'Geography' (column index 1)\n",
    "ct = ColumnTransformer(transformers=[('encoder', OneHotEncoder(), [1])], remainder='passthrough')"
   ]
  },
  {
   "cell_type": "code",
   "execution_count": 203,
   "id": "64f7ffdf-5bd2-4792-bcd1-e3cbb98313ba",
   "metadata": {},
   "outputs": [],
   "source": [
    "X = ct.fit_transform(X)"
   ]
  },
  {
   "cell_type": "code",
   "execution_count": 205,
   "id": "c98001b2-7308-408a-8dda-7fd5d5124158",
   "metadata": {},
   "outputs": [
    {
     "data": {
      "text/plain": [
       "array([1.0, 0.0, 0.0, 619, 42, 2, 0.0, 1, 1, 1, 101348.88, 0],\n",
       "      dtype=object)"
      ]
     },
     "execution_count": 205,
     "metadata": {},
     "output_type": "execute_result"
    }
   ],
   "source": [
    "X[0]"
   ]
  },
  {
   "cell_type": "markdown",
   "id": "fe16a28d-6d5c-4b5d-9f02-2c5b2d5869b5",
   "metadata": {},
   "source": [
    "<hr style=\"height:1px;border-width:0;color:black;background-color:black\">"
   ]
  },
  {
   "cell_type": "markdown",
   "id": "1bfccf45-7a00-4c1a-a282-bf5590d297cb",
   "metadata": {},
   "source": [
    "### Section 3: Scaling the Features"
   ]
  },
  {
   "cell_type": "markdown",
   "id": "7cd5733d-3d00-42c6-b118-6a644ef4857b",
   "metadata": {},
   "source": [
    "Deep Learning models require scaled data. Therefore, we need to scale them before training our model"
   ]
  },
  {
   "cell_type": "code",
   "execution_count": 213,
   "id": "9ac6ba64-ffbc-497a-86cc-f9de56b8bec6",
   "metadata": {},
   "outputs": [],
   "source": [
    "from sklearn.preprocessing import StandardScaler"
   ]
  },
  {
   "cell_type": "code",
   "execution_count": 215,
   "id": "9fca382f-6201-40c5-ab91-33bfa3058335",
   "metadata": {},
   "outputs": [],
   "source": [
    "scaler = StandardScaler()"
   ]
  },
  {
   "cell_type": "code",
   "execution_count": 217,
   "id": "4859cac6-4118-4837-b304-094c00802d38",
   "metadata": {},
   "outputs": [
    {
     "data": {
      "text/plain": [
       "array([1.0, 0.0, 0.0, 619, 42, 2, 0.0, 1, 1, 1, 101348.88, 0],\n",
       "      dtype=object)"
      ]
     },
     "execution_count": 217,
     "metadata": {},
     "output_type": "execute_result"
    }
   ],
   "source": [
    "X[0]"
   ]
  },
  {
   "cell_type": "code",
   "execution_count": 225,
   "id": "f292de54-90a8-405a-b522-b7ec84389242",
   "metadata": {},
   "outputs": [],
   "source": [
    "X = scaler.fit_transform(X)"
   ]
  },
  {
   "cell_type": "code",
   "execution_count": 227,
   "id": "de996ae0-7d8c-42b5-9a45-216786964bd3",
   "metadata": {},
   "outputs": [
    {
     "data": {
      "text/plain": [
       "array([ 0.99720391, -0.57873591, -0.57380915, -0.32622142,  0.29351742,\n",
       "       -1.04175968, -1.22584767, -0.91158349,  0.64609167,  0.97024255,\n",
       "        0.02188649, -1.09598752])"
      ]
     },
     "execution_count": 227,
     "metadata": {},
     "output_type": "execute_result"
    }
   ],
   "source": [
    "X[0]"
   ]
  },
  {
   "cell_type": "markdown",
   "id": "abad0890-73e9-4fe9-9686-2522fcfadeed",
   "metadata": {},
   "source": [
    "<hr style=\"height:1px;border-width:0;color:black;background-color:black\">"
   ]
  },
  {
   "cell_type": "markdown",
   "id": "8a24c487-b08b-4ca1-adb7-df53fb8bc3da",
   "metadata": {},
   "source": [
    "### Section 4 : Splitting the Data"
   ]
  },
  {
   "cell_type": "markdown",
   "id": "121f1793-b8f7-4add-a416-f8419a7a1224",
   "metadata": {},
   "source": [
    "#### Splitting the Data set into Training set and Test set"
   ]
  },
  {
   "cell_type": "code",
   "execution_count": 238,
   "id": "d521beb4-8b78-40a8-acec-7fa78d1141dc",
   "metadata": {},
   "outputs": [],
   "source": [
    "from sklearn.model_selection import train_test_split"
   ]
  },
  {
   "cell_type": "code",
   "execution_count": 240,
   "id": "1ffd0e27-d06f-403d-918d-658136700676",
   "metadata": {},
   "outputs": [],
   "source": [
    "X_train, X_test, y_train, y_test = train_test_split(X, y, test_size=0.33, random_state=42)"
   ]
  },
  {
   "cell_type": "code",
   "execution_count": 244,
   "id": "4da243e5-ae47-4886-b798-a791009e9b96",
   "metadata": {},
   "outputs": [
    {
     "data": {
      "text/plain": [
       "6700"
      ]
     },
     "execution_count": 244,
     "metadata": {},
     "output_type": "execute_result"
    }
   ],
   "source": [
    "len(X_train)"
   ]
  },
  {
   "cell_type": "code",
   "execution_count": 246,
   "id": "6b71c49b-c324-4d0d-8a92-44e4b00eb4ea",
   "metadata": {},
   "outputs": [
    {
     "data": {
      "text/plain": [
       "3300"
      ]
     },
     "execution_count": 246,
     "metadata": {},
     "output_type": "execute_result"
    }
   ],
   "source": [
    "len(X_test)"
   ]
  },
  {
   "cell_type": "code",
   "execution_count": 248,
   "id": "59e8340a-d797-456b-a820-095f8494c542",
   "metadata": {},
   "outputs": [
    {
     "data": {
      "text/plain": [
       "6700"
      ]
     },
     "execution_count": 248,
     "metadata": {},
     "output_type": "execute_result"
    }
   ],
   "source": [
    "len(y_train)"
   ]
  },
  {
   "cell_type": "code",
   "execution_count": 250,
   "id": "e2c980df-61e6-4122-9c29-1a66f1272b90",
   "metadata": {},
   "outputs": [
    {
     "data": {
      "text/plain": [
       "3300"
      ]
     },
     "execution_count": 250,
     "metadata": {},
     "output_type": "execute_result"
    }
   ],
   "source": [
    "len(y_test)"
   ]
  },
  {
   "cell_type": "markdown",
   "id": "c308d8d2-2918-494e-8ca5-320bef988fd9",
   "metadata": {},
   "source": [
    "<hr style=\"height:1px;border-width:0;color:black;background-color:black\">"
   ]
  },
  {
   "cell_type": "markdown",
   "id": "86ee38a1-7332-4e9b-8726-996eb8da8a9d",
   "metadata": {},
   "source": [
    "### Section 5: Bulding the ANN"
   ]
  },
  {
   "cell_type": "markdown",
   "id": "83b21251-9adf-49ea-8afa-8cac27d1f14a",
   "metadata": {},
   "source": [
    "#### Initializing the Ann"
   ]
  },
  {
   "cell_type": "code",
   "execution_count": 256,
   "id": "2cdf0d74-075c-4fad-9cca-03fcaca85a69",
   "metadata": {},
   "outputs": [],
   "source": [
    "ann = tf.keras.models.Sequential()"
   ]
  },
  {
   "cell_type": "markdown",
   "id": "ab833b5d-b1cb-49e3-8160-f2f7474d8ba0",
   "metadata": {},
   "source": [
    "For now, we are going to use only one hidden layer, so we will be able to compare with a model with higher hidden layers"
   ]
  },
  {
   "cell_type": "markdown",
   "id": "16085e73-c44b-43fa-a8fa-bfeac77aa65c",
   "metadata": {},
   "source": [
    "#### Adding the input Layer and First Hidden Layer"
   ]
  },
  {
   "cell_type": "markdown",
   "id": "2fa2db05-50c9-4e11-8489-d38110f0b0b1",
   "metadata": {},
   "source": [
    "# 🧠 Understanding the First Hidden Layer in an ANN\n",
    "\n",
    "In a **Sequential Artificial Neural Network (ANN)**, the **first hidden layer also serves as the input layer** because it directly receives the raw input features. Unlike traditional architectures where an explicit input layer is defined, **Keras automatically infers the input shape** when the first hidden layer is added.\n",
    "\n",
    "## 🔢 Choosing the Number of Neurons\n",
    "The number of neurons (**units**) in this first hidden layer is a crucial hyperparameter. While there is no fixed rule, a commonly used **rule of thumb** is:\n",
    "\n",
    "Number of neurons = (number of input features + number of output neurons) / 2\n",
    "\n",
    "## 🎯 Key Points:\n",
    "- This **first hidden layer processes the raw inputs** and passes them to the next layer.\n",
    "- The above rule **provides a balanced starting point** for determining the number of neurons.\n",
    "- **Experimentation is key!** Try values like **8, 16, 32, or more**, and adjust based on performance.\n",
    "\n",
    "🔍 *Optimizing this number can help balance learning capacity and computational efficiency!* 🚀\n"
   ]
  },
  {
   "cell_type": "code",
   "execution_count": 268,
   "id": "a83b8b68-553f-4ba6-9c7b-ce5e74357f44",
   "metadata": {},
   "outputs": [],
   "source": [
    "ann.add(tf.keras.layers.Dense(units=6,activation='relu'))"
   ]
  },
  {
   "cell_type": "markdown",
   "id": "75a27d90-37d4-43d5-94a9-eef9bfef920c",
   "metadata": {},
   "source": [
    "#### Adding the Second Hidden Layer"
   ]
  },
  {
   "cell_type": "code",
   "execution_count": 271,
   "id": "a5b9f7c4-aec0-44af-b17d-fde14613a92f",
   "metadata": {},
   "outputs": [],
   "source": [
    "ann.add(tf.keras.layers.Dense(units=6,activation='relu'))"
   ]
  },
  {
   "cell_type": "markdown",
   "id": "f9c225cb-73c5-4f3d-8f7d-67eb4d111ee7",
   "metadata": {},
   "source": [
    "#### Adding the Output Layer"
   ]
  },
  {
   "cell_type": "code",
   "execution_count": 274,
   "id": "447f26c0-5ccd-46bc-b866-11f635544d55",
   "metadata": {},
   "outputs": [],
   "source": [
    "ann.add(tf.keras.layers.Dense(units=1,activation='sigmoid'))"
   ]
  },
  {
   "cell_type": "markdown",
   "id": "8e4f1ee8-39b1-4f4a-a352-0bc7d400aefd",
   "metadata": {},
   "source": [
    "<hr style=\"height:1px;border-width:0;color:black;background-color:black\">"
   ]
  },
  {
   "cell_type": "markdown",
   "id": "a5152dc6-9621-4a89-9147-79045d26ab68",
   "metadata": {},
   "source": [
    "### Part6 : Training the ANN"
   ]
  },
  {
   "cell_type": "markdown",
   "id": "82cde3ad-d608-4895-9024-6be94c7c1d2b",
   "metadata": {},
   "source": [
    "#### Compiling the ANN"
   ]
  },
  {
   "cell_type": "code",
   "execution_count": 283,
   "id": "473223c4-3c85-4a00-b5ab-2342e615b405",
   "metadata": {},
   "outputs": [],
   "source": [
    "ann.compile(optimizer='adam', loss='binary_crossentropy', metrics=['accuracy'])"
   ]
  },
  {
   "cell_type": "markdown",
   "id": "bd9c82f5-8176-4e14-b657-8d22ab253056",
   "metadata": {},
   "source": [
    "#### Training the ANN on Training Set"
   ]
  },
  {
   "cell_type": "code",
   "execution_count": 286,
   "id": "4b686cc1-7191-42dc-8e7c-6ecf938b0753",
   "metadata": {},
   "outputs": [
    {
     "name": "stdout",
     "output_type": "stream",
     "text": [
      "Epoch 1/100\n",
      "210/210 [==============================] - 2s 2ms/step - loss: 0.6074 - accuracy: 0.7616\n",
      "Epoch 2/100\n",
      "210/210 [==============================] - 0s 2ms/step - loss: 0.4930 - accuracy: 0.7919\n",
      "Epoch 3/100\n",
      "210/210 [==============================] - 0s 2ms/step - loss: 0.4601 - accuracy: 0.7919\n",
      "Epoch 4/100\n",
      "210/210 [==============================] - 0s 2ms/step - loss: 0.4475 - accuracy: 0.7919\n",
      "Epoch 5/100\n",
      "210/210 [==============================] - 0s 2ms/step - loss: 0.4406 - accuracy: 0.7945\n",
      "Epoch 6/100\n",
      "210/210 [==============================] - 0s 2ms/step - loss: 0.4357 - accuracy: 0.8072\n",
      "Epoch 7/100\n",
      "210/210 [==============================] - 0s 2ms/step - loss: 0.4315 - accuracy: 0.8093\n",
      "Epoch 8/100\n",
      "210/210 [==============================] - 0s 2ms/step - loss: 0.4274 - accuracy: 0.8154\n",
      "Epoch 9/100\n",
      "210/210 [==============================] - 0s 2ms/step - loss: 0.4229 - accuracy: 0.8200\n",
      "Epoch 10/100\n",
      "210/210 [==============================] - 0s 2ms/step - loss: 0.4188 - accuracy: 0.8237\n",
      "Epoch 11/100\n",
      "210/210 [==============================] - 0s 2ms/step - loss: 0.4146 - accuracy: 0.8273\n",
      "Epoch 12/100\n",
      "210/210 [==============================] - 0s 2ms/step - loss: 0.4109 - accuracy: 0.8285\n",
      "Epoch 13/100\n",
      "210/210 [==============================] - 0s 2ms/step - loss: 0.4073 - accuracy: 0.8285\n",
      "Epoch 14/100\n",
      "210/210 [==============================] - 0s 2ms/step - loss: 0.4046 - accuracy: 0.8301\n",
      "Epoch 15/100\n",
      "210/210 [==============================] - 0s 2ms/step - loss: 0.4019 - accuracy: 0.8293\n",
      "Epoch 16/100\n",
      "210/210 [==============================] - 0s 2ms/step - loss: 0.3999 - accuracy: 0.8313\n",
      "Epoch 17/100\n",
      "210/210 [==============================] - 0s 2ms/step - loss: 0.3976 - accuracy: 0.8327\n",
      "Epoch 18/100\n",
      "210/210 [==============================] - 0s 2ms/step - loss: 0.3957 - accuracy: 0.8322\n",
      "Epoch 19/100\n",
      "210/210 [==============================] - 0s 2ms/step - loss: 0.3934 - accuracy: 0.8334\n",
      "Epoch 20/100\n",
      "210/210 [==============================] - 1s 2ms/step - loss: 0.3906 - accuracy: 0.8346\n",
      "Epoch 21/100\n",
      "210/210 [==============================] - 1s 2ms/step - loss: 0.3878 - accuracy: 0.8387\n",
      "Epoch 22/100\n",
      "210/210 [==============================] - 0s 2ms/step - loss: 0.3839 - accuracy: 0.8385\n",
      "Epoch 23/100\n",
      "210/210 [==============================] - 0s 2ms/step - loss: 0.3799 - accuracy: 0.8401\n",
      "Epoch 24/100\n",
      "210/210 [==============================] - 1s 2ms/step - loss: 0.3764 - accuracy: 0.8416\n",
      "Epoch 25/100\n",
      "210/210 [==============================] - 0s 2ms/step - loss: 0.3731 - accuracy: 0.8434\n",
      "Epoch 26/100\n",
      "210/210 [==============================] - 0s 2ms/step - loss: 0.3706 - accuracy: 0.8434\n",
      "Epoch 27/100\n",
      "210/210 [==============================] - 0s 2ms/step - loss: 0.3673 - accuracy: 0.8449\n",
      "Epoch 28/100\n",
      "210/210 [==============================] - 0s 2ms/step - loss: 0.3644 - accuracy: 0.8445\n",
      "Epoch 29/100\n",
      "210/210 [==============================] - 0s 2ms/step - loss: 0.3623 - accuracy: 0.8481\n",
      "Epoch 30/100\n",
      "210/210 [==============================] - 0s 2ms/step - loss: 0.3601 - accuracy: 0.8473\n",
      "Epoch 31/100\n",
      "210/210 [==============================] - 1s 2ms/step - loss: 0.3586 - accuracy: 0.8512\n",
      "Epoch 32/100\n",
      "210/210 [==============================] - 0s 2ms/step - loss: 0.3574 - accuracy: 0.8525\n",
      "Epoch 33/100\n",
      "210/210 [==============================] - 0s 2ms/step - loss: 0.3559 - accuracy: 0.8527\n",
      "Epoch 34/100\n",
      "210/210 [==============================] - 1s 2ms/step - loss: 0.3545 - accuracy: 0.8527\n",
      "Epoch 35/100\n",
      "210/210 [==============================] - 0s 2ms/step - loss: 0.3532 - accuracy: 0.8527\n",
      "Epoch 36/100\n",
      "210/210 [==============================] - 0s 2ms/step - loss: 0.3518 - accuracy: 0.8531\n",
      "Epoch 37/100\n",
      "210/210 [==============================] - 0s 2ms/step - loss: 0.3508 - accuracy: 0.8543\n",
      "Epoch 38/100\n",
      "210/210 [==============================] - 0s 2ms/step - loss: 0.3505 - accuracy: 0.8555\n",
      "Epoch 39/100\n",
      "210/210 [==============================] - 0s 2ms/step - loss: 0.3494 - accuracy: 0.8546\n",
      "Epoch 40/100\n",
      "210/210 [==============================] - 0s 2ms/step - loss: 0.3491 - accuracy: 0.8558\n",
      "Epoch 41/100\n",
      "210/210 [==============================] - 0s 2ms/step - loss: 0.3485 - accuracy: 0.8545\n",
      "Epoch 42/100\n",
      "210/210 [==============================] - 0s 2ms/step - loss: 0.3483 - accuracy: 0.8572\n",
      "Epoch 43/100\n",
      "210/210 [==============================] - 0s 2ms/step - loss: 0.3476 - accuracy: 0.8555\n",
      "Epoch 44/100\n",
      "210/210 [==============================] - 0s 2ms/step - loss: 0.3477 - accuracy: 0.8566\n",
      "Epoch 45/100\n",
      "210/210 [==============================] - 0s 2ms/step - loss: 0.3470 - accuracy: 0.8566\n",
      "Epoch 46/100\n",
      "210/210 [==============================] - 0s 2ms/step - loss: 0.3468 - accuracy: 0.8572\n",
      "Epoch 47/100\n",
      "210/210 [==============================] - 0s 2ms/step - loss: 0.3468 - accuracy: 0.8564\n",
      "Epoch 48/100\n",
      "210/210 [==============================] - 1s 2ms/step - loss: 0.3463 - accuracy: 0.8569\n",
      "Epoch 49/100\n",
      "210/210 [==============================] - 0s 2ms/step - loss: 0.3465 - accuracy: 0.8561\n",
      "Epoch 50/100\n",
      "210/210 [==============================] - 0s 2ms/step - loss: 0.3461 - accuracy: 0.8552\n",
      "Epoch 51/100\n",
      "210/210 [==============================] - 1s 2ms/step - loss: 0.3457 - accuracy: 0.8578\n",
      "Epoch 52/100\n",
      "210/210 [==============================] - 0s 2ms/step - loss: 0.3457 - accuracy: 0.8578\n",
      "Epoch 53/100\n",
      "210/210 [==============================] - 0s 2ms/step - loss: 0.3455 - accuracy: 0.8594\n",
      "Epoch 54/100\n",
      "210/210 [==============================] - 0s 2ms/step - loss: 0.3451 - accuracy: 0.8584\n",
      "Epoch 55/100\n",
      "210/210 [==============================] - 0s 2ms/step - loss: 0.3453 - accuracy: 0.8584\n",
      "Epoch 56/100\n",
      "210/210 [==============================] - 0s 2ms/step - loss: 0.3452 - accuracy: 0.8587\n",
      "Epoch 57/100\n",
      "210/210 [==============================] - 0s 2ms/step - loss: 0.3447 - accuracy: 0.8582\n",
      "Epoch 58/100\n",
      "210/210 [==============================] - 0s 2ms/step - loss: 0.3443 - accuracy: 0.8588\n",
      "Epoch 59/100\n",
      "210/210 [==============================] - 0s 2ms/step - loss: 0.3440 - accuracy: 0.8575\n",
      "Epoch 60/100\n",
      "210/210 [==============================] - 0s 2ms/step - loss: 0.3445 - accuracy: 0.8576\n",
      "Epoch 61/100\n",
      "210/210 [==============================] - 0s 2ms/step - loss: 0.3438 - accuracy: 0.8578\n",
      "Epoch 62/100\n",
      "210/210 [==============================] - 0s 2ms/step - loss: 0.3437 - accuracy: 0.8599\n",
      "Epoch 63/100\n",
      "210/210 [==============================] - 0s 2ms/step - loss: 0.3440 - accuracy: 0.8584\n",
      "Epoch 64/100\n",
      "210/210 [==============================] - 1s 3ms/step - loss: 0.3435 - accuracy: 0.8579\n",
      "Epoch 65/100\n",
      "210/210 [==============================] - 1s 3ms/step - loss: 0.3429 - accuracy: 0.8591\n",
      "Epoch 66/100\n",
      "210/210 [==============================] - 1s 2ms/step - loss: 0.3429 - accuracy: 0.8581\n",
      "Epoch 67/100\n",
      "210/210 [==============================] - 0s 2ms/step - loss: 0.3433 - accuracy: 0.8588\n",
      "Epoch 68/100\n",
      "210/210 [==============================] - 0s 2ms/step - loss: 0.3435 - accuracy: 0.8579\n",
      "Epoch 69/100\n",
      "210/210 [==============================] - 0s 2ms/step - loss: 0.3433 - accuracy: 0.8599\n",
      "Epoch 70/100\n",
      "210/210 [==============================] - 0s 2ms/step - loss: 0.3430 - accuracy: 0.8590\n",
      "Epoch 71/100\n",
      "210/210 [==============================] - 0s 2ms/step - loss: 0.3430 - accuracy: 0.8593\n",
      "Epoch 72/100\n",
      "210/210 [==============================] - 0s 2ms/step - loss: 0.3430 - accuracy: 0.8581\n",
      "Epoch 73/100\n",
      "210/210 [==============================] - 0s 2ms/step - loss: 0.3424 - accuracy: 0.8578\n",
      "Epoch 74/100\n",
      "210/210 [==============================] - 0s 2ms/step - loss: 0.3425 - accuracy: 0.8591\n",
      "Epoch 75/100\n",
      "210/210 [==============================] - 0s 2ms/step - loss: 0.3428 - accuracy: 0.8575\n",
      "Epoch 76/100\n",
      "210/210 [==============================] - 0s 2ms/step - loss: 0.3420 - accuracy: 0.8615\n",
      "Epoch 77/100\n",
      "210/210 [==============================] - 0s 2ms/step - loss: 0.3424 - accuracy: 0.8588\n",
      "Epoch 78/100\n",
      "210/210 [==============================] - 0s 2ms/step - loss: 0.3427 - accuracy: 0.8584\n",
      "Epoch 79/100\n",
      "210/210 [==============================] - 0s 2ms/step - loss: 0.3425 - accuracy: 0.8581\n",
      "Epoch 80/100\n",
      "210/210 [==============================] - 0s 2ms/step - loss: 0.3425 - accuracy: 0.8588\n",
      "Epoch 81/100\n",
      "210/210 [==============================] - 0s 2ms/step - loss: 0.3422 - accuracy: 0.8590\n",
      "Epoch 82/100\n",
      "210/210 [==============================] - 0s 2ms/step - loss: 0.3423 - accuracy: 0.8578\n",
      "Epoch 83/100\n",
      "210/210 [==============================] - 0s 2ms/step - loss: 0.3421 - accuracy: 0.8594\n",
      "Epoch 84/100\n",
      "210/210 [==============================] - 0s 2ms/step - loss: 0.3422 - accuracy: 0.8600\n",
      "Epoch 85/100\n",
      "210/210 [==============================] - 0s 2ms/step - loss: 0.3423 - accuracy: 0.8596\n",
      "Epoch 86/100\n",
      "210/210 [==============================] - 0s 2ms/step - loss: 0.3414 - accuracy: 0.8591\n",
      "Epoch 87/100\n",
      "210/210 [==============================] - 0s 2ms/step - loss: 0.3420 - accuracy: 0.8581\n",
      "Epoch 88/100\n",
      "210/210 [==============================] - 0s 2ms/step - loss: 0.3413 - accuracy: 0.8613\n",
      "Epoch 89/100\n",
      "210/210 [==============================] - 0s 2ms/step - loss: 0.3415 - accuracy: 0.8596\n",
      "Epoch 90/100\n",
      "210/210 [==============================] - 0s 2ms/step - loss: 0.3414 - accuracy: 0.8604\n",
      "Epoch 91/100\n",
      "210/210 [==============================] - 0s 2ms/step - loss: 0.3416 - accuracy: 0.8576\n",
      "Epoch 92/100\n",
      "210/210 [==============================] - 0s 2ms/step - loss: 0.3413 - accuracy: 0.8588\n",
      "Epoch 93/100\n",
      "210/210 [==============================] - 0s 2ms/step - loss: 0.3413 - accuracy: 0.8603\n",
      "Epoch 94/100\n",
      "210/210 [==============================] - 0s 2ms/step - loss: 0.3412 - accuracy: 0.8603\n",
      "Epoch 95/100\n",
      "210/210 [==============================] - 0s 2ms/step - loss: 0.3412 - accuracy: 0.8596\n",
      "Epoch 96/100\n",
      "210/210 [==============================] - 0s 2ms/step - loss: 0.3411 - accuracy: 0.8599\n",
      "Epoch 97/100\n",
      "210/210 [==============================] - 0s 2ms/step - loss: 0.3413 - accuracy: 0.8604\n",
      "Epoch 98/100\n",
      "210/210 [==============================] - 0s 2ms/step - loss: 0.3409 - accuracy: 0.8597\n",
      "Epoch 99/100\n",
      "210/210 [==============================] - 0s 2ms/step - loss: 0.3407 - accuracy: 0.8599\n",
      "Epoch 100/100\n",
      "210/210 [==============================] - 0s 2ms/step - loss: 0.3410 - accuracy: 0.8603\n"
     ]
    },
    {
     "data": {
      "text/plain": [
       "<keras.callbacks.History at 0x207de760670>"
      ]
     },
     "execution_count": 286,
     "metadata": {},
     "output_type": "execute_result"
    }
   ],
   "source": [
    "ann.fit(X_train, y_train, batch_size=32, epochs=100)"
   ]
  },
  {
   "cell_type": "markdown",
   "id": "22e1919b-adf5-45dd-bb76-fa5020cbe7ea",
   "metadata": {},
   "source": [
    "<hr style=\"height:1px;border-width:0;color:black;background-color:black\">"
   ]
  },
  {
   "cell_type": "markdown",
   "id": "2af5e043-a541-4b03-9815-00778026648f",
   "metadata": {},
   "source": [
    "### Part7 : Making the Predictions and Evaluation the Model"
   ]
  },
  {
   "cell_type": "code",
   "execution_count": 305,
   "id": "344797d6-a896-44da-ac50-d54c3a4eb60e",
   "metadata": {},
   "outputs": [
    {
     "name": "stdout",
     "output_type": "stream",
     "text": [
      "104/104 [==============================] - 0s 1ms/step\n"
     ]
    }
   ],
   "source": [
    "y_pred = ann.predict(X_test)"
   ]
  },
  {
   "cell_type": "code",
   "execution_count": null,
   "id": "272008fa-5d0f-48c1-827a-46e28b922a39",
   "metadata": {},
   "outputs": [],
   "source": []
  },
  {
   "cell_type": "markdown",
   "id": "ffe13a4f-b3da-4ecd-a453-868d18edf871",
   "metadata": {},
   "source": [
    "### Evaluation"
   ]
  },
  {
   "cell_type": "code",
   "execution_count": 293,
   "id": "5c855989-24db-44dd-ac89-3f3eaef8903d",
   "metadata": {},
   "outputs": [
    {
     "name": "stdout",
     "output_type": "stream",
     "text": [
      "104/104 [==============================] - 0s 2ms/step - loss: 0.3391 - accuracy: 0.8633\n",
      "Test Loss: 0.3391\n",
      "Test Accuracy: 0.8633\n"
     ]
    }
   ],
   "source": [
    "# Evaluate the model on test data\n",
    "test_loss, test_accuracy = ann.evaluate(X_test, y_test)\n",
    "\n",
    "# Print results\n",
    "print(f\"Test Loss: {test_loss:.4f}\")\n",
    "print(f\"Test Accuracy: {test_accuracy:.4f}\")"
   ]
  },
  {
   "cell_type": "markdown",
   "id": "b507d510-be09-41e7-8e94-c6758407d94b",
   "metadata": {},
   "source": [
    "#### Confusion Matrix"
   ]
  },
  {
   "cell_type": "code",
   "execution_count": 300,
   "id": "f5d70e5a-5673-492c-af93-27ffc1adbdc0",
   "metadata": {},
   "outputs": [],
   "source": [
    "from sklearn.metrics import confusion_matrix, classification_report"
   ]
  },
  {
   "cell_type": "code",
   "execution_count": 298,
   "id": "1772550c-e907-4a00-a589-64c6146dcea3",
   "metadata": {},
   "outputs": [
    {
     "name": "stdout",
     "output_type": "stream",
     "text": [
      "104/104 [==============================] - 0s 864us/step\n",
      "[[2518  139]\n",
      " [ 312  331]]\n"
     ]
    }
   ],
   "source": [
    "y_pred = (ann.predict(X_test) > 0.5).astype(int)\n",
    "\n",
    "# Compute confusion matrix\n",
    "cm = confusion_matrix(y_test, y_pred)\n",
    "print(cm)"
   ]
  },
  {
   "cell_type": "code",
   "execution_count": 302,
   "id": "aa21800c-9776-4f1a-8439-1a2de61d06d1",
   "metadata": {},
   "outputs": [
    {
     "name": "stdout",
     "output_type": "stream",
     "text": [
      "              precision    recall  f1-score   support\n",
      "\n",
      "           0       0.89      0.95      0.92      2657\n",
      "           1       0.70      0.51      0.59       643\n",
      "\n",
      "    accuracy                           0.86      3300\n",
      "   macro avg       0.80      0.73      0.76      3300\n",
      "weighted avg       0.85      0.86      0.85      3300\n",
      "\n"
     ]
    }
   ],
   "source": [
    "report = classification_report(y_test, y_pred)\n",
    "print(report)"
   ]
  },
  {
   "cell_type": "code",
   "execution_count": null,
   "id": "6df9a05b-3d6c-4622-9e74-450cd9f8a9b9",
   "metadata": {},
   "outputs": [],
   "source": []
  }
 ],
 "metadata": {
  "kernelspec": {
   "display_name": "Python [conda env:dpn]",
   "language": "python",
   "name": "conda-env-dpn-py"
  },
  "language_info": {
   "codemirror_mode": {
    "name": "ipython",
    "version": 3
   },
   "file_extension": ".py",
   "mimetype": "text/x-python",
   "name": "python",
   "nbconvert_exporter": "python",
   "pygments_lexer": "ipython3",
   "version": "3.10.16"
  }
 },
 "nbformat": 4,
 "nbformat_minor": 5
}
