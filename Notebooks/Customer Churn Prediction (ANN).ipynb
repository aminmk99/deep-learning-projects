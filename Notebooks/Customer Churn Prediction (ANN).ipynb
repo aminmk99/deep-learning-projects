{
 "cells": [
  {
   "cell_type": "markdown",
   "id": "899db9a7-3cdc-40ff-abc5-4bd3905d1d62",
   "metadata": {},
   "source": [
    "# Customer Churn Prediction (ANN)"
   ]
  },
  {
   "cell_type": "markdown",
   "id": "32ec1408-59e1-4dcd-ac26-6bbae54a6b12",
   "metadata": {},
   "source": [
    "## Description"
   ]
  },
  {
   "cell_type": "markdown",
   "id": "b4ce027f-a3c1-4d77-881b-1c0999c20d0b",
   "metadata": {},
   "source": [
    "<hr style=\"height:1px;border-width:0;color:black;background-color:black\">"
   ]
  },
  {
   "cell_type": "markdown",
   "id": "deb50bee-7693-4c43-980b-f19f8ebd66a3",
   "metadata": {},
   "source": [
    "### Importing Required Libraries"
   ]
  },
  {
   "cell_type": "code",
   "execution_count": 11,
   "id": "f2fe51b3-9795-40a2-b458-c5a9e06f7b85",
   "metadata": {},
   "outputs": [],
   "source": [
    "import numpy as np\n",
    "import pandas as pd"
   ]
  },
  {
   "cell_type": "code",
   "execution_count": 13,
   "id": "4381e8ed-27c6-42a8-b83c-e69b3b0e605f",
   "metadata": {},
   "outputs": [],
   "source": [
    "import tensorflow as tf"
   ]
  },
  {
   "cell_type": "markdown",
   "id": "592eeaa6-ddc9-4f13-a831-62f5d596a057",
   "metadata": {},
   "source": [
    "#### Checking if TensorFlow is using GPU properly"
   ]
  },
  {
   "cell_type": "code",
   "execution_count": 19,
   "id": "5b226f10-95b1-4c4c-aad6-d8f5e2371afc",
   "metadata": {
    "jupyter": {
     "source_hidden": true
    }
   },
   "outputs": [
    {
     "name": "stdout",
     "output_type": "stream",
     "text": [
      "✅ TensorFlow detected 1 GPU(s):\n",
      "  - PhysicalDevice(name='/physical_device:GPU:0', device_type='GPU')\n"
     ]
    }
   ],
   "source": [
    "gpus = tf.config.list_physical_devices('GPU') #this is the main code for listing all available GPU(s)\n",
    "if gpus:\n",
    "    print(f\"✅ TensorFlow detected {len(gpus)} GPU(s):\")\n",
    "    for gpu in gpus:\n",
    "        print(f\"  - {gpu}\")\n",
    "else:\n",
    "    print(\"❌ No GPU detected. TensorFlow is using CPU instead.\")"
   ]
  },
  {
   "cell_type": "markdown",
   "id": "eaba4962-9bb6-4411-9a76-aa9168a3fed5",
   "metadata": {},
   "source": [
    "### Data "
   ]
  }
 ],
 "metadata": {
  "kernelspec": {
   "display_name": "Python [conda env:dpn]",
   "language": "python",
   "name": "conda-env-dpn-py"
  },
  "language_info": {
   "codemirror_mode": {
    "name": "ipython",
    "version": 3
   },
   "file_extension": ".py",
   "mimetype": "text/x-python",
   "name": "python",
   "nbconvert_exporter": "python",
   "pygments_lexer": "ipython3",
   "version": "3.10.16"
  }
 },
 "nbformat": 4,
 "nbformat_minor": 5
}
