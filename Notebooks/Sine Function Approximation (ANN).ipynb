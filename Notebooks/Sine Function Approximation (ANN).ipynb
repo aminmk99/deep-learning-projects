{
 "cells": [
  {
   "cell_type": "code",
   "execution_count": 3,
   "id": "a0110cdc-887d-46c2-98af-ae5a77a20311",
   "metadata": {},
   "outputs": [],
   "source": [
    "import numpy as np\n",
    "import pandas as pd"
   ]
  },
  {
   "cell_type": "code",
   "execution_count": 9,
   "id": "017871b0-f11a-4e2a-b3bc-a297f8218845",
   "metadata": {},
   "outputs": [],
   "source": [
    "nums = np.random.randint(0, 360, 20)"
   ]
  },
  {
   "cell_type": "code",
   "execution_count": 15,
   "id": "160e912e-4276-4ca4-8359-b87e32948bef",
   "metadata": {},
   "outputs": [
    {
     "data": {
      "text/plain": [
       "array([142,  59, 100, 127, 289, 111, 264, 156, 194, 225, 105, 296, 263,\n",
       "       341,  32, 315, 156, 191, 207, 138])"
      ]
     },
     "execution_count": 15,
     "metadata": {},
     "output_type": "execute_result"
    }
   ],
   "source": [
    "nums"
   ]
  },
  {
   "cell_type": "code",
   "execution_count": 13,
   "id": "01407836-49f2-4d01-89d6-8948059344e3",
   "metadata": {},
   "outputs": [
    {
     "data": {
      "text/plain": [
       "array([-0.58779501,  0.63673801, -0.50636564,  0.97263007, -0.02652102,\n",
       "       -0.86455145,  0.10601749, -0.88178462, -0.70238633, -0.93009488,\n",
       "       -0.97053528,  0.63676125, -0.77944719,  0.99060323,  0.55142668,\n",
       "        0.74513326, -0.88178462,  0.59490855, -0.33830503, -0.22805226])"
      ]
     },
     "execution_count": 13,
     "metadata": {},
     "output_type": "execute_result"
    }
   ],
   "source": [
    "np.sin(nums)"
   ]
  },
  {
   "cell_type": "code",
   "execution_count": 19,
   "id": "3f28f65f-19fa-4b4b-8930-b2edcd10ae80",
   "metadata": {},
   "outputs": [
    {
     "data": {
      "text/plain": [
       "-0.9880316240928618"
      ]
     },
     "execution_count": 19,
     "metadata": {},
     "output_type": "execute_result"
    }
   ],
   "source": [
    "np.sin(30)"
   ]
  },
  {
   "cell_type": "code",
   "execution_count": 21,
   "id": "36e9ee02-9841-4999-a2c7-09b6d5a700f2",
   "metadata": {},
   "outputs": [
    {
     "data": {
      "text/plain": [
       "0.49999999999999994"
      ]
     },
     "execution_count": 21,
     "metadata": {},
     "output_type": "execute_result"
    }
   ],
   "source": [
    "np.sin(np.radians(30))"
   ]
  },
  {
   "cell_type": "markdown",
   "id": "08b1f49e-98ac-4f4c-9443-38fda3dbdf69",
   "metadata": {},
   "source": [
    "---"
   ]
  },
  {
   "cell_type": "code",
   "execution_count": 24,
   "id": "a127101b-a384-4b06-b25e-4bfb60e70e98",
   "metadata": {},
   "outputs": [],
   "source": [
    "X_degrees = np.random.uniform(0, 360, 5000)"
   ]
  },
  {
   "cell_type": "code",
   "execution_count": 26,
   "id": "052de471-05e8-4958-a3e6-48456a55de81",
   "metadata": {},
   "outputs": [
    {
     "data": {
      "text/plain": [
       "array([312.64843549, 305.22892228, 133.23654368, ...,  23.16577627,\n",
       "       358.11945221, 312.47094354])"
      ]
     },
     "execution_count": 26,
     "metadata": {},
     "output_type": "execute_result"
    }
   ],
   "source": [
    "X_degrees"
   ]
  },
  {
   "cell_type": "code",
   "execution_count": 28,
   "id": "8c3f6e5c-4441-49c9-8549-d62d0c72be0a",
   "metadata": {},
   "outputs": [],
   "source": [
    "X_radians = np.radians(X_degrees)"
   ]
  },
  {
   "cell_type": "code",
   "execution_count": 30,
   "id": "e2a7ac79-52d3-44ea-a3f4-dff57556b509",
   "metadata": {},
   "outputs": [],
   "source": [
    "y = np.sin(X_radians)"
   ]
  },
  {
   "cell_type": "markdown",
   "id": "2cc64448-2cff-482e-872e-c93063ec65f0",
   "metadata": {},
   "source": [
    "## Importing Libraries"
   ]
  },
  {
   "cell_type": "code",
   "execution_count": 206,
   "id": "afb1bbf7-3bdd-4962-aa08-e48ca10bfa94",
   "metadata": {},
   "outputs": [],
   "source": [
    "import numpy as np\n",
    "import pandas as pd\n",
    "import time"
   ]
  },
  {
   "cell_type": "markdown",
   "id": "6425e7a8-1b76-4b9e-b19d-0b657f9803f4",
   "metadata": {},
   "source": [
    "---"
   ]
  },
  {
   "cell_type": "markdown",
   "id": "511fd472-5522-4ff2-8e62-d13109880151",
   "metadata": {},
   "source": [
    "## Creating Dataset"
   ]
  },
  {
   "cell_type": "markdown",
   "id": "e33b6fe0-9049-4f51-a83e-b05221ce1e86",
   "metadata": {},
   "source": [
    "### Uniformly spaced dataset"
   ]
  },
  {
   "cell_type": "code",
   "execution_count": 82,
   "id": "901c7111-ad6a-4d16-91b1-f2779bb6f60f",
   "metadata": {},
   "outputs": [],
   "source": [
    "X_degrees_uniform = np.arange(0, 360, 0.1)\n",
    "X_radians_uniform = np.radians(X_degrees_uniform)\n",
    "y_uniform = np.sin(X_radians_uniform)"
   ]
  },
  {
   "cell_type": "code",
   "execution_count": 84,
   "id": "06af27f6-5d23-4f66-83ef-7e6fa867d6b1",
   "metadata": {},
   "outputs": [
    {
     "name": "stdout",
     "output_type": "stream",
     "text": [
      "Uniform Sample (Degrees): [0.  0.1 0.2 0.3 0.4 0.5 0.6 0.7 0.8 0.9]\n"
     ]
    }
   ],
   "source": [
    "print(\"Uniform Sample (Degrees):\", X_degrees_uniform[:10])"
   ]
  },
  {
   "cell_type": "markdown",
   "id": "0936aebd-9749-4c0c-91f6-4d118cd86b32",
   "metadata": {},
   "source": [
    "Number of elemnts: (stop - start) / step\n",
    "(360 - 0) / 0.1 = 3600"
   ]
  },
  {
   "cell_type": "code",
   "execution_count": 52,
   "id": "5e9353c9-a324-43ca-89e5-aa6409dd6976",
   "metadata": {},
   "outputs": [
    {
     "data": {
      "text/plain": [
       "3600"
      ]
     },
     "execution_count": 52,
     "metadata": {},
     "output_type": "execute_result"
    }
   ],
   "source": [
    "X_radians_uniform.size"
   ]
  },
  {
   "cell_type": "code",
   "execution_count": 116,
   "id": "da18c942-2377-43ed-9075-f4ed9602f7a3",
   "metadata": {},
   "outputs": [
    {
     "data": {
      "text/plain": [
       "array([0.        , 0.00174533, 0.00349065, 0.00523596, 0.00698126,\n",
       "       0.00872654, 0.01047178, 0.012217  , 0.01396218, 0.01570732])"
      ]
     },
     "execution_count": 116,
     "metadata": {},
     "output_type": "execute_result"
    }
   ],
   "source": [
    "y_uniform[:10]"
   ]
  },
  {
   "cell_type": "markdown",
   "id": "ad07be99-faf1-43e4-adf4-cbec8b8f7d3a",
   "metadata": {},
   "source": [
    "### Random dataset"
   ]
  },
  {
   "cell_type": "code",
   "execution_count": 56,
   "id": "983a0b6a-be44-43bd-ae57-1c6c99b5edfc",
   "metadata": {},
   "outputs": [],
   "source": [
    "X_degrees_random = np.random.uniform(0, 360, 5000)\n",
    "X_radians_random = np.radians(X_degrees_random)\n",
    "y_random = np.sin(X_radians_random)"
   ]
  },
  {
   "cell_type": "code",
   "execution_count": 58,
   "id": "4397a49a-8081-4c88-bac4-17a45360f24f",
   "metadata": {},
   "outputs": [
    {
     "name": "stdout",
     "output_type": "stream",
     "text": [
      "Random Sample (Degrees): [146.08216413 346.2583107  353.21382752 259.09625779 344.68269291\n",
      " 132.7256928  252.92081423 190.13196642 158.45019033 123.6712561 ]\n"
     ]
    }
   ],
   "source": [
    "print(\"Random Sample (Degrees):\", X_degrees_random[:10])"
   ]
  },
  {
   "cell_type": "code",
   "execution_count": 60,
   "id": "c983db81-647d-4ead-969b-fdcb37c5cf27",
   "metadata": {},
   "outputs": [
    {
     "data": {
      "text/plain": [
       "5000"
      ]
     },
     "execution_count": 60,
     "metadata": {},
     "output_type": "execute_result"
    }
   ],
   "source": [
    "X_radians_random.size"
   ]
  },
  {
   "cell_type": "code",
   "execution_count": 66,
   "id": "65cfa191-8fb9-4808-95b9-4bfd661cab79",
   "metadata": {},
   "outputs": [
    {
     "data": {
      "text/plain": [
       "array([2.54961474, 6.04334758, 6.16474425, 4.52208278, 6.01584787,\n",
       "       2.31650034, 4.41430096, 3.31842883, 2.76547752, 2.15847061])"
      ]
     },
     "execution_count": 66,
     "metadata": {},
     "output_type": "execute_result"
    }
   ],
   "source": [
    "X_radians_random[:10]"
   ]
  },
  {
   "cell_type": "code",
   "execution_count": 74,
   "id": "d6ff56f5-8bf4-48ad-9af7-2f459973a856",
   "metadata": {},
   "outputs": [
    {
     "data": {
      "text/plain": [
       "array([ 0.55800346, -0.237545  , -0.11816433, -0.98194636, -0.2641644 ,\n",
       "        0.73461042, -0.95589977, -0.17591597,  0.36730994,  0.83223237])"
      ]
     },
     "execution_count": 74,
     "metadata": {},
     "output_type": "execute_result"
    }
   ],
   "source": [
    "y_random[:10]"
   ]
  },
  {
   "cell_type": "markdown",
   "id": "b1ff4482-280e-45da-b556-839f6bf706cb",
   "metadata": {},
   "source": [
    "---"
   ]
  },
  {
   "cell_type": "markdown",
   "id": "9cbca8a4-fc94-4671-ab2b-4a1887330b5e",
   "metadata": {},
   "source": [
    "## Data Preprocessing: Splitting & Normalization"
   ]
  },
  {
   "cell_type": "markdown",
   "id": "1236e9d4-a682-4ff2-8b84-c4656445c69e",
   "metadata": {},
   "source": [
    "### Data Preprocessing: Splitting & Normalization\n",
    "\n",
    "Before training our ANN model, we need to:\n",
    "1. **Normalize the input values** to improve training efficiency.\n",
    "2. **Split the dataset** into training and testing sets."
   ]
  },
  {
   "cell_type": "code",
   "execution_count": 126,
   "id": "3eb77b6b-54b2-44a5-9e58-a2b8b0ce214f",
   "metadata": {},
   "outputs": [],
   "source": [
    "from sklearn.preprocessing import MinMaxScaler\n",
    "from sklearn.model_selection import train_test_split"
   ]
  },
  {
   "cell_type": "code",
   "execution_count": 131,
   "id": "54fd6cdc-b033-4d3a-9045-2315f304f568",
   "metadata": {},
   "outputs": [],
   "source": [
    "scaler = MinMaxScaler(feature_range=(-1, 1))"
   ]
  },
  {
   "cell_type": "code",
   "execution_count": 133,
   "id": "c2002f08-0191-4741-9d61-104d34065dae",
   "metadata": {},
   "outputs": [],
   "source": [
    "X_radians_uniform = scaler.fit_transform(X_radians_uniform.reshape(-1, 1)).flatten()\n",
    "X_radians_random = scaler.fit_transform(X_radians_random.reshape(-1, 1)).flatten()"
   ]
  },
  {
   "cell_type": "markdown",
   "id": "d10f36b7-56cd-4539-a715-bce1da8bf92b",
   "metadata": {},
   "source": [
    "#### Normalize the entire dataset first"
   ]
  },
  {
   "cell_type": "code",
   "execution_count": 137,
   "id": "8376e02b-0580-404b-8318-980596a85e0e",
   "metadata": {},
   "outputs": [],
   "source": [
    "X_radians_uniform = scaler.fit_transform(X_radians_uniform.reshape(-1, 1)).flatten()\n",
    "X_radians_random = scaler.fit_transform(X_radians_random.reshape(-1, 1)).flatten()"
   ]
  },
  {
   "cell_type": "markdown",
   "id": "8e4c370a-66e4-4a7f-9ddb-86f758b924f1",
   "metadata": {},
   "source": [
    "#### Split into training and testing sets"
   ]
  },
  {
   "cell_type": "code",
   "execution_count": 140,
   "id": "eb751b5b-a306-4d3a-8eaa-75599e95135f",
   "metadata": {},
   "outputs": [],
   "source": [
    "X_train_uniform, X_test_uniform, y_train_uniform, y_test_uniform = train_test_split(\n",
    "    X_radians_uniform, y_uniform, test_size=0.2, random_state=42\n",
    ")\n",
    "\n",
    "X_train_random, X_test_random, y_train_random, y_test_random = train_test_split(\n",
    "    X_radians_random, y_random, test_size=0.2, random_state=42\n",
    ")"
   ]
  },
  {
   "cell_type": "markdown",
   "id": "c4b09dc0-1ab5-497b-b729-a613450aaa78",
   "metadata": {},
   "source": [
    "---"
   ]
  },
  {
   "cell_type": "markdown",
   "id": "367ec833-e7d0-4720-b8ba-d66d5243e01e",
   "metadata": {},
   "source": [
    "## Define the ANN Model Architecture"
   ]
  },
  {
   "cell_type": "code",
   "execution_count": 167,
   "id": "145f7fcf-943f-4d9a-ad2f-e4b5fce5cb62",
   "metadata": {},
   "outputs": [],
   "source": [
    "from tensorflow.keras.models import Sequential\n",
    "from tensorflow.keras.layers import Dense"
   ]
  },
  {
   "cell_type": "code",
   "execution_count": 169,
   "id": "76ac1157-0d12-465e-9955-552a21e9e63f",
   "metadata": {},
   "outputs": [],
   "source": [
    "ann = Sequential()"
   ]
  },
  {
   "cell_type": "markdown",
   "id": "28e05a25-f556-4cb8-9e32-b99f5292242b",
   "metadata": {},
   "source": [
    "#### Input + First Hidden Layer"
   ]
  },
  {
   "cell_type": "code",
   "execution_count": 194,
   "id": "5c11e4e6-91c2-4c78-b9c2-e5d92a1c5b21",
   "metadata": {},
   "outputs": [],
   "source": [
    "ann.add(Dense(units=16, activation='tanh', input_shape=(1,)))"
   ]
  },
  {
   "cell_type": "markdown",
   "id": "79ff2bc3-5bc1-4f80-b75d-5fb687dd9ffc",
   "metadata": {},
   "source": [
    "#### Additional Hidden Layers"
   ]
  },
  {
   "cell_type": "code",
   "execution_count": 198,
   "id": "4ca569d5-f055-475e-b0c0-9d31479f2d71",
   "metadata": {},
   "outputs": [],
   "source": [
    "ann.add(Dense(units=16, activation='tanh'))\n",
    "ann.add(Dense(units=8, activation='tanh'))"
   ]
  },
  {
   "cell_type": "markdown",
   "id": "b69448c9-3f28-481f-9e92-2d86a9a86db8",
   "metadata": {},
   "source": [
    "#### Output Layer"
   ]
  },
  {
   "cell_type": "code",
   "execution_count": 187,
   "id": "e20228d8-1776-4dd3-9ced-8d5089b7338f",
   "metadata": {},
   "outputs": [],
   "source": [
    "ann.add(Dense(units=1, activation='linear'))  # Regression → No sigmoid here"
   ]
  },
  {
   "cell_type": "markdown",
   "id": "1a5bc91e-5044-422e-986d-ec9152653e53",
   "metadata": {},
   "source": [
    "#### Compile the Model"
   ]
  },
  {
   "cell_type": "code",
   "execution_count": 190,
   "id": "fbb8d550-6cd4-45fd-a633-ad2cf9e5f801",
   "metadata": {},
   "outputs": [],
   "source": [
    "ann.compile(optimizer='adam', loss='mean_squared_error')"
   ]
  },
  {
   "cell_type": "markdown",
   "id": "fd4827bb-cdf3-4fcc-a179-7d69872c6708",
   "metadata": {},
   "source": [
    "---"
   ]
  },
  {
   "cell_type": "markdown",
   "id": "0b09c357-6499-4606-b218-023dd45d862e",
   "metadata": {},
   "source": [
    "## Train the Model"
   ]
  },
  {
   "cell_type": "markdown",
   "id": "3604687d-f0d0-47ff-98f4-6d5121a8effe",
   "metadata": {},
   "source": [
    "### Uniform Dataset"
   ]
  },
  {
   "cell_type": "code",
   "execution_count": 208,
   "id": "e7a7fb24-8d68-44ae-8086-56be8eea9314",
   "metadata": {
    "collapsed": true,
    "jupyter": {
     "outputs_hidden": true
    },
    "scrolled": true
   },
   "outputs": [
    {
     "name": "stdout",
     "output_type": "stream",
     "text": [
      "Epoch 1/100\n",
      "90/90 [==============================] - 4s 8ms/step - loss: 0.5197\n",
      "Epoch 2/100\n",
      "90/90 [==============================] - 1s 8ms/step - loss: 0.5033\n",
      "Epoch 3/100\n",
      "90/90 [==============================] - 1s 9ms/step - loss: 0.5029\n",
      "Epoch 4/100\n",
      "90/90 [==============================] - 1s 8ms/step - loss: 0.5029\n",
      "Epoch 5/100\n",
      "90/90 [==============================] - 1s 8ms/step - loss: 0.5028\n",
      "Epoch 6/100\n",
      "90/90 [==============================] - 1s 8ms/step - loss: 0.5028\n",
      "Epoch 7/100\n",
      "90/90 [==============================] - 1s 8ms/step - loss: 0.5014\n",
      "Epoch 8/100\n",
      "90/90 [==============================] - 1s 8ms/step - loss: 0.2481\n",
      "Epoch 9/100\n",
      "90/90 [==============================] - 1s 8ms/step - loss: 0.0753\n",
      "Epoch 10/100\n",
      "90/90 [==============================] - 1s 8ms/step - loss: 0.0690\n",
      "Epoch 11/100\n",
      "90/90 [==============================] - 1s 8ms/step - loss: 0.0674\n",
      "Epoch 12/100\n",
      "90/90 [==============================] - 1s 8ms/step - loss: 0.0665\n",
      "Epoch 13/100\n",
      "90/90 [==============================] - 1s 8ms/step - loss: 0.0663\n",
      "Epoch 14/100\n",
      "90/90 [==============================] - 1s 8ms/step - loss: 0.0662\n",
      "Epoch 15/100\n",
      "90/90 [==============================] - 1s 8ms/step - loss: 0.0664\n",
      "Epoch 16/100\n",
      "90/90 [==============================] - 1s 8ms/step - loss: 0.0663\n",
      "Epoch 17/100\n",
      "90/90 [==============================] - 1s 8ms/step - loss: 0.0661\n",
      "Epoch 18/100\n",
      "90/90 [==============================] - 1s 8ms/step - loss: 0.0662\n",
      "Epoch 19/100\n",
      "90/90 [==============================] - 1s 8ms/step - loss: 0.0660\n",
      "Epoch 20/100\n",
      "90/90 [==============================] - 1s 8ms/step - loss: 0.0660\n",
      "Epoch 21/100\n",
      "90/90 [==============================] - 1s 8ms/step - loss: 0.0660\n",
      "Epoch 22/100\n",
      "90/90 [==============================] - 1s 8ms/step - loss: 0.0659\n",
      "Epoch 23/100\n",
      "90/90 [==============================] - 1s 8ms/step - loss: 0.0661\n",
      "Epoch 24/100\n",
      "90/90 [==============================] - 1s 8ms/step - loss: 0.0663\n",
      "Epoch 25/100\n",
      "90/90 [==============================] - 1s 8ms/step - loss: 0.0661\n",
      "Epoch 26/100\n",
      "90/90 [==============================] - 1s 8ms/step - loss: 0.0660\n",
      "Epoch 27/100\n",
      "90/90 [==============================] - 1s 8ms/step - loss: 0.0657\n",
      "Epoch 28/100\n",
      "90/90 [==============================] - 1s 8ms/step - loss: 0.0662\n",
      "Epoch 29/100\n",
      "90/90 [==============================] - 1s 8ms/step - loss: 0.0660\n",
      "Epoch 30/100\n",
      "90/90 [==============================] - 1s 8ms/step - loss: 0.0661\n",
      "Epoch 31/100\n",
      "90/90 [==============================] - 1s 8ms/step - loss: 0.0660\n",
      "Epoch 32/100\n",
      "90/90 [==============================] - 1s 8ms/step - loss: 0.0660\n",
      "Epoch 33/100\n",
      "90/90 [==============================] - 1s 8ms/step - loss: 0.0661\n",
      "Epoch 34/100\n",
      "90/90 [==============================] - 1s 8ms/step - loss: 0.0660\n",
      "Epoch 35/100\n",
      "90/90 [==============================] - 1s 8ms/step - loss: 0.0660\n",
      "Epoch 36/100\n",
      "90/90 [==============================] - 1s 9ms/step - loss: 0.0662\n",
      "Epoch 37/100\n",
      "90/90 [==============================] - 1s 8ms/step - loss: 0.0659\n",
      "Epoch 38/100\n",
      "90/90 [==============================] - 1s 8ms/step - loss: 0.0658\n",
      "Epoch 39/100\n",
      "90/90 [==============================] - 1s 7ms/step - loss: 0.0660\n",
      "Epoch 40/100\n",
      "90/90 [==============================] - 1s 8ms/step - loss: 0.0659\n",
      "Epoch 41/100\n",
      "90/90 [==============================] - 1s 7ms/step - loss: 0.0660\n",
      "Epoch 42/100\n",
      "90/90 [==============================] - 1s 8ms/step - loss: 0.0660\n",
      "Epoch 43/100\n",
      "90/90 [==============================] - 1s 8ms/step - loss: 0.0662\n",
      "Epoch 44/100\n",
      "90/90 [==============================] - 1s 8ms/step - loss: 0.0659\n",
      "Epoch 45/100\n",
      "90/90 [==============================] - 1s 8ms/step - loss: 0.0659\n",
      "Epoch 46/100\n",
      "90/90 [==============================] - 1s 7ms/step - loss: 0.0658\n",
      "Epoch 47/100\n",
      "90/90 [==============================] - 1s 8ms/step - loss: 0.0658\n",
      "Epoch 48/100\n",
      "90/90 [==============================] - 1s 7ms/step - loss: 0.0659\n",
      "Epoch 49/100\n",
      "90/90 [==============================] - 1s 8ms/step - loss: 0.0661\n",
      "Epoch 50/100\n",
      "90/90 [==============================] - 1s 8ms/step - loss: 0.0661\n",
      "Epoch 51/100\n",
      "90/90 [==============================] - 1s 8ms/step - loss: 0.0661\n",
      "Epoch 52/100\n",
      "90/90 [==============================] - 1s 8ms/step - loss: 0.0663\n",
      "Epoch 53/100\n",
      "90/90 [==============================] - 1s 8ms/step - loss: 0.0658\n",
      "Epoch 54/100\n",
      "90/90 [==============================] - 1s 7ms/step - loss: 0.0657\n",
      "Epoch 55/100\n",
      "90/90 [==============================] - 1s 8ms/step - loss: 0.0657\n",
      "Epoch 56/100\n",
      "90/90 [==============================] - 1s 8ms/step - loss: 0.0659\n",
      "Epoch 57/100\n",
      "90/90 [==============================] - 1s 8ms/step - loss: 0.0659\n",
      "Epoch 58/100\n",
      "90/90 [==============================] - 1s 8ms/step - loss: 0.0658\n",
      "Epoch 59/100\n",
      "90/90 [==============================] - 1s 9ms/step - loss: 0.0656\n",
      "Epoch 60/100\n",
      "90/90 [==============================] - 1s 8ms/step - loss: 0.0656\n",
      "Epoch 61/100\n",
      "90/90 [==============================] - 1s 8ms/step - loss: 0.0661\n",
      "Epoch 62/100\n",
      "90/90 [==============================] - 1s 8ms/step - loss: 0.0658\n",
      "Epoch 63/100\n",
      "90/90 [==============================] - 1s 8ms/step - loss: 0.0659\n",
      "Epoch 64/100\n",
      "90/90 [==============================] - 1s 8ms/step - loss: 0.0657\n",
      "Epoch 65/100\n",
      "90/90 [==============================] - 1s 8ms/step - loss: 0.0658\n",
      "Epoch 66/100\n",
      "90/90 [==============================] - 1s 8ms/step - loss: 0.0657\n",
      "Epoch 67/100\n",
      "90/90 [==============================] - 1s 7ms/step - loss: 0.0654\n",
      "Epoch 68/100\n",
      "90/90 [==============================] - 1s 8ms/step - loss: 0.0654\n",
      "Epoch 69/100\n",
      "90/90 [==============================] - 1s 8ms/step - loss: 0.0656\n",
      "Epoch 70/100\n",
      "90/90 [==============================] - 1s 8ms/step - loss: 0.0658\n",
      "Epoch 71/100\n",
      "90/90 [==============================] - 1s 8ms/step - loss: 0.0655\n",
      "Epoch 72/100\n",
      "90/90 [==============================] - 1s 8ms/step - loss: 0.0660\n",
      "Epoch 73/100\n",
      "90/90 [==============================] - 1s 8ms/step - loss: 0.0655\n",
      "Epoch 74/100\n",
      "90/90 [==============================] - 1s 8ms/step - loss: 0.0655\n",
      "Epoch 75/100\n",
      "90/90 [==============================] - 1s 8ms/step - loss: 0.0652\n",
      "Epoch 76/100\n",
      "90/90 [==============================] - 1s 8ms/step - loss: 0.0653\n",
      "Epoch 77/100\n",
      "90/90 [==============================] - 1s 8ms/step - loss: 0.0657\n",
      "Epoch 78/100\n",
      "90/90 [==============================] - 1s 7ms/step - loss: 0.0650\n",
      "Epoch 79/100\n",
      "90/90 [==============================] - 1s 8ms/step - loss: 0.0649\n",
      "Epoch 80/100\n",
      "90/90 [==============================] - 1s 8ms/step - loss: 0.0651\n",
      "Epoch 81/100\n",
      "90/90 [==============================] - 1s 8ms/step - loss: 0.0648\n",
      "Epoch 82/100\n",
      "90/90 [==============================] - 1s 7ms/step - loss: 0.0645\n",
      "Epoch 83/100\n",
      "90/90 [==============================] - 1s 8ms/step - loss: 0.0647\n",
      "Epoch 84/100\n",
      "90/90 [==============================] - 1s 8ms/step - loss: 0.0644\n",
      "Epoch 85/100\n",
      "90/90 [==============================] - 1s 8ms/step - loss: 0.0644\n",
      "Epoch 86/100\n",
      "90/90 [==============================] - 1s 8ms/step - loss: 0.0639\n",
      "Epoch 87/100\n",
      "90/90 [==============================] - 1s 8ms/step - loss: 0.0638\n",
      "Epoch 88/100\n",
      "90/90 [==============================] - 1s 10ms/step - loss: 0.0636\n",
      "Epoch 89/100\n",
      "90/90 [==============================] - 1s 8ms/step - loss: 0.0635\n",
      "Epoch 90/100\n",
      "90/90 [==============================] - 1s 8ms/step - loss: 0.0635\n",
      "Epoch 91/100\n",
      "90/90 [==============================] - 1s 8ms/step - loss: 0.0631\n",
      "Epoch 92/100\n",
      "90/90 [==============================] - 1s 8ms/step - loss: 0.0629\n",
      "Epoch 93/100\n",
      "90/90 [==============================] - 1s 8ms/step - loss: 0.0627\n",
      "Epoch 94/100\n",
      "90/90 [==============================] - 1s 8ms/step - loss: 0.0626\n",
      "Epoch 95/100\n",
      "90/90 [==============================] - 1s 8ms/step - loss: 0.0624\n",
      "Epoch 96/100\n",
      "90/90 [==============================] - 1s 8ms/step - loss: 0.0624\n",
      "Epoch 97/100\n",
      "90/90 [==============================] - 1s 9ms/step - loss: 0.0621\n",
      "Epoch 98/100\n",
      "90/90 [==============================] - 1s 9ms/step - loss: 0.0620\n",
      "Epoch 99/100\n",
      "90/90 [==============================] - 1s 9ms/step - loss: 0.0620\n",
      "Epoch 100/100\n",
      "90/90 [==============================] - 1s 8ms/step - loss: 0.0619\n",
      "\n",
      "Total Training Time: 75.43 seconds\n"
     ]
    }
   ],
   "source": [
    "# Start Timer\n",
    "start_time = time.time()\n",
    "\n",
    "# Train the model\n",
    "history = ann.fit(X_train_uniform, y_train_uniform, batch_size=32, epochs=100, verbose=1)\n",
    "\n",
    "# End Timer\n",
    "end_time = time.time()"
   ]
  },
  {
   "cell_type": "markdown",
   "id": "3dfdb21b-e9cc-4a45-9781-2cb5e1355501",
   "metadata": {},
   "source": [
    "#### Training Time"
   ]
  },
  {
   "cell_type": "code",
   "execution_count": 210,
   "id": "28d4e832-23fa-4551-8cec-a17c7d841fa2",
   "metadata": {},
   "outputs": [
    {
     "name": "stdout",
     "output_type": "stream",
     "text": [
      "\n",
      "Total Training Time: 75.43 seconds\n"
     ]
    }
   ],
   "source": [
    "print(f\"\\nTotal Training Time: {end_time - start_time:.2f} seconds\")"
   ]
  },
  {
   "cell_type": "markdown",
   "id": "f7c11837-439b-44f5-acf6-5d48c68834ff",
   "metadata": {},
   "source": [
    "### Random Dataset"
   ]
  },
  {
   "cell_type": "code",
   "execution_count": null,
   "id": "0b963b0d-4f17-46b6-8ee5-726419231c6b",
   "metadata": {},
   "outputs": [
    {
     "name": "stdout",
     "output_type": "stream",
     "text": [
      "Epoch 1/100\n",
      "125/125 [==============================] - 1s 9ms/step - loss: 0.0624\n",
      "Epoch 2/100\n",
      "125/125 [==============================] - 1s 8ms/step - loss: 0.0622\n",
      "Epoch 3/100\n",
      "125/125 [==============================] - 1s 8ms/step - loss: 0.0622\n",
      "Epoch 4/100\n",
      "125/125 [==============================] - 1s 8ms/step - loss: 0.0619\n",
      "Epoch 5/100\n",
      "125/125 [==============================] - 1s 8ms/step - loss: 0.0618\n",
      "Epoch 6/100\n",
      "125/125 [==============================] - 1s 8ms/step - loss: 0.0618\n",
      "Epoch 7/100\n",
      "125/125 [==============================] - 1s 8ms/step - loss: 0.0617\n",
      "Epoch 8/100\n",
      "125/125 [==============================] - 1s 8ms/step - loss: 0.0617\n",
      "Epoch 9/100\n",
      "125/125 [==============================] - 1s 8ms/step - loss: 0.0619\n",
      "Epoch 10/100\n",
      "125/125 [==============================] - 1s 8ms/step - loss: 0.0616\n",
      "Epoch 11/100\n",
      "125/125 [==============================] - 1s 8ms/step - loss: 0.0615\n",
      "Epoch 12/100\n",
      "125/125 [==============================] - 1s 7ms/step - loss: 0.0616\n",
      "Epoch 13/100\n",
      "125/125 [==============================] - 1s 8ms/step - loss: 0.0614\n",
      "Epoch 14/100\n",
      "125/125 [==============================] - 1s 8ms/step - loss: 0.0615\n",
      "Epoch 15/100\n",
      "125/125 [==============================] - 1s 8ms/step - loss: 0.0615\n",
      "Epoch 16/100\n",
      "125/125 [==============================] - 1s 8ms/step - loss: 0.0612\n",
      "Epoch 17/100\n",
      "125/125 [==============================] - 1s 8ms/step - loss: 0.0615\n",
      "Epoch 18/100\n",
      "125/125 [==============================] - 1s 8ms/step - loss: 0.0613\n",
      "Epoch 19/100\n",
      "125/125 [==============================] - 1s 8ms/step - loss: 0.0612\n",
      "Epoch 20/100\n",
      "125/125 [==============================] - 1s 8ms/step - loss: 0.0610\n",
      "Epoch 21/100\n",
      "125/125 [==============================] - 1s 8ms/step - loss: 0.0608\n",
      "Epoch 22/100\n",
      "125/125 [==============================] - 1s 8ms/step - loss: 0.0596\n",
      "Epoch 23/100\n",
      "125/125 [==============================] - 1s 8ms/step - loss: 0.0498\n",
      "Epoch 24/100\n",
      "125/125 [==============================] - 1s 8ms/step - loss: 0.0239\n",
      "Epoch 25/100\n",
      "125/125 [==============================] - 1s 8ms/step - loss: 0.0058\n",
      "Epoch 26/100\n",
      "125/125 [==============================] - 1s 8ms/step - loss: 0.0042\n",
      "Epoch 27/100\n",
      "125/125 [==============================] - 1s 8ms/step - loss: 0.0014\n",
      "Epoch 28/100\n",
      "125/125 [==============================] - 1s 8ms/step - loss: 0.0013\n",
      "Epoch 29/100\n",
      "125/125 [==============================] - 1s 8ms/step - loss: 0.0010\n",
      "Epoch 30/100\n",
      "125/125 [==============================] - 1s 8ms/step - loss: 0.0012\n",
      "Epoch 31/100\n",
      "125/125 [==============================] - 1s 8ms/step - loss: 9.6340e-04\n",
      "Epoch 32/100\n",
      "125/125 [==============================] - 1s 9ms/step - loss: 9.9792e-04\n",
      "Epoch 33/100\n",
      "125/125 [==============================] - 1s 8ms/step - loss: 0.0023\n",
      "Epoch 34/100\n",
      "125/125 [==============================] - 1s 8ms/step - loss: 9.2126e-04\n",
      "Epoch 35/100\n",
      "125/125 [==============================] - 1s 8ms/step - loss: 0.0011\n",
      "Epoch 36/100\n",
      "125/125 [==============================] - 1s 8ms/step - loss: 8.7961e-04\n",
      "Epoch 37/100\n",
      "125/125 [==============================] - 1s 8ms/step - loss: 8.8793e-04\n",
      "Epoch 38/100\n",
      "125/125 [==============================] - 1s 8ms/step - loss: 0.0011\n",
      "Epoch 39/100\n",
      "125/125 [==============================] - 1s 8ms/step - loss: 9.1555e-04\n",
      "Epoch 40/100\n",
      "125/125 [==============================] - 1s 8ms/step - loss: 9.0164e-04\n",
      "Epoch 41/100\n",
      "125/125 [==============================] - 1s 8ms/step - loss: 8.9238e-04\n",
      "Epoch 42/100\n",
      "125/125 [==============================] - 1s 8ms/step - loss: 9.8245e-04\n",
      "Epoch 43/100\n",
      "125/125 [==============================] - 1s 8ms/step - loss: 0.0014\n",
      "Epoch 44/100\n",
      "125/125 [==============================] - 1s 8ms/step - loss: 9.2064e-04\n",
      "Epoch 45/100\n",
      "125/125 [==============================] - 1s 8ms/step - loss: 8.7785e-04\n",
      "Epoch 46/100\n",
      "125/125 [==============================] - 1s 8ms/step - loss: 8.1059e-04\n",
      "Epoch 47/100\n",
      "125/125 [==============================] - 1s 8ms/step - loss: 0.0011\n",
      "Epoch 48/100\n",
      "125/125 [==============================] - 1s 8ms/step - loss: 0.0028\n",
      "Epoch 49/100\n",
      "125/125 [==============================] - 1s 8ms/step - loss: 8.9811e-04\n",
      "Epoch 50/100\n",
      "125/125 [==============================] - 1s 8ms/step - loss: 7.5880e-04\n",
      "Epoch 51/100\n",
      "125/125 [==============================] - 1s 8ms/step - loss: 8.1267e-04\n",
      "Epoch 52/100\n",
      "125/125 [==============================] - 1s 8ms/step - loss: 8.4386e-04\n",
      "Epoch 53/100\n",
      "125/125 [==============================] - 1s 8ms/step - loss: 9.5802e-04\n",
      "Epoch 54/100\n",
      "125/125 [==============================] - 1s 9ms/step - loss: 8.4154e-04\n",
      "Epoch 55/100\n",
      "125/125 [==============================] - 1s 8ms/step - loss: 8.3964e-04\n",
      "Epoch 56/100\n",
      "125/125 [==============================] - 1s 8ms/step - loss: 0.0010\n",
      "Epoch 57/100\n",
      "125/125 [==============================] - 1s 8ms/step - loss: 7.7050e-04\n",
      "Epoch 58/100\n",
      "125/125 [==============================] - 1s 8ms/step - loss: 8.2650e-04\n",
      "Epoch 59/100\n",
      "125/125 [==============================] - 1s 8ms/step - loss: 0.0011\n",
      "Epoch 60/100\n",
      "125/125 [==============================] - 1s 7ms/step - loss: 8.1102e-04\n",
      "Epoch 61/100\n",
      "125/125 [==============================] - 1s 8ms/step - loss: 8.1274e-04\n",
      "Epoch 62/100\n",
      "125/125 [==============================] - 1s 8ms/step - loss: 8.0685e-04\n",
      "Epoch 63/100\n",
      "125/125 [==============================] - 1s 7ms/step - loss: 0.0014\n",
      "Epoch 64/100\n",
      "125/125 [==============================] - 1s 8ms/step - loss: 6.7811e-04\n",
      "Epoch 65/100\n",
      "125/125 [==============================] - 1s 8ms/step - loss: 7.5320e-04\n",
      "Epoch 66/100\n",
      "125/125 [==============================] - 1s 8ms/step - loss: 7.7674e-04\n",
      "Epoch 67/100\n",
      "125/125 [==============================] - 1s 8ms/step - loss: 8.4521e-04\n",
      "Epoch 68/100\n",
      "125/125 [==============================] - 1s 8ms/step - loss: 0.0011\n",
      "Epoch 69/100\n",
      "125/125 [==============================] - 1s 8ms/step - loss: 8.9910e-04\n",
      "Epoch 70/100\n",
      "125/125 [==============================] - 1s 8ms/step - loss: 0.0011\n",
      "Epoch 71/100\n",
      "125/125 [==============================] - 1s 8ms/step - loss: 7.0641e-04\n",
      "Epoch 72/100\n",
      "125/125 [==============================] - 1s 8ms/step - loss: 7.9178e-04\n",
      "Epoch 73/100\n",
      "125/125 [==============================] - 1s 8ms/step - loss: 7.7031e-04\n",
      "Epoch 74/100\n",
      "125/125 [==============================] - 1s 8ms/step - loss: 7.7180e-04\n",
      "Epoch 75/100\n",
      "  7/125 [>.............................] - ETA: 1s - loss: 6.5615e-04"
     ]
    }
   ],
   "source": [
    "# Start Timer\n",
    "start_time = time.time()\n",
    "\n",
    "# Train the model\n",
    "history = ann.fit(X_train_random, y_train_random, batch_size=32, epochs=100, verbose=1)\n",
    "\n",
    "# End Timer\n",
    "end_time = time.time()"
   ]
  },
  {
   "cell_type": "markdown",
   "id": "0b1fdb8f-84d1-4a21-b30d-9af354322ed5",
   "metadata": {},
   "source": [
    "#### Training Time"
   ]
  },
  {
   "cell_type": "code",
   "execution_count": null,
   "id": "63217620-3ffd-43f2-bf32-d7d0ec236ed7",
   "metadata": {},
   "outputs": [],
   "source": [
    "print(f\"\\nTotal Training Time: {end_time - start_time:.2f} seconds\")"
   ]
  }
 ],
 "metadata": {
  "kernelspec": {
   "display_name": "Python [conda env:dpn]",
   "language": "python",
   "name": "conda-env-dpn-py"
  },
  "language_info": {
   "codemirror_mode": {
    "name": "ipython",
    "version": 3
   },
   "file_extension": ".py",
   "mimetype": "text/x-python",
   "name": "python",
   "nbconvert_exporter": "python",
   "pygments_lexer": "ipython3",
   "version": "3.10.16"
  }
 },
 "nbformat": 4,
 "nbformat_minor": 5
}
