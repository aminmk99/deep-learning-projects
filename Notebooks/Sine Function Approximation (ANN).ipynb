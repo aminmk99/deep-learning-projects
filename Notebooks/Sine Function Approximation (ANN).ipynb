{
 "cells": [
  {
   "cell_type": "code",
   "execution_count": 3,
   "id": "a0110cdc-887d-46c2-98af-ae5a77a20311",
   "metadata": {},
   "outputs": [],
   "source": [
    "import numpy as np\n",
    "import pandas as pd"
   ]
  },
  {
   "cell_type": "code",
   "execution_count": 9,
   "id": "017871b0-f11a-4e2a-b3bc-a297f8218845",
   "metadata": {},
   "outputs": [],
   "source": [
    "nums = np.random.randint(0, 360, 20)"
   ]
  },
  {
   "cell_type": "code",
   "execution_count": 15,
   "id": "160e912e-4276-4ca4-8359-b87e32948bef",
   "metadata": {},
   "outputs": [
    {
     "data": {
      "text/plain": [
       "array([142,  59, 100, 127, 289, 111, 264, 156, 194, 225, 105, 296, 263,\n",
       "       341,  32, 315, 156, 191, 207, 138])"
      ]
     },
     "execution_count": 15,
     "metadata": {},
     "output_type": "execute_result"
    }
   ],
   "source": [
    "nums"
   ]
  },
  {
   "cell_type": "code",
   "execution_count": 13,
   "id": "01407836-49f2-4d01-89d6-8948059344e3",
   "metadata": {},
   "outputs": [
    {
     "data": {
      "text/plain": [
       "array([-0.58779501,  0.63673801, -0.50636564,  0.97263007, -0.02652102,\n",
       "       -0.86455145,  0.10601749, -0.88178462, -0.70238633, -0.93009488,\n",
       "       -0.97053528,  0.63676125, -0.77944719,  0.99060323,  0.55142668,\n",
       "        0.74513326, -0.88178462,  0.59490855, -0.33830503, -0.22805226])"
      ]
     },
     "execution_count": 13,
     "metadata": {},
     "output_type": "execute_result"
    }
   ],
   "source": [
    "np.sin(nums)"
   ]
  },
  {
   "cell_type": "code",
   "execution_count": 19,
   "id": "3f28f65f-19fa-4b4b-8930-b2edcd10ae80",
   "metadata": {},
   "outputs": [
    {
     "data": {
      "text/plain": [
       "-0.9880316240928618"
      ]
     },
     "execution_count": 19,
     "metadata": {},
     "output_type": "execute_result"
    }
   ],
   "source": [
    "np.sin(30)"
   ]
  },
  {
   "cell_type": "code",
   "execution_count": 21,
   "id": "36e9ee02-9841-4999-a2c7-09b6d5a700f2",
   "metadata": {},
   "outputs": [
    {
     "data": {
      "text/plain": [
       "0.49999999999999994"
      ]
     },
     "execution_count": 21,
     "metadata": {},
     "output_type": "execute_result"
    }
   ],
   "source": [
    "np.sin(np.radians(30))"
   ]
  },
  {
   "cell_type": "markdown",
   "id": "08b1f49e-98ac-4f4c-9443-38fda3dbdf69",
   "metadata": {},
   "source": [
    "---"
   ]
  },
  {
   "cell_type": "code",
   "execution_count": 24,
   "id": "a127101b-a384-4b06-b25e-4bfb60e70e98",
   "metadata": {},
   "outputs": [],
   "source": [
    "X_degrees = np.random.uniform(0, 360, 5000)"
   ]
  },
  {
   "cell_type": "code",
   "execution_count": 26,
   "id": "052de471-05e8-4958-a3e6-48456a55de81",
   "metadata": {},
   "outputs": [
    {
     "data": {
      "text/plain": [
       "array([312.64843549, 305.22892228, 133.23654368, ...,  23.16577627,\n",
       "       358.11945221, 312.47094354])"
      ]
     },
     "execution_count": 26,
     "metadata": {},
     "output_type": "execute_result"
    }
   ],
   "source": [
    "X_degrees"
   ]
  },
  {
   "cell_type": "code",
   "execution_count": 28,
   "id": "8c3f6e5c-4441-49c9-8549-d62d0c72be0a",
   "metadata": {},
   "outputs": [],
   "source": [
    "X_radians = np.radians(X_degrees)"
   ]
  },
  {
   "cell_type": "code",
   "execution_count": 30,
   "id": "e2a7ac79-52d3-44ea-a3f4-dff57556b509",
   "metadata": {},
   "outputs": [],
   "source": [
    "y = np.sin(X_radians)"
   ]
  },
  {
   "cell_type": "markdown",
   "id": "511fd472-5522-4ff2-8e62-d13109880151",
   "metadata": {},
   "source": [
    "## Creating Dataset"
   ]
  },
  {
   "cell_type": "markdown",
   "id": "e33b6fe0-9049-4f51-a83e-b05221ce1e86",
   "metadata": {},
   "source": [
    "### Uniformly spaced dataset"
   ]
  },
  {
   "cell_type": "code",
   "execution_count": 82,
   "id": "901c7111-ad6a-4d16-91b1-f2779bb6f60f",
   "metadata": {},
   "outputs": [],
   "source": [
    "X_degrees_uniform = np.arange(0, 360, 0.1)\n",
    "X_radians_uniform = np.radians(X_degrees_uniform)\n",
    "y_uniform = np.sin(X_radians_uniform)"
   ]
  },
  {
   "cell_type": "code",
   "execution_count": 84,
   "id": "06af27f6-5d23-4f66-83ef-7e6fa867d6b1",
   "metadata": {},
   "outputs": [
    {
     "name": "stdout",
     "output_type": "stream",
     "text": [
      "Uniform Sample (Degrees): [0.  0.1 0.2 0.3 0.4 0.5 0.6 0.7 0.8 0.9]\n"
     ]
    }
   ],
   "source": [
    "print(\"Uniform Sample (Degrees):\", X_degrees_uniform[:10])"
   ]
  },
  {
   "cell_type": "markdown",
   "id": "0936aebd-9749-4c0c-91f6-4d118cd86b32",
   "metadata": {},
   "source": [
    "Number of elemnts: (stop - start) / step\n",
    "(360 - 0) / 0.1 = 3600"
   ]
  },
  {
   "cell_type": "code",
   "execution_count": 52,
   "id": "5e9353c9-a324-43ca-89e5-aa6409dd6976",
   "metadata": {},
   "outputs": [
    {
     "data": {
      "text/plain": [
       "3600"
      ]
     },
     "execution_count": 52,
     "metadata": {},
     "output_type": "execute_result"
    }
   ],
   "source": [
    "X_radians_uniform.size"
   ]
  },
  {
   "cell_type": "code",
   "execution_count": 116,
   "id": "da18c942-2377-43ed-9075-f4ed9602f7a3",
   "metadata": {},
   "outputs": [
    {
     "data": {
      "text/plain": [
       "array([0.        , 0.00174533, 0.00349065, 0.00523596, 0.00698126,\n",
       "       0.00872654, 0.01047178, 0.012217  , 0.01396218, 0.01570732])"
      ]
     },
     "execution_count": 116,
     "metadata": {},
     "output_type": "execute_result"
    }
   ],
   "source": [
    "y_uniform[:10]"
   ]
  },
  {
   "cell_type": "markdown",
   "id": "ad07be99-faf1-43e4-adf4-cbec8b8f7d3a",
   "metadata": {},
   "source": [
    "### Random dataset"
   ]
  },
  {
   "cell_type": "code",
   "execution_count": 56,
   "id": "983a0b6a-be44-43bd-ae57-1c6c99b5edfc",
   "metadata": {},
   "outputs": [],
   "source": [
    "X_degrees_random = np.random.uniform(0, 360, 5000)\n",
    "X_radians_random = np.radians(X_degrees_random)\n",
    "y_random = np.sin(X_radians_random)"
   ]
  },
  {
   "cell_type": "code",
   "execution_count": 58,
   "id": "4397a49a-8081-4c88-bac4-17a45360f24f",
   "metadata": {},
   "outputs": [
    {
     "name": "stdout",
     "output_type": "stream",
     "text": [
      "Random Sample (Degrees): [146.08216413 346.2583107  353.21382752 259.09625779 344.68269291\n",
      " 132.7256928  252.92081423 190.13196642 158.45019033 123.6712561 ]\n"
     ]
    }
   ],
   "source": [
    "print(\"Random Sample (Degrees):\", X_degrees_random[:10])"
   ]
  },
  {
   "cell_type": "code",
   "execution_count": 60,
   "id": "c983db81-647d-4ead-969b-fdcb37c5cf27",
   "metadata": {},
   "outputs": [
    {
     "data": {
      "text/plain": [
       "5000"
      ]
     },
     "execution_count": 60,
     "metadata": {},
     "output_type": "execute_result"
    }
   ],
   "source": [
    "X_radians_random.size"
   ]
  },
  {
   "cell_type": "code",
   "execution_count": 66,
   "id": "65cfa191-8fb9-4808-95b9-4bfd661cab79",
   "metadata": {},
   "outputs": [
    {
     "data": {
      "text/plain": [
       "array([2.54961474, 6.04334758, 6.16474425, 4.52208278, 6.01584787,\n",
       "       2.31650034, 4.41430096, 3.31842883, 2.76547752, 2.15847061])"
      ]
     },
     "execution_count": 66,
     "metadata": {},
     "output_type": "execute_result"
    }
   ],
   "source": [
    "X_radians_random[:10]"
   ]
  },
  {
   "cell_type": "code",
   "execution_count": 74,
   "id": "d6ff56f5-8bf4-48ad-9af7-2f459973a856",
   "metadata": {},
   "outputs": [
    {
     "data": {
      "text/plain": [
       "array([ 0.55800346, -0.237545  , -0.11816433, -0.98194636, -0.2641644 ,\n",
       "        0.73461042, -0.95589977, -0.17591597,  0.36730994,  0.83223237])"
      ]
     },
     "execution_count": 74,
     "metadata": {},
     "output_type": "execute_result"
    }
   ],
   "source": [
    "y_random[:10]"
   ]
  },
  {
   "cell_type": "markdown",
   "id": "b1ff4482-280e-45da-b556-839f6bf706cb",
   "metadata": {},
   "source": [
    "---"
   ]
  },
  {
   "cell_type": "markdown",
   "id": "9cbca8a4-fc94-4671-ab2b-4a1887330b5e",
   "metadata": {},
   "source": [
    "## Data Preprocessing: Splitting & Normalization"
   ]
  },
  {
   "cell_type": "markdown",
   "id": "1236e9d4-a682-4ff2-8b84-c4656445c69e",
   "metadata": {},
   "source": [
    "### Data Preprocessing: Splitting & Normalization\n",
    "\n",
    "Before training our ANN model, we need to:\n",
    "1. **Normalize the input values** to improve training efficiency.\n",
    "2. **Split the dataset** into training and testing sets."
   ]
  },
  {
   "cell_type": "code",
   "execution_count": 126,
   "id": "3eb77b6b-54b2-44a5-9e58-a2b8b0ce214f",
   "metadata": {},
   "outputs": [],
   "source": [
    "from sklearn.preprocessing import MinMaxScaler\n",
    "from sklearn.model_selection import train_test_split"
   ]
  },
  {
   "cell_type": "code",
   "execution_count": 131,
   "id": "54fd6cdc-b033-4d3a-9045-2315f304f568",
   "metadata": {},
   "outputs": [],
   "source": [
    "scaler = MinMaxScaler(feature_range=(-1, 1))"
   ]
  },
  {
   "cell_type": "code",
   "execution_count": 133,
   "id": "c2002f08-0191-4741-9d61-104d34065dae",
   "metadata": {},
   "outputs": [],
   "source": [
    "X_radians_uniform = scaler.fit_transform(X_radians_uniform.reshape(-1, 1)).flatten()\n",
    "X_radians_random = scaler.fit_transform(X_radians_random.reshape(-1, 1)).flatten()"
   ]
  },
  {
   "cell_type": "markdown",
   "id": "d10f36b7-56cd-4539-a715-bce1da8bf92b",
   "metadata": {},
   "source": [
    "#### Normalize the entire dataset first"
   ]
  },
  {
   "cell_type": "code",
   "execution_count": 137,
   "id": "8376e02b-0580-404b-8318-980596a85e0e",
   "metadata": {},
   "outputs": [],
   "source": [
    "X_radians_uniform = scaler.fit_transform(X_radians_uniform.reshape(-1, 1)).flatten()\n",
    "X_radians_random = scaler.fit_transform(X_radians_random.reshape(-1, 1)).flatten()"
   ]
  },
  {
   "cell_type": "markdown",
   "id": "8e4c370a-66e4-4a7f-9ddb-86f758b924f1",
   "metadata": {},
   "source": [
    "#### Split into training and testing sets"
   ]
  },
  {
   "cell_type": "code",
   "execution_count": 140,
   "id": "eb751b5b-a306-4d3a-8eaa-75599e95135f",
   "metadata": {},
   "outputs": [],
   "source": [
    "X_train_uniform, X_test_uniform, y_train_uniform, y_test_uniform = train_test_split(\n",
    "    X_radians_uniform, y_uniform, test_size=0.2, random_state=42\n",
    ")\n",
    "\n",
    "X_train_random, X_test_random, y_train_random, y_test_random = train_test_split(\n",
    "    X_radians_random, y_random, test_size=0.2, random_state=42\n",
    ")"
   ]
  },
  {
   "cell_type": "markdown",
   "id": "c4b09dc0-1ab5-497b-b729-a613450aaa78",
   "metadata": {},
   "source": [
    "---"
   ]
  },
  {
   "cell_type": "markdown",
   "id": "367ec833-e7d0-4720-b8ba-d66d5243e01e",
   "metadata": {},
   "source": [
    "## Define the ANN Model Architecture"
   ]
  },
  {
   "cell_type": "code",
   "execution_count": 167,
   "id": "145f7fcf-943f-4d9a-ad2f-e4b5fce5cb62",
   "metadata": {},
   "outputs": [],
   "source": [
    "from tensorflow.keras.models import Sequential\n",
    "from tensorflow.keras.layers import Dense"
   ]
  },
  {
   "cell_type": "code",
   "execution_count": 169,
   "id": "76ac1157-0d12-465e-9955-552a21e9e63f",
   "metadata": {},
   "outputs": [],
   "source": [
    "ann = Sequential()"
   ]
  },
  {
   "cell_type": "markdown",
   "id": "28e05a25-f556-4cb8-9e32-b99f5292242b",
   "metadata": {},
   "source": [
    "#### Input + First Hidden Layer"
   ]
  },
  {
   "cell_type": "code",
   "execution_count": 177,
   "id": "5c11e4e6-91c2-4c78-b9c2-e5d92a1c5b21",
   "metadata": {},
   "outputs": [],
   "source": [
    "ann.add(Dense(units=16, activation='sigmoid', input_shape=(1,)))"
   ]
  },
  {
   "cell_type": "code",
   "execution_count": 173,
   "id": "4ca569d5-f055-475e-b0c0-9d31479f2d71",
   "metadata": {},
   "outputs": [],
   "source": [
    "# Additional Hidden Layers\n",
    "ann.add(Dense(units=16, activation='sigmoid'))\n",
    "ann.add(Dense(units=8, activation='sigmoid'))"
   ]
  },
  {
   "cell_type": "code",
   "execution_count": null,
   "id": "695111f2-1823-43f4-9436-da799bbfae9e",
   "metadata": {},
   "outputs": [],
   "source": []
  }
 ],
 "metadata": {
  "kernelspec": {
   "display_name": "Python [conda env:dpn]",
   "language": "python",
   "name": "conda-env-dpn-py"
  },
  "language_info": {
   "codemirror_mode": {
    "name": "ipython",
    "version": 3
   },
   "file_extension": ".py",
   "mimetype": "text/x-python",
   "name": "python",
   "nbconvert_exporter": "python",
   "pygments_lexer": "ipython3",
   "version": "3.10.16"
  }
 },
 "nbformat": 4,
 "nbformat_minor": 5
}
