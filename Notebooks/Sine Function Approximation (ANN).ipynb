{
 "cells": [
  {
   "cell_type": "code",
   "execution_count": 3,
   "id": "a0110cdc-887d-46c2-98af-ae5a77a20311",
   "metadata": {},
   "outputs": [],
   "source": [
    "import numpy as np\n",
    "import pandas as pd"
   ]
  },
  {
   "cell_type": "code",
   "execution_count": null,
   "id": "017871b0-f11a-4e2a-b3bc-a297f8218845",
   "metadata": {},
   "outputs": [],
   "source": [
    "nums = np.random.randint()"
   ]
  }
 ],
 "metadata": {
  "kernelspec": {
   "display_name": "Python [conda env:dpn]",
   "language": "python",
   "name": "conda-env-dpn-py"
  },
  "language_info": {
   "codemirror_mode": {
    "name": "ipython",
    "version": 3
   },
   "file_extension": ".py",
   "mimetype": "text/x-python",
   "name": "python",
   "nbconvert_exporter": "python",
   "pygments_lexer": "ipython3",
   "version": "3.10.16"
  }
 },
 "nbformat": 4,
 "nbformat_minor": 5
}
