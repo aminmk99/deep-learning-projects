{
 "cells": [
  {
   "cell_type": "markdown",
   "id": "8a9fc44f-104b-4fee-8500-791eb434785b",
   "metadata": {},
   "source": [
    "## Description"
   ]
  },
  {
   "cell_type": "markdown",
   "id": "3120cb48-fd0c-48b1-af88-0beb85927890",
   "metadata": {},
   "source": [
    "## Sine Function Approximation Using Artificial Neural Networks (ANN)\n",
    "\n",
    "### 📌 Project Overview\n",
    "In this project, we built an Artificial Neural Network (ANN) to approximate the **sine function**. The goal was to train a neural network that takes an angle (in radians) as input and predicts its sine value accurately.\n",
    "\n",
    "### 🛠 Steps We Followed:\n",
    "1. **Dataset Creation**  \n",
    "   - Generated input angles in degrees using both **uniformly spaced** (`np.arange()`) and **randomly sampled** (`np.random.uniform()`) datasets.  \n",
    "   - Converted degrees to **radians** since `np.sin()` expects inputs in radians.  \n",
    "   - Computed **sine values** as the ground truth.\n",
    "\n",
    "2. **Data Preprocessing**  \n",
    "   - **Normalized the input values** to range between `-1` and `1` for better model performance.  \n",
    "   - **Split the dataset** into training and testing sets (80% train, 20% test).  \n",
    "\n",
    "3. **Building the ANN Model**  \n",
    "   - Used a **Sequential Neural Network** with:\n",
    "     - **1 Input Layer**\n",
    "     - **3 Hidden Layers** (each with `tanh` activation)\n",
    "     - **1 Output Layer** (`linear` activation for regression)  \n",
    "   - **Compiled the model** with:\n",
    "     - `adam` optimizer  \n",
    "     - `mean_squared_error` (MSE) loss function  \n",
    "\n",
    "4. **Training the Model**  \n",
    "   - Trained the ANN for **100 epochs** with a **batch size of 32**.  \n",
    "   - Measured **training time** for performance tracking.  \n",
    "\n",
    "5. **Evaluating Performance**  \n",
    "   - Computed error metrics:  \n",
    "     - **Mean Squared Error (MSE)** → `0.000553`  \n",
    "     - **Mean Absolute Error (MAE)** → `0.020092`  \n",
    "     - **Root Mean Squared Error (RMSE)** → `0.023524`  \n",
    "   - Plotted **Actual vs. Predicted Sine Values** to visually assess model accuracy.  \n",
    "\n",
    "### ✅ **Final Outcome**\n",
    "- The model successfully learned to approximate the sine function **with high accuracy**.  \n",
    "- The predicted sine values closely matched the actual sine curve.  \n",
    "- The ANN model generalizes well, making it suitable for function approximation tasks.  \n",
    "\n",
    "🔥 **This project demonstrated how deep learning can be used for function approximation, showing that ANNs can learn continuous mathematical functions with minimal error!** 🚀\n"
   ]
  },
  {
   "cell_type": "markdown",
   "id": "ad44e7d0-3fed-49ce-9123-5f5f15880b90",
   "metadata": {},
   "source": [
    "<br><br><br>  <!-- Creates multiple empty lines -->"
   ]
  },
  {
   "cell_type": "markdown",
   "id": "d79c8b03-5433-4125-8a3f-86b916762b5a",
   "metadata": {},
   "source": [
    "## Custom Function(s)"
   ]
  },
  {
   "cell_type": "code",
   "execution_count": 348,
   "id": "1517258d-6457-41ca-9d7d-b97a5c4f44b4",
   "metadata": {
    "jupyter": {
     "source_hidden": true
    }
   },
   "outputs": [],
   "source": [
    "import matplotlib.pyplot as plt\n",
    "\n",
    "def plot(X, y, pred):\n",
    "    \"\"\"\n",
    "    Plots the actual sine values against the predicted sine values.\n",
    "\n",
    "    Parameters:\n",
    "    -----------\n",
    "    X : array-like\n",
    "        The input values (radians) used for prediction.\n",
    "    y : array-like\n",
    "        The actual sine values corresponding to X.\n",
    "    pred : array-like\n",
    "        The predicted sine values from the model.\n",
    "\n",
    "    Returns:\n",
    "    --------\n",
    "    None\n",
    "        Displays a plot comparing the actual vs. predicted sine values.\n",
    "    \n",
    "    Notes:\n",
    "    ------\n",
    "    - The actual sine values are plotted as a blue line.\n",
    "    - The predicted values are shown as red scatter points.\n",
    "    - The x-axis represents the input values (in radians).\n",
    "    - The y-axis represents the sine values.\n",
    "\n",
    "    Example:\n",
    "    --------\n",
    "    >>> plot(X_test, y_test, y_pred)\n",
    "    \"\"\"\n",
    "    \n",
    "    plt.figure(figsize=(8, 4))\n",
    "    plt.plot(X, y, label='Actual Sine', color='blue')\n",
    "    plt.scatter(X, pred, label='Predicted Sine', color='red', s=5)\n",
    "    plt.title('Actual vs. Predicted Sine Values')\n",
    "    plt.xlabel('Input (Radians)')\n",
    "    plt.ylabel('Sine Value')\n",
    "    plt.legend()\n",
    "    plt.show()"
   ]
  },
  {
   "cell_type": "markdown",
   "id": "6a9fbfe5-d07b-401f-a899-b9bcaf241d63",
   "metadata": {},
   "source": [
    "---"
   ]
  },
  {
   "cell_type": "markdown",
   "id": "2cc64448-2cff-482e-872e-c93063ec65f0",
   "metadata": {
    "jp-MarkdownHeadingCollapsed": true
   },
   "source": [
    "## Importing Libraries"
   ]
  },
  {
   "cell_type": "code",
   "execution_count": 206,
   "id": "afb1bbf7-3bdd-4962-aa08-e48ca10bfa94",
   "metadata": {},
   "outputs": [],
   "source": [
    "import numpy as np\n",
    "import pandas as pd\n",
    "import time"
   ]
  },
  {
   "cell_type": "markdown",
   "id": "6425e7a8-1b76-4b9e-b19d-0b657f9803f4",
   "metadata": {},
   "source": [
    "---"
   ]
  },
  {
   "cell_type": "markdown",
   "id": "511fd472-5522-4ff2-8e62-d13109880151",
   "metadata": {},
   "source": [
    "## Creating Dataset"
   ]
  },
  {
   "cell_type": "markdown",
   "id": "e33b6fe0-9049-4f51-a83e-b05221ce1e86",
   "metadata": {},
   "source": [
    "### Uniformly spaced dataset"
   ]
  },
  {
   "cell_type": "code",
   "execution_count": 82,
   "id": "901c7111-ad6a-4d16-91b1-f2779bb6f60f",
   "metadata": {},
   "outputs": [],
   "source": [
    "X_degrees_uniform = np.arange(0, 360, 0.1)\n",
    "X_radians_uniform = np.radians(X_degrees_uniform)\n",
    "y_uniform = np.sin(X_radians_uniform)"
   ]
  },
  {
   "cell_type": "code",
   "execution_count": 84,
   "id": "06af27f6-5d23-4f66-83ef-7e6fa867d6b1",
   "metadata": {},
   "outputs": [
    {
     "name": "stdout",
     "output_type": "stream",
     "text": [
      "Uniform Sample (Degrees): [0.  0.1 0.2 0.3 0.4 0.5 0.6 0.7 0.8 0.9]\n"
     ]
    }
   ],
   "source": [
    "print(\"Uniform Sample (Degrees):\", X_degrees_uniform[:10])"
   ]
  },
  {
   "cell_type": "markdown",
   "id": "0936aebd-9749-4c0c-91f6-4d118cd86b32",
   "metadata": {},
   "source": [
    "Number of elemnts: (stop - start) / step\n",
    "(360 - 0) / 0.1 = 3600"
   ]
  },
  {
   "cell_type": "code",
   "execution_count": 52,
   "id": "5e9353c9-a324-43ca-89e5-aa6409dd6976",
   "metadata": {},
   "outputs": [
    {
     "data": {
      "text/plain": [
       "3600"
      ]
     },
     "execution_count": 52,
     "metadata": {},
     "output_type": "execute_result"
    }
   ],
   "source": [
    "X_radians_uniform.size"
   ]
  },
  {
   "cell_type": "code",
   "execution_count": 116,
   "id": "da18c942-2377-43ed-9075-f4ed9602f7a3",
   "metadata": {},
   "outputs": [
    {
     "data": {
      "text/plain": [
       "array([0.        , 0.00174533, 0.00349065, 0.00523596, 0.00698126,\n",
       "       0.00872654, 0.01047178, 0.012217  , 0.01396218, 0.01570732])"
      ]
     },
     "execution_count": 116,
     "metadata": {},
     "output_type": "execute_result"
    }
   ],
   "source": [
    "y_uniform[:10]"
   ]
  },
  {
   "cell_type": "markdown",
   "id": "ad07be99-faf1-43e4-adf4-cbec8b8f7d3a",
   "metadata": {},
   "source": [
    "### Random dataset"
   ]
  },
  {
   "cell_type": "code",
   "execution_count": 56,
   "id": "983a0b6a-be44-43bd-ae57-1c6c99b5edfc",
   "metadata": {},
   "outputs": [],
   "source": [
    "X_degrees_random = np.random.uniform(0, 360, 5000)\n",
    "X_radians_random = np.radians(X_degrees_random)\n",
    "y_random = np.sin(X_radians_random)"
   ]
  },
  {
   "cell_type": "code",
   "execution_count": 58,
   "id": "4397a49a-8081-4c88-bac4-17a45360f24f",
   "metadata": {},
   "outputs": [
    {
     "name": "stdout",
     "output_type": "stream",
     "text": [
      "Random Sample (Degrees): [146.08216413 346.2583107  353.21382752 259.09625779 344.68269291\n",
      " 132.7256928  252.92081423 190.13196642 158.45019033 123.6712561 ]\n"
     ]
    }
   ],
   "source": [
    "print(\"Random Sample (Degrees):\", X_degrees_random[:10])"
   ]
  },
  {
   "cell_type": "code",
   "execution_count": 60,
   "id": "c983db81-647d-4ead-969b-fdcb37c5cf27",
   "metadata": {},
   "outputs": [
    {
     "data": {
      "text/plain": [
       "5000"
      ]
     },
     "execution_count": 60,
     "metadata": {},
     "output_type": "execute_result"
    }
   ],
   "source": [
    "X_radians_random.size"
   ]
  },
  {
   "cell_type": "code",
   "execution_count": 66,
   "id": "65cfa191-8fb9-4808-95b9-4bfd661cab79",
   "metadata": {},
   "outputs": [
    {
     "data": {
      "text/plain": [
       "array([2.54961474, 6.04334758, 6.16474425, 4.52208278, 6.01584787,\n",
       "       2.31650034, 4.41430096, 3.31842883, 2.76547752, 2.15847061])"
      ]
     },
     "execution_count": 66,
     "metadata": {},
     "output_type": "execute_result"
    }
   ],
   "source": [
    "X_radians_random[:10]"
   ]
  },
  {
   "cell_type": "code",
   "execution_count": 74,
   "id": "d6ff56f5-8bf4-48ad-9af7-2f459973a856",
   "metadata": {},
   "outputs": [
    {
     "data": {
      "text/plain": [
       "array([ 0.55800346, -0.237545  , -0.11816433, -0.98194636, -0.2641644 ,\n",
       "        0.73461042, -0.95589977, -0.17591597,  0.36730994,  0.83223237])"
      ]
     },
     "execution_count": 74,
     "metadata": {},
     "output_type": "execute_result"
    }
   ],
   "source": [
    "y_random[:10]"
   ]
  },
  {
   "cell_type": "markdown",
   "id": "b1ff4482-280e-45da-b556-839f6bf706cb",
   "metadata": {},
   "source": [
    "---"
   ]
  },
  {
   "cell_type": "markdown",
   "id": "9cbca8a4-fc94-4671-ab2b-4a1887330b5e",
   "metadata": {},
   "source": [
    "## Data Preprocessing: Splitting & Normalization"
   ]
  },
  {
   "cell_type": "markdown",
   "id": "1236e9d4-a682-4ff2-8b84-c4656445c69e",
   "metadata": {},
   "source": [
    "### Data Preprocessing: Splitting & Normalization\n",
    "\n",
    "Before training our ANN model, we need to:\n",
    "1. **Normalize the input values** to improve training efficiency.\n",
    "2. **Split the dataset** into training and testing sets."
   ]
  },
  {
   "cell_type": "code",
   "execution_count": 126,
   "id": "3eb77b6b-54b2-44a5-9e58-a2b8b0ce214f",
   "metadata": {},
   "outputs": [],
   "source": [
    "from sklearn.preprocessing import MinMaxScaler\n",
    "from sklearn.model_selection import train_test_split"
   ]
  },
  {
   "cell_type": "code",
   "execution_count": 131,
   "id": "54fd6cdc-b033-4d3a-9045-2315f304f568",
   "metadata": {},
   "outputs": [],
   "source": [
    "scaler = MinMaxScaler(feature_range=(-1, 1))"
   ]
  },
  {
   "cell_type": "code",
   "execution_count": 133,
   "id": "c2002f08-0191-4741-9d61-104d34065dae",
   "metadata": {},
   "outputs": [],
   "source": [
    "X_radians_uniform = scaler.fit_transform(X_radians_uniform.reshape(-1, 1)).flatten()\n",
    "X_radians_random = scaler.fit_transform(X_radians_random.reshape(-1, 1)).flatten()"
   ]
  },
  {
   "cell_type": "markdown",
   "id": "d10f36b7-56cd-4539-a715-bce1da8bf92b",
   "metadata": {},
   "source": [
    "#### Normalize the entire dataset first"
   ]
  },
  {
   "cell_type": "code",
   "execution_count": 137,
   "id": "8376e02b-0580-404b-8318-980596a85e0e",
   "metadata": {},
   "outputs": [],
   "source": [
    "X_radians_uniform = scaler.fit_transform(X_radians_uniform.reshape(-1, 1)).flatten()\n",
    "X_radians_random = scaler.fit_transform(X_radians_random.reshape(-1, 1)).flatten()"
   ]
  },
  {
   "cell_type": "markdown",
   "id": "8e4c370a-66e4-4a7f-9ddb-86f758b924f1",
   "metadata": {},
   "source": [
    "#### Split into training and testing sets"
   ]
  },
  {
   "cell_type": "code",
   "execution_count": 140,
   "id": "eb751b5b-a306-4d3a-8eaa-75599e95135f",
   "metadata": {},
   "outputs": [],
   "source": [
    "X_train_uniform, X_test_uniform, y_train_uniform, y_test_uniform = train_test_split(\n",
    "    X_radians_uniform, y_uniform, test_size=0.2, random_state=42\n",
    ")\n",
    "\n",
    "X_train_random, X_test_random, y_train_random, y_test_random = train_test_split(\n",
    "    X_radians_random, y_random, test_size=0.2, random_state=42\n",
    ")"
   ]
  },
  {
   "cell_type": "markdown",
   "id": "c4b09dc0-1ab5-497b-b729-a613450aaa78",
   "metadata": {},
   "source": [
    "---"
   ]
  },
  {
   "cell_type": "markdown",
   "id": "367ec833-e7d0-4720-b8ba-d66d5243e01e",
   "metadata": {},
   "source": [
    "## Define the ANN Model Architecture"
   ]
  },
  {
   "cell_type": "code",
   "execution_count": 167,
   "id": "145f7fcf-943f-4d9a-ad2f-e4b5fce5cb62",
   "metadata": {},
   "outputs": [],
   "source": [
    "from tensorflow.keras.models import Sequential\n",
    "from tensorflow.keras.layers import Dense"
   ]
  },
  {
   "cell_type": "code",
   "execution_count": 169,
   "id": "76ac1157-0d12-465e-9955-552a21e9e63f",
   "metadata": {},
   "outputs": [],
   "source": [
    "ann = Sequential()"
   ]
  },
  {
   "cell_type": "markdown",
   "id": "28e05a25-f556-4cb8-9e32-b99f5292242b",
   "metadata": {},
   "source": [
    "#### Input + First Hidden Layer"
   ]
  },
  {
   "cell_type": "code",
   "execution_count": 194,
   "id": "5c11e4e6-91c2-4c78-b9c2-e5d92a1c5b21",
   "metadata": {},
   "outputs": [],
   "source": [
    "ann.add(Dense(units=16, activation='tanh', input_shape=(1,)))"
   ]
  },
  {
   "cell_type": "markdown",
   "id": "79ff2bc3-5bc1-4f80-b75d-5fb687dd9ffc",
   "metadata": {},
   "source": [
    "#### Additional Hidden Layers"
   ]
  },
  {
   "cell_type": "code",
   "execution_count": 198,
   "id": "4ca569d5-f055-475e-b0c0-9d31479f2d71",
   "metadata": {},
   "outputs": [],
   "source": [
    "ann.add(Dense(units=16, activation='tanh'))\n",
    "ann.add(Dense(units=8, activation='tanh'))"
   ]
  },
  {
   "cell_type": "markdown",
   "id": "b69448c9-3f28-481f-9e92-2d86a9a86db8",
   "metadata": {},
   "source": [
    "#### Output Layer"
   ]
  },
  {
   "cell_type": "code",
   "execution_count": 187,
   "id": "e20228d8-1776-4dd3-9ced-8d5089b7338f",
   "metadata": {},
   "outputs": [],
   "source": [
    "ann.add(Dense(units=1, activation='linear'))  # Regression → No sigmoid here"
   ]
  },
  {
   "cell_type": "markdown",
   "id": "1a5bc91e-5044-422e-986d-ec9152653e53",
   "metadata": {},
   "source": [
    "#### Compile the Model"
   ]
  },
  {
   "cell_type": "code",
   "execution_count": 190,
   "id": "fbb8d550-6cd4-45fd-a633-ad2cf9e5f801",
   "metadata": {},
   "outputs": [],
   "source": [
    "ann.compile(optimizer='adam', loss='mean_squared_error')"
   ]
  },
  {
   "cell_type": "markdown",
   "id": "fd4827bb-cdf3-4fcc-a179-7d69872c6708",
   "metadata": {},
   "source": [
    "---"
   ]
  },
  {
   "cell_type": "markdown",
   "id": "0b09c357-6499-4606-b218-023dd45d862e",
   "metadata": {},
   "source": [
    "## Train the Model"
   ]
  },
  {
   "cell_type": "markdown",
   "id": "3604687d-f0d0-47ff-98f4-6d5121a8effe",
   "metadata": {},
   "source": [
    "### Uniform Dataset"
   ]
  },
  {
   "cell_type": "code",
   "execution_count": 208,
   "id": "e7a7fb24-8d68-44ae-8086-56be8eea9314",
   "metadata": {
    "collapsed": true,
    "jupyter": {
     "outputs_hidden": true
    },
    "scrolled": true
   },
   "outputs": [
    {
     "name": "stdout",
     "output_type": "stream",
     "text": [
      "Epoch 1/100\n",
      "90/90 [==============================] - 4s 8ms/step - loss: 0.5197\n",
      "Epoch 2/100\n",
      "90/90 [==============================] - 1s 8ms/step - loss: 0.5033\n",
      "Epoch 3/100\n",
      "90/90 [==============================] - 1s 9ms/step - loss: 0.5029\n",
      "Epoch 4/100\n",
      "90/90 [==============================] - 1s 8ms/step - loss: 0.5029\n",
      "Epoch 5/100\n",
      "90/90 [==============================] - 1s 8ms/step - loss: 0.5028\n",
      "Epoch 6/100\n",
      "90/90 [==============================] - 1s 8ms/step - loss: 0.5028\n",
      "Epoch 7/100\n",
      "90/90 [==============================] - 1s 8ms/step - loss: 0.5014\n",
      "Epoch 8/100\n",
      "90/90 [==============================] - 1s 8ms/step - loss: 0.2481\n",
      "Epoch 9/100\n",
      "90/90 [==============================] - 1s 8ms/step - loss: 0.0753\n",
      "Epoch 10/100\n",
      "90/90 [==============================] - 1s 8ms/step - loss: 0.0690\n",
      "Epoch 11/100\n",
      "90/90 [==============================] - 1s 8ms/step - loss: 0.0674\n",
      "Epoch 12/100\n",
      "90/90 [==============================] - 1s 8ms/step - loss: 0.0665\n",
      "Epoch 13/100\n",
      "90/90 [==============================] - 1s 8ms/step - loss: 0.0663\n",
      "Epoch 14/100\n",
      "90/90 [==============================] - 1s 8ms/step - loss: 0.0662\n",
      "Epoch 15/100\n",
      "90/90 [==============================] - 1s 8ms/step - loss: 0.0664\n",
      "Epoch 16/100\n",
      "90/90 [==============================] - 1s 8ms/step - loss: 0.0663\n",
      "Epoch 17/100\n",
      "90/90 [==============================] - 1s 8ms/step - loss: 0.0661\n",
      "Epoch 18/100\n",
      "90/90 [==============================] - 1s 8ms/step - loss: 0.0662\n",
      "Epoch 19/100\n",
      "90/90 [==============================] - 1s 8ms/step - loss: 0.0660\n",
      "Epoch 20/100\n",
      "90/90 [==============================] - 1s 8ms/step - loss: 0.0660\n",
      "Epoch 21/100\n",
      "90/90 [==============================] - 1s 8ms/step - loss: 0.0660\n",
      "Epoch 22/100\n",
      "90/90 [==============================] - 1s 8ms/step - loss: 0.0659\n",
      "Epoch 23/100\n",
      "90/90 [==============================] - 1s 8ms/step - loss: 0.0661\n",
      "Epoch 24/100\n",
      "90/90 [==============================] - 1s 8ms/step - loss: 0.0663\n",
      "Epoch 25/100\n",
      "90/90 [==============================] - 1s 8ms/step - loss: 0.0661\n",
      "Epoch 26/100\n",
      "90/90 [==============================] - 1s 8ms/step - loss: 0.0660\n",
      "Epoch 27/100\n",
      "90/90 [==============================] - 1s 8ms/step - loss: 0.0657\n",
      "Epoch 28/100\n",
      "90/90 [==============================] - 1s 8ms/step - loss: 0.0662\n",
      "Epoch 29/100\n",
      "90/90 [==============================] - 1s 8ms/step - loss: 0.0660\n",
      "Epoch 30/100\n",
      "90/90 [==============================] - 1s 8ms/step - loss: 0.0661\n",
      "Epoch 31/100\n",
      "90/90 [==============================] - 1s 8ms/step - loss: 0.0660\n",
      "Epoch 32/100\n",
      "90/90 [==============================] - 1s 8ms/step - loss: 0.0660\n",
      "Epoch 33/100\n",
      "90/90 [==============================] - 1s 8ms/step - loss: 0.0661\n",
      "Epoch 34/100\n",
      "90/90 [==============================] - 1s 8ms/step - loss: 0.0660\n",
      "Epoch 35/100\n",
      "90/90 [==============================] - 1s 8ms/step - loss: 0.0660\n",
      "Epoch 36/100\n",
      "90/90 [==============================] - 1s 9ms/step - loss: 0.0662\n",
      "Epoch 37/100\n",
      "90/90 [==============================] - 1s 8ms/step - loss: 0.0659\n",
      "Epoch 38/100\n",
      "90/90 [==============================] - 1s 8ms/step - loss: 0.0658\n",
      "Epoch 39/100\n",
      "90/90 [==============================] - 1s 7ms/step - loss: 0.0660\n",
      "Epoch 40/100\n",
      "90/90 [==============================] - 1s 8ms/step - loss: 0.0659\n",
      "Epoch 41/100\n",
      "90/90 [==============================] - 1s 7ms/step - loss: 0.0660\n",
      "Epoch 42/100\n",
      "90/90 [==============================] - 1s 8ms/step - loss: 0.0660\n",
      "Epoch 43/100\n",
      "90/90 [==============================] - 1s 8ms/step - loss: 0.0662\n",
      "Epoch 44/100\n",
      "90/90 [==============================] - 1s 8ms/step - loss: 0.0659\n",
      "Epoch 45/100\n",
      "90/90 [==============================] - 1s 8ms/step - loss: 0.0659\n",
      "Epoch 46/100\n",
      "90/90 [==============================] - 1s 7ms/step - loss: 0.0658\n",
      "Epoch 47/100\n",
      "90/90 [==============================] - 1s 8ms/step - loss: 0.0658\n",
      "Epoch 48/100\n",
      "90/90 [==============================] - 1s 7ms/step - loss: 0.0659\n",
      "Epoch 49/100\n",
      "90/90 [==============================] - 1s 8ms/step - loss: 0.0661\n",
      "Epoch 50/100\n",
      "90/90 [==============================] - 1s 8ms/step - loss: 0.0661\n",
      "Epoch 51/100\n",
      "90/90 [==============================] - 1s 8ms/step - loss: 0.0661\n",
      "Epoch 52/100\n",
      "90/90 [==============================] - 1s 8ms/step - loss: 0.0663\n",
      "Epoch 53/100\n",
      "90/90 [==============================] - 1s 8ms/step - loss: 0.0658\n",
      "Epoch 54/100\n",
      "90/90 [==============================] - 1s 7ms/step - loss: 0.0657\n",
      "Epoch 55/100\n",
      "90/90 [==============================] - 1s 8ms/step - loss: 0.0657\n",
      "Epoch 56/100\n",
      "90/90 [==============================] - 1s 8ms/step - loss: 0.0659\n",
      "Epoch 57/100\n",
      "90/90 [==============================] - 1s 8ms/step - loss: 0.0659\n",
      "Epoch 58/100\n",
      "90/90 [==============================] - 1s 8ms/step - loss: 0.0658\n",
      "Epoch 59/100\n",
      "90/90 [==============================] - 1s 9ms/step - loss: 0.0656\n",
      "Epoch 60/100\n",
      "90/90 [==============================] - 1s 8ms/step - loss: 0.0656\n",
      "Epoch 61/100\n",
      "90/90 [==============================] - 1s 8ms/step - loss: 0.0661\n",
      "Epoch 62/100\n",
      "90/90 [==============================] - 1s 8ms/step - loss: 0.0658\n",
      "Epoch 63/100\n",
      "90/90 [==============================] - 1s 8ms/step - loss: 0.0659\n",
      "Epoch 64/100\n",
      "90/90 [==============================] - 1s 8ms/step - loss: 0.0657\n",
      "Epoch 65/100\n",
      "90/90 [==============================] - 1s 8ms/step - loss: 0.0658\n",
      "Epoch 66/100\n",
      "90/90 [==============================] - 1s 8ms/step - loss: 0.0657\n",
      "Epoch 67/100\n",
      "90/90 [==============================] - 1s 7ms/step - loss: 0.0654\n",
      "Epoch 68/100\n",
      "90/90 [==============================] - 1s 8ms/step - loss: 0.0654\n",
      "Epoch 69/100\n",
      "90/90 [==============================] - 1s 8ms/step - loss: 0.0656\n",
      "Epoch 70/100\n",
      "90/90 [==============================] - 1s 8ms/step - loss: 0.0658\n",
      "Epoch 71/100\n",
      "90/90 [==============================] - 1s 8ms/step - loss: 0.0655\n",
      "Epoch 72/100\n",
      "90/90 [==============================] - 1s 8ms/step - loss: 0.0660\n",
      "Epoch 73/100\n",
      "90/90 [==============================] - 1s 8ms/step - loss: 0.0655\n",
      "Epoch 74/100\n",
      "90/90 [==============================] - 1s 8ms/step - loss: 0.0655\n",
      "Epoch 75/100\n",
      "90/90 [==============================] - 1s 8ms/step - loss: 0.0652\n",
      "Epoch 76/100\n",
      "90/90 [==============================] - 1s 8ms/step - loss: 0.0653\n",
      "Epoch 77/100\n",
      "90/90 [==============================] - 1s 8ms/step - loss: 0.0657\n",
      "Epoch 78/100\n",
      "90/90 [==============================] - 1s 7ms/step - loss: 0.0650\n",
      "Epoch 79/100\n",
      "90/90 [==============================] - 1s 8ms/step - loss: 0.0649\n",
      "Epoch 80/100\n",
      "90/90 [==============================] - 1s 8ms/step - loss: 0.0651\n",
      "Epoch 81/100\n",
      "90/90 [==============================] - 1s 8ms/step - loss: 0.0648\n",
      "Epoch 82/100\n",
      "90/90 [==============================] - 1s 7ms/step - loss: 0.0645\n",
      "Epoch 83/100\n",
      "90/90 [==============================] - 1s 8ms/step - loss: 0.0647\n",
      "Epoch 84/100\n",
      "90/90 [==============================] - 1s 8ms/step - loss: 0.0644\n",
      "Epoch 85/100\n",
      "90/90 [==============================] - 1s 8ms/step - loss: 0.0644\n",
      "Epoch 86/100\n",
      "90/90 [==============================] - 1s 8ms/step - loss: 0.0639\n",
      "Epoch 87/100\n",
      "90/90 [==============================] - 1s 8ms/step - loss: 0.0638\n",
      "Epoch 88/100\n",
      "90/90 [==============================] - 1s 10ms/step - loss: 0.0636\n",
      "Epoch 89/100\n",
      "90/90 [==============================] - 1s 8ms/step - loss: 0.0635\n",
      "Epoch 90/100\n",
      "90/90 [==============================] - 1s 8ms/step - loss: 0.0635\n",
      "Epoch 91/100\n",
      "90/90 [==============================] - 1s 8ms/step - loss: 0.0631\n",
      "Epoch 92/100\n",
      "90/90 [==============================] - 1s 8ms/step - loss: 0.0629\n",
      "Epoch 93/100\n",
      "90/90 [==============================] - 1s 8ms/step - loss: 0.0627\n",
      "Epoch 94/100\n",
      "90/90 [==============================] - 1s 8ms/step - loss: 0.0626\n",
      "Epoch 95/100\n",
      "90/90 [==============================] - 1s 8ms/step - loss: 0.0624\n",
      "Epoch 96/100\n",
      "90/90 [==============================] - 1s 8ms/step - loss: 0.0624\n",
      "Epoch 97/100\n",
      "90/90 [==============================] - 1s 9ms/step - loss: 0.0621\n",
      "Epoch 98/100\n",
      "90/90 [==============================] - 1s 9ms/step - loss: 0.0620\n",
      "Epoch 99/100\n",
      "90/90 [==============================] - 1s 9ms/step - loss: 0.0620\n",
      "Epoch 100/100\n",
      "90/90 [==============================] - 1s 8ms/step - loss: 0.0619\n",
      "\n",
      "Total Training Time: 75.43 seconds\n"
     ]
    }
   ],
   "source": [
    "# Start Timer\n",
    "start_time = time.time()\n",
    "\n",
    "# Train the model\n",
    "history = ann.fit(X_train_uniform, y_train_uniform, batch_size=32, epochs=100, verbose=1)\n",
    "\n",
    "# End Timer\n",
    "end_time = time.time()"
   ]
  },
  {
   "cell_type": "markdown",
   "id": "3dfdb21b-e9cc-4a45-9781-2cb5e1355501",
   "metadata": {},
   "source": [
    "#### Training Time"
   ]
  },
  {
   "cell_type": "code",
   "execution_count": 210,
   "id": "28d4e832-23fa-4551-8cec-a17c7d841fa2",
   "metadata": {},
   "outputs": [
    {
     "name": "stdout",
     "output_type": "stream",
     "text": [
      "\n",
      "Total Training Time: 75.43 seconds\n"
     ]
    }
   ],
   "source": [
    "print(f\"\\nTotal Training Time: {end_time - start_time:.2f} seconds\")"
   ]
  },
  {
   "cell_type": "markdown",
   "id": "f7c11837-439b-44f5-acf6-5d48c68834ff",
   "metadata": {},
   "source": [
    "### Random Dataset"
   ]
  },
  {
   "cell_type": "code",
   "execution_count": 216,
   "id": "0b963b0d-4f17-46b6-8ee5-726419231c6b",
   "metadata": {
    "collapsed": true,
    "jupyter": {
     "outputs_hidden": true
    },
    "scrolled": true
   },
   "outputs": [
    {
     "name": "stdout",
     "output_type": "stream",
     "text": [
      "Epoch 1/100\n",
      "125/125 [==============================] - 1s 9ms/step - loss: 0.0624\n",
      "Epoch 2/100\n",
      "125/125 [==============================] - 1s 8ms/step - loss: 0.0622\n",
      "Epoch 3/100\n",
      "125/125 [==============================] - 1s 8ms/step - loss: 0.0622\n",
      "Epoch 4/100\n",
      "125/125 [==============================] - 1s 8ms/step - loss: 0.0619\n",
      "Epoch 5/100\n",
      "125/125 [==============================] - 1s 8ms/step - loss: 0.0618\n",
      "Epoch 6/100\n",
      "125/125 [==============================] - 1s 8ms/step - loss: 0.0618\n",
      "Epoch 7/100\n",
      "125/125 [==============================] - 1s 8ms/step - loss: 0.0617\n",
      "Epoch 8/100\n",
      "125/125 [==============================] - 1s 8ms/step - loss: 0.0617\n",
      "Epoch 9/100\n",
      "125/125 [==============================] - 1s 8ms/step - loss: 0.0619\n",
      "Epoch 10/100\n",
      "125/125 [==============================] - 1s 8ms/step - loss: 0.0616\n",
      "Epoch 11/100\n",
      "125/125 [==============================] - 1s 8ms/step - loss: 0.0615\n",
      "Epoch 12/100\n",
      "125/125 [==============================] - 1s 7ms/step - loss: 0.0616\n",
      "Epoch 13/100\n",
      "125/125 [==============================] - 1s 8ms/step - loss: 0.0614\n",
      "Epoch 14/100\n",
      "125/125 [==============================] - 1s 8ms/step - loss: 0.0615\n",
      "Epoch 15/100\n",
      "125/125 [==============================] - 1s 8ms/step - loss: 0.0615\n",
      "Epoch 16/100\n",
      "125/125 [==============================] - 1s 8ms/step - loss: 0.0612\n",
      "Epoch 17/100\n",
      "125/125 [==============================] - 1s 8ms/step - loss: 0.0615\n",
      "Epoch 18/100\n",
      "125/125 [==============================] - 1s 8ms/step - loss: 0.0613\n",
      "Epoch 19/100\n",
      "125/125 [==============================] - 1s 8ms/step - loss: 0.0612\n",
      "Epoch 20/100\n",
      "125/125 [==============================] - 1s 8ms/step - loss: 0.0610\n",
      "Epoch 21/100\n",
      "125/125 [==============================] - 1s 8ms/step - loss: 0.0608\n",
      "Epoch 22/100\n",
      "125/125 [==============================] - 1s 8ms/step - loss: 0.0596\n",
      "Epoch 23/100\n",
      "125/125 [==============================] - 1s 8ms/step - loss: 0.0498\n",
      "Epoch 24/100\n",
      "125/125 [==============================] - 1s 8ms/step - loss: 0.0239\n",
      "Epoch 25/100\n",
      "125/125 [==============================] - 1s 8ms/step - loss: 0.0058\n",
      "Epoch 26/100\n",
      "125/125 [==============================] - 1s 8ms/step - loss: 0.0042\n",
      "Epoch 27/100\n",
      "125/125 [==============================] - 1s 8ms/step - loss: 0.0014\n",
      "Epoch 28/100\n",
      "125/125 [==============================] - 1s 8ms/step - loss: 0.0013\n",
      "Epoch 29/100\n",
      "125/125 [==============================] - 1s 8ms/step - loss: 0.0010\n",
      "Epoch 30/100\n",
      "125/125 [==============================] - 1s 8ms/step - loss: 0.0012\n",
      "Epoch 31/100\n",
      "125/125 [==============================] - 1s 8ms/step - loss: 9.6340e-04\n",
      "Epoch 32/100\n",
      "125/125 [==============================] - 1s 9ms/step - loss: 9.9792e-04\n",
      "Epoch 33/100\n",
      "125/125 [==============================] - 1s 8ms/step - loss: 0.0023\n",
      "Epoch 34/100\n",
      "125/125 [==============================] - 1s 8ms/step - loss: 9.2126e-04\n",
      "Epoch 35/100\n",
      "125/125 [==============================] - 1s 8ms/step - loss: 0.0011\n",
      "Epoch 36/100\n",
      "125/125 [==============================] - 1s 8ms/step - loss: 8.7961e-04\n",
      "Epoch 37/100\n",
      "125/125 [==============================] - 1s 8ms/step - loss: 8.8793e-04\n",
      "Epoch 38/100\n",
      "125/125 [==============================] - 1s 8ms/step - loss: 0.0011\n",
      "Epoch 39/100\n",
      "125/125 [==============================] - 1s 8ms/step - loss: 9.1555e-04\n",
      "Epoch 40/100\n",
      "125/125 [==============================] - 1s 8ms/step - loss: 9.0164e-04\n",
      "Epoch 41/100\n",
      "125/125 [==============================] - 1s 8ms/step - loss: 8.9238e-04\n",
      "Epoch 42/100\n",
      "125/125 [==============================] - 1s 8ms/step - loss: 9.8245e-04\n",
      "Epoch 43/100\n",
      "125/125 [==============================] - 1s 8ms/step - loss: 0.0014\n",
      "Epoch 44/100\n",
      "125/125 [==============================] - 1s 8ms/step - loss: 9.2064e-04\n",
      "Epoch 45/100\n",
      "125/125 [==============================] - 1s 8ms/step - loss: 8.7785e-04\n",
      "Epoch 46/100\n",
      "125/125 [==============================] - 1s 8ms/step - loss: 8.1059e-04\n",
      "Epoch 47/100\n",
      "125/125 [==============================] - 1s 8ms/step - loss: 0.0011\n",
      "Epoch 48/100\n",
      "125/125 [==============================] - 1s 8ms/step - loss: 0.0028\n",
      "Epoch 49/100\n",
      "125/125 [==============================] - 1s 8ms/step - loss: 8.9811e-04\n",
      "Epoch 50/100\n",
      "125/125 [==============================] - 1s 8ms/step - loss: 7.5880e-04\n",
      "Epoch 51/100\n",
      "125/125 [==============================] - 1s 8ms/step - loss: 8.1267e-04\n",
      "Epoch 52/100\n",
      "125/125 [==============================] - 1s 8ms/step - loss: 8.4386e-04\n",
      "Epoch 53/100\n",
      "125/125 [==============================] - 1s 8ms/step - loss: 9.5802e-04\n",
      "Epoch 54/100\n",
      "125/125 [==============================] - 1s 9ms/step - loss: 8.4154e-04\n",
      "Epoch 55/100\n",
      "125/125 [==============================] - 1s 8ms/step - loss: 8.3964e-04\n",
      "Epoch 56/100\n",
      "125/125 [==============================] - 1s 8ms/step - loss: 0.0010\n",
      "Epoch 57/100\n",
      "125/125 [==============================] - 1s 8ms/step - loss: 7.7050e-04\n",
      "Epoch 58/100\n",
      "125/125 [==============================] - 1s 8ms/step - loss: 8.2650e-04\n",
      "Epoch 59/100\n",
      "125/125 [==============================] - 1s 8ms/step - loss: 0.0011\n",
      "Epoch 60/100\n",
      "125/125 [==============================] - 1s 7ms/step - loss: 8.1102e-04\n",
      "Epoch 61/100\n",
      "125/125 [==============================] - 1s 8ms/step - loss: 8.1274e-04\n",
      "Epoch 62/100\n",
      "125/125 [==============================] - 1s 8ms/step - loss: 8.0685e-04\n",
      "Epoch 63/100\n",
      "125/125 [==============================] - 1s 7ms/step - loss: 0.0014\n",
      "Epoch 64/100\n",
      "125/125 [==============================] - 1s 8ms/step - loss: 6.7811e-04\n",
      "Epoch 65/100\n",
      "125/125 [==============================] - 1s 8ms/step - loss: 7.5320e-04\n",
      "Epoch 66/100\n",
      "125/125 [==============================] - 1s 8ms/step - loss: 7.7674e-04\n",
      "Epoch 67/100\n",
      "125/125 [==============================] - 1s 8ms/step - loss: 8.4521e-04\n",
      "Epoch 68/100\n",
      "125/125 [==============================] - 1s 8ms/step - loss: 0.0011\n",
      "Epoch 69/100\n",
      "125/125 [==============================] - 1s 8ms/step - loss: 8.9910e-04\n",
      "Epoch 70/100\n",
      "125/125 [==============================] - 1s 8ms/step - loss: 0.0011\n",
      "Epoch 71/100\n",
      "125/125 [==============================] - 1s 8ms/step - loss: 7.0641e-04\n",
      "Epoch 72/100\n",
      "125/125 [==============================] - 1s 8ms/step - loss: 7.9178e-04\n",
      "Epoch 73/100\n",
      "125/125 [==============================] - 1s 8ms/step - loss: 7.7031e-04\n",
      "Epoch 74/100\n",
      "125/125 [==============================] - 1s 8ms/step - loss: 7.7180e-04\n",
      "Epoch 75/100\n",
      "125/125 [==============================] - 1s 8ms/step - loss: 7.5408e-04\n",
      "Epoch 76/100\n",
      "125/125 [==============================] - 1s 8ms/step - loss: 8.8326e-04\n",
      "Epoch 77/100\n",
      "125/125 [==============================] - 1s 8ms/step - loss: 0.0026\n",
      "Epoch 78/100\n",
      "125/125 [==============================] - 1s 7ms/step - loss: 7.9004e-04\n",
      "Epoch 79/100\n",
      "125/125 [==============================] - 1s 9ms/step - loss: 7.3225e-04\n",
      "Epoch 80/100\n",
      "125/125 [==============================] - 1s 8ms/step - loss: 8.2795e-04\n",
      "Epoch 81/100\n",
      "125/125 [==============================] - 1s 8ms/step - loss: 7.1047e-04\n",
      "Epoch 82/100\n",
      "125/125 [==============================] - 1s 8ms/step - loss: 6.6305e-04\n",
      "Epoch 83/100\n",
      "125/125 [==============================] - 1s 8ms/step - loss: 6.7550e-04\n",
      "Epoch 84/100\n",
      "125/125 [==============================] - 1s 9ms/step - loss: 7.8683e-04\n",
      "Epoch 85/100\n",
      "125/125 [==============================] - 1s 9ms/step - loss: 7.8611e-04\n",
      "Epoch 86/100\n",
      "125/125 [==============================] - 1s 8ms/step - loss: 7.8008e-04\n",
      "Epoch 87/100\n",
      "125/125 [==============================] - 1s 7ms/step - loss: 8.8863e-04\n",
      "Epoch 88/100\n",
      "125/125 [==============================] - 1s 8ms/step - loss: 8.8222e-04\n",
      "Epoch 89/100\n",
      "125/125 [==============================] - 1s 8ms/step - loss: 7.6311e-04\n",
      "Epoch 90/100\n",
      "125/125 [==============================] - 1s 8ms/step - loss: 0.0013\n",
      "Epoch 91/100\n",
      "125/125 [==============================] - 1s 8ms/step - loss: 7.3232e-04\n",
      "Epoch 92/100\n",
      "125/125 [==============================] - 1s 8ms/step - loss: 6.7972e-04\n",
      "Epoch 93/100\n",
      "125/125 [==============================] - 1s 8ms/step - loss: 6.6125e-04\n",
      "Epoch 94/100\n",
      "125/125 [==============================] - 1s 8ms/step - loss: 7.5820e-04\n",
      "Epoch 95/100\n",
      "125/125 [==============================] - 1s 8ms/step - loss: 7.0522e-04\n",
      "Epoch 96/100\n",
      "125/125 [==============================] - 1s 8ms/step - loss: 8.1968e-04\n",
      "Epoch 97/100\n",
      "125/125 [==============================] - 1s 8ms/step - loss: 6.8429e-04\n",
      "Epoch 98/100\n",
      "125/125 [==============================] - 1s 8ms/step - loss: 7.8429e-04\n",
      "Epoch 99/100\n",
      "125/125 [==============================] - 1s 8ms/step - loss: 6.6120e-04\n",
      "Epoch 100/100\n",
      "125/125 [==============================] - 1s 8ms/step - loss: 7.3155e-04\n"
     ]
    }
   ],
   "source": [
    "# Start Timer\n",
    "start_time = time.time()\n",
    "\n",
    "# Train the model\n",
    "history = ann.fit(X_train_random, y_train_random, batch_size=32, epochs=100, verbose=1)\n",
    "\n",
    "# End Timer\n",
    "end_time = time.time()"
   ]
  },
  {
   "cell_type": "markdown",
   "id": "0b1fdb8f-84d1-4a21-b30d-9af354322ed5",
   "metadata": {},
   "source": [
    "#### Training Time"
   ]
  },
  {
   "cell_type": "code",
   "execution_count": 219,
   "id": "63217620-3ffd-43f2-bf32-d7d0ec236ed7",
   "metadata": {},
   "outputs": [
    {
     "name": "stdout",
     "output_type": "stream",
     "text": [
      "\n",
      "Total Training Time: 98.91 seconds\n"
     ]
    }
   ],
   "source": [
    "print(f\"\\nTotal Training Time: {end_time - start_time:.2f} seconds\")"
   ]
  },
  {
   "cell_type": "markdown",
   "id": "cee51fe4-6b1d-4e73-9536-972b870b3bb8",
   "metadata": {},
   "source": [
    "---"
   ]
  },
  {
   "cell_type": "markdown",
   "id": "ce935e00-308e-4136-ac34-cf319fc8fd69",
   "metadata": {},
   "source": [
    "## Evaluate the Model on Test Data and Make Predictions"
   ]
  },
  {
   "cell_type": "code",
   "execution_count": 312,
   "id": "80eae565-2302-4df8-b8e0-4980177813e5",
   "metadata": {},
   "outputs": [],
   "source": [
    "from sklearn.metrics import mean_squared_error, mean_absolute_error"
   ]
  },
  {
   "cell_type": "markdown",
   "id": "e123f57c-33e8-4c63-a79d-5d08cf49d9a1",
   "metadata": {},
   "source": [
    "### Uniform"
   ]
  },
  {
   "cell_type": "code",
   "execution_count": 226,
   "id": "3a39e899-2bdb-4136-9012-a4e04c51f369",
   "metadata": {},
   "outputs": [
    {
     "name": "stdout",
     "output_type": "stream",
     "text": [
      "23/23 [==============================] - 1s 5ms/step - loss: 5.3271e-04\n",
      "Test Loss (MSE): 0.0005\n"
     ]
    }
   ],
   "source": [
    "test_loss_uniform = ann.evaluate(X_test_uniform, y_test_uniform)\n",
    "print(f\"Test Loss (MSE): {test_loss_uniform:.4f}\")"
   ]
  },
  {
   "cell_type": "code",
   "execution_count": 238,
   "id": "43a35406-9d16-4289-ab8b-7b49f6108e8f",
   "metadata": {},
   "outputs": [
    {
     "name": "stdout",
     "output_type": "stream",
     "text": [
      "23/23 [==============================] - 0s 4ms/step\n"
     ]
    }
   ],
   "source": [
    "y_pred_uniform = ann.predict(X_test_uniform)"
   ]
  },
  {
   "cell_type": "code",
   "execution_count": 320,
   "id": "2ee38e47-0a24-4821-a6d8-4a9750ad7b3e",
   "metadata": {},
   "outputs": [],
   "source": [
    "y_pred_uniform_mean = y_pred_uniform.mean(axis=1)"
   ]
  },
  {
   "cell_type": "code",
   "execution_count": 322,
   "id": "60e5f80f-002f-48aa-a296-ab3368777817",
   "metadata": {
    "scrolled": true
   },
   "outputs": [],
   "source": [
    "comparison_df_uniform = pd.DataFrame({\n",
    "    'X_test (radians)': X_test_uniform.flatten(),\n",
    "    'Actual Sine': y_test_uniform.flatten(),\n",
    "    'Predicted Sine': y_pred_uniform_mean.flatten()\n",
    "})"
   ]
  },
  {
   "cell_type": "code",
   "execution_count": 326,
   "id": "850ac1f4-b8e3-4f17-9c9b-6606c1b11e5b",
   "metadata": {},
   "outputs": [
    {
     "data": {
      "text/html": [
       "<div>\n",
       "<style scoped>\n",
       "    .dataframe tbody tr th:only-of-type {\n",
       "        vertical-align: middle;\n",
       "    }\n",
       "\n",
       "    .dataframe tbody tr th {\n",
       "        vertical-align: top;\n",
       "    }\n",
       "\n",
       "    .dataframe thead th {\n",
       "        text-align: right;\n",
       "    }\n",
       "</style>\n",
       "<table border=\"1\" class=\"dataframe\">\n",
       "  <thead>\n",
       "    <tr style=\"text-align: right;\">\n",
       "      <th></th>\n",
       "      <th>X_test (radians)</th>\n",
       "      <th>Actual Sine</th>\n",
       "      <th>Predicted Sine</th>\n",
       "    </tr>\n",
       "  </thead>\n",
       "  <tbody>\n",
       "    <tr>\n",
       "      <th>0</th>\n",
       "      <td>-0.255349</td>\n",
       "      <td>0.719340</td>\n",
       "      <td>0.745890</td>\n",
       "    </tr>\n",
       "    <tr>\n",
       "      <th>1</th>\n",
       "      <td>-0.110308</td>\n",
       "      <td>0.340380</td>\n",
       "      <td>0.335607</td>\n",
       "    </tr>\n",
       "    <tr>\n",
       "      <th>2</th>\n",
       "      <td>0.972215</td>\n",
       "      <td>-0.088894</td>\n",
       "      <td>-0.110234</td>\n",
       "    </tr>\n",
       "    <tr>\n",
       "      <th>3</th>\n",
       "      <td>0.986663</td>\n",
       "      <td>-0.043619</td>\n",
       "      <td>-0.084808</td>\n",
       "    </tr>\n",
       "    <tr>\n",
       "      <th>4</th>\n",
       "      <td>-0.882745</td>\n",
       "      <td>0.359997</td>\n",
       "      <td>0.338436</td>\n",
       "    </tr>\n",
       "  </tbody>\n",
       "</table>\n",
       "</div>"
      ],
      "text/plain": [
       "   X_test (radians)  Actual Sine  Predicted Sine\n",
       "0         -0.255349     0.719340        0.745890\n",
       "1         -0.110308     0.340380        0.335607\n",
       "2          0.972215    -0.088894       -0.110234\n",
       "3          0.986663    -0.043619       -0.084808\n",
       "4         -0.882745     0.359997        0.338436"
      ]
     },
     "execution_count": 326,
     "metadata": {},
     "output_type": "execute_result"
    }
   ],
   "source": [
    "comparison_df_uniform.head()"
   ]
  },
  {
   "cell_type": "code",
   "execution_count": 330,
   "id": "0273495d-c930-4e0b-84bb-1411f41a941b",
   "metadata": {},
   "outputs": [
    {
     "name": "stdout",
     "output_type": "stream",
     "text": [
      "Mean Squared Error (MSE): 0.000532\n",
      "Mean Absolute Error (MAE): 0.019518\n",
      "Root Mean Squared Error (RMSE): 0.023062\n"
     ]
    }
   ],
   "source": [
    "mse_uniform = mean_squared_error(y_test_uniform, y_pred_uniform_mean)\n",
    "mae_uniform = mean_absolute_error(y_test_uniform, y_pred_uniform_mean)\n",
    "rmse_uniform = mse_uniform ** 0.5  # Root Mean Squared Error\n",
    "\n",
    "print(f\"Mean Squared Error (MSE): {mse_uniform:.6f}\")\n",
    "print(f\"Mean Absolute Error (MAE): {mae_uniform:.6f}\")\n",
    "print(f\"Root Mean Squared Error (RMSE): {rmse_uniform:.6f}\")"
   ]
  },
  {
   "cell_type": "code",
   "execution_count": 344,
   "id": "abba3ddb-6799-4222-ae47-668defac541b",
   "metadata": {},
   "outputs": [
    {
     "data": {
      "image/png": "[encoded data removed]",
      "text/plain": [
       "<Figure size 800x400 with 1 Axes>"
      ]
     },
     "metadata": {},
     "output_type": "display_data"
    }
   ],
   "source": [
    "plot(X=X_test_uniform, y=y_test_uniform, pred=y_pred_uniform_mean)"
   ]
  },
  {
   "cell_type": "markdown",
   "id": "59a65a81-f54e-475b-a8f6-7d9e5d89ac67",
   "metadata": {},
   "source": [
    "### Random"
   ]
  },
  {
   "cell_type": "code",
   "execution_count": 246,
   "id": "30fccb33-4019-4656-86b9-66b2c5ff90cc",
   "metadata": {},
   "outputs": [
    {
     "name": "stdout",
     "output_type": "stream",
     "text": [
      "32/32 [==============================] - 0s 6ms/step - loss: 5.5419e-04\n",
      "Test Loss (MSE): 0.0006\n"
     ]
    }
   ],
   "source": [
    "test_loss_uniform = ann.evaluate(X_test_random, y_test_random)\n",
    "print(f\"Test Loss (MSE): {test_loss_uniform:.4f}\")"
   ]
  },
  {
   "cell_type": "code",
   "execution_count": 257,
   "id": "38f5c20e-e5b0-4e61-91f3-f873d6cce045",
   "metadata": {},
   "outputs": [
    {
     "name": "stdout",
     "output_type": "stream",
     "text": [
      "32/32 [==============================] - 0s 5ms/step\n"
     ]
    }
   ],
   "source": [
    "y_pred_random = ann.predict(X_test_random)"
   ]
  },
  {
   "cell_type": "code",
   "execution_count": 298,
   "id": "fd97a831-6d5a-48c5-bbcd-fb53101b7ea6",
   "metadata": {},
   "outputs": [],
   "source": [
    "y_pred_random_mean = y_pred_random.mean(axis=1)"
   ]
  },
  {
   "cell_type": "code",
   "execution_count": 308,
   "id": "e18dce0d-52ba-4a75-8b35-e3acf1712622",
   "metadata": {},
   "outputs": [],
   "source": [
    "comparison_df_random = pd.DataFrame({\n",
    "    'X_test (radians)': X_test_random.flatten(),\n",
    "    'Actual Sine': y_test_random.flatten(),\n",
    "    'Predicted Sine': y_pred_random_mean.flatten()\n",
    "})"
   ]
  },
  {
   "cell_type": "code",
   "execution_count": 328,
   "id": "03b3af71-ecc7-4f52-86d8-270a91c364f2",
   "metadata": {},
   "outputs": [
    {
     "data": {
      "text/html": [
       "<div>\n",
       "<style scoped>\n",
       "    .dataframe tbody tr th:only-of-type {\n",
       "        vertical-align: middle;\n",
       "    }\n",
       "\n",
       "    .dataframe tbody tr th {\n",
       "        vertical-align: top;\n",
       "    }\n",
       "\n",
       "    .dataframe thead th {\n",
       "        text-align: right;\n",
       "    }\n",
       "</style>\n",
       "<table border=\"1\" class=\"dataframe\">\n",
       "  <thead>\n",
       "    <tr style=\"text-align: right;\">\n",
       "      <th></th>\n",
       "      <th>X_test (radians)</th>\n",
       "      <th>Actual Sine</th>\n",
       "      <th>Predicted Sine</th>\n",
       "    </tr>\n",
       "  </thead>\n",
       "  <tbody>\n",
       "    <tr>\n",
       "      <th>0</th>\n",
       "      <td>-0.571661</td>\n",
       "      <td>0.974724</td>\n",
       "      <td>0.948232</td>\n",
       "    </tr>\n",
       "    <tr>\n",
       "      <th>1</th>\n",
       "      <td>-0.884455</td>\n",
       "      <td>0.355088</td>\n",
       "      <td>0.333590</td>\n",
       "    </tr>\n",
       "    <tr>\n",
       "      <th>2</th>\n",
       "      <td>0.804550</td>\n",
       "      <td>-0.577033</td>\n",
       "      <td>-0.560354</td>\n",
       "    </tr>\n",
       "    <tr>\n",
       "      <th>3</th>\n",
       "      <td>0.686252</td>\n",
       "      <td>-0.834189</td>\n",
       "      <td>-0.860980</td>\n",
       "    </tr>\n",
       "    <tr>\n",
       "      <th>4</th>\n",
       "      <td>0.472179</td>\n",
       "      <td>-0.996108</td>\n",
       "      <td>-0.957630</td>\n",
       "    </tr>\n",
       "  </tbody>\n",
       "</table>\n",
       "</div>"
      ],
      "text/plain": [
       "   X_test (radians)  Actual Sine  Predicted Sine\n",
       "0         -0.571661     0.974724        0.948232\n",
       "1         -0.884455     0.355088        0.333590\n",
       "2          0.804550    -0.577033       -0.560354\n",
       "3          0.686252    -0.834189       -0.860980\n",
       "4          0.472179    -0.996108       -0.957630"
      ]
     },
     "execution_count": 328,
     "metadata": {},
     "output_type": "execute_result"
    }
   ],
   "source": [
    "comparison_df_random.head()"
   ]
  },
  {
   "cell_type": "code",
   "execution_count": 314,
   "id": "d5a40936-6062-4ab7-ba61-87ced3034531",
   "metadata": {},
   "outputs": [
    {
     "name": "stdout",
     "output_type": "stream",
     "text": [
      "Mean Squared Error (MSE): 0.000553\n",
      "Mean Absolute Error (MAE): 0.020092\n",
      "Root Mean Squared Error (RMSE): 0.023524\n"
     ]
    }
   ],
   "source": [
    "mse_random = mean_squared_error(y_test_random, y_pred_random_mean)\n",
    "mae_random = mean_absolute_error(y_test_random, y_pred_random_mean)\n",
    "rmse_random = mse_random ** 0.5  # Root Mean Squared Error\n",
    "\n",
    "print(f\"Mean Squared Error (MSE): {mse_random:.6f}\")\n",
    "print(f\"Mean Absolute Error (MAE): {mae_random:.6f}\")\n",
    "print(f\"Root Mean Squared Error (RMSE): {rmse_random:.6f}\")"
   ]
  },
  {
   "cell_type": "code",
   "execution_count": 342,
   "id": "a35f0be8-f353-4b66-85a7-624c742c7bae",
   "metadata": {},
   "outputs": [
    {
     "data": {
      "image/png": "[encoded data removed]",
      "text/plain": [
       "<Figure size 800x400 with 1 Axes>"
      ]
     },
     "metadata": {},
     "output_type": "display_data"
    }
   ],
   "source": [
    "plot(X = X_test_random, y = y_test_random, pred = y_pred_random_mean)"
   ]
  },
  {
   "cell_type": "markdown",
   "id": "a792ee09-d53c-44e4-872b-47c4444d83fd",
   "metadata": {},
   "source": [
    "<br><br><br>  <!-- Creates multiple empty lines -->"
   ]
  },
  {
   "cell_type": "markdown",
   "id": "40bd8827-20b1-457b-a4a1-aae962c3564b",
   "metadata": {},
   "source": [
    "# The End 👨‍💻"
   ]
  }
 ],
 "metadata": {
  "kernelspec": {
   "display_name": "Python (dpn)",
   "language": "python",
   "name": "dpn"
  },
  "language_info": {
   "codemirror_mode": {
    "name": "ipython",
    "version": 3
   },
   "file_extension": ".py",
   "mimetype": "text/x-python",
   "name": "python",
   "nbconvert_exporter": "python",
   "pygments_lexer": "ipython3",
   "version": "3.10.16"
  }
 },
 "nbformat": 4,
 "nbformat_minor": 5
}
