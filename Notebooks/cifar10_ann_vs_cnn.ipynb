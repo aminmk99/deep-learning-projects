{
 "cells": [
  {
   "cell_type": "markdown",
   "metadata": {
    "jp-MarkdownHeadingCollapsed": true
   },
   "source": [
    "# CIFAR-10 ANN vs CNN"
   ]
  },
  {
   "cell_type": "markdown",
   "metadata": {},
   "source": [
    "Alright, now that we've learned both regular neural networks and convolutional neural networks, we want to go ahead and train a few networks to see what kind of results we get."
   ]
  },
  {
   "cell_type": "markdown",
   "metadata": {
    "jp-MarkdownHeadingCollapsed": true
   },
   "source": [
    "# CIFAR Dataset"
   ]
  },
  {
   "cell_type": "markdown",
   "metadata": {},
   "source": [
    "# 📦 What's the Difference Between CIFAR-10 and CIFAR-100?\n",
    "\n",
    "Both **CIFAR-10** and **CIFAR-100** are image classification datasets made up of 32×32 color images, but they differ in terms of class granularity and complexity.\n",
    "\n",
    "---\n",
    "\n",
    "## 🔍 Key Differences\n",
    "\n",
    "| Feature | **CIFAR-10** | **CIFAR-100** |\n",
    "|--------|--------------|----------------|\n",
    "| 📚 Number of Classes | 10 | 100 |\n",
    "| 🖼️ Images per Class | 6,000 | 600 |\n",
    "| 🧠 Total Training Images | 50,000 | 50,000 |\n",
    "| 🧪 Test Images | 10,000 | 10,000 |\n",
    "| 📏 Image Size | 32×32 pixels (RGB) | 32×32 pixels (RGB) |\n",
    "| 🧱 Label Structure | Flat (single level) | Hierarchical (fine + coarse labels) |\n",
    "| 🔠 Example Classes | airplane, dog, frog, truck... | tulip, maple_tree, baby, pickup_truck... |\n",
    "\n",
    "---\n",
    "\n",
    "## 💡 Which One to Use?\n",
    "\n",
    "- ✅ **Use CIFAR-10** if you're:\n",
    "  - Just getting started with image classification\n",
    "  - Testing simple or baseline models\n",
    "\n",
    "- ✅ **Use CIFAR-100** if you're:\n",
    "  - Exploring more challenging, fine-grained tasks\n",
    "  - Interested in hierarchical or multi-task classification\n",
    "\n",
    "---\n",
    "\n",
    "CIFAR-10 is great for beginners and prototyping.  \n",
    "CIFAR-100 offers a more realistic challenge for testing model robustness.\n"
   ]
  },
  {
   "cell_type": "markdown",
   "metadata": {},
   "source": [
    "# Importing Dataset, Packages, and and Overview on the Dataset  "
   ]
  },
  {
   "cell_type": "markdown",
   "metadata": {},
   "source": [
    "Using the commands and datasets available in Keras, we first load the CIFAR-10 dataset."
   ]
  },
  {
   "cell_type": "markdown",
   "metadata": {},
   "source": [
    "We then also import the necessary libraries as well."
   ]
  },
  {
   "cell_type": "code",
   "execution_count": 7,
   "metadata": {
    "scrolled": true
   },
   "outputs": [],
   "source": [
    "from tensorflow.keras.datasets import cifar10\n",
    "import numpy as np\n",
    "import cv2"
   ]
  },
  {
   "cell_type": "code",
   "execution_count": 3,
   "metadata": {},
   "outputs": [],
   "source": [
    "import matplotlib.pyplot as plt"
   ]
  },
  {
   "cell_type": "markdown",
   "metadata": {
    "jp-MarkdownHeadingCollapsed": true
   },
   "source": [
    "## Loading Train and Test sets with their Labels"
   ]
  },
  {
   "cell_type": "code",
   "execution_count": 8,
   "metadata": {},
   "outputs": [],
   "source": [
    "(x_train, y_train), (x_test, y_test) = cifar10.load_data()"
   ]
  },
  {
   "cell_type": "markdown",
   "metadata": {},
   "source": [
    "We print the overall shape of our dataset to see how many training and test images we have, and also to check what the shape of our labels looks like."
   ]
  },
  {
   "cell_type": "code",
   "execution_count": 5,
   "metadata": {},
   "outputs": [
    {
     "name": "stdout",
     "output_type": "stream",
     "text": [
      "Training images shape: (50000, 32, 32, 3)\n",
      "Training labels shape: (50000, 1)\n",
      "Test images shape: (10000, 32, 32, 3)\n",
      "Test labels shape: (10000, 1)\n"
     ]
    }
   ],
   "source": [
    "print(\"Training images shape:\", x_train.shape)\n",
    "print(\"Training labels shape:\", y_train.shape)\n",
    "print(\"Test images shape:\", x_test.shape)\n",
    "print(\"Test labels shape:\", y_test.shape)"
   ]
  },
  {
   "cell_type": "code",
   "execution_count": 6,
   "metadata": {},
   "outputs": [
    {
     "data": {
      "text/plain": [
       "array([[[[ 59,  62,  63],\n",
       "         [ 43,  46,  45],\n",
       "         [ 50,  48,  43],\n",
       "         ...,\n",
       "         [158, 132, 108],\n",
       "         [152, 125, 102],\n",
       "         [148, 124, 103]],\n",
       "\n",
       "        [[ 16,  20,  20],\n",
       "         [  0,   0,   0],\n",
       "         [ 18,   8,   0],\n",
       "         ...,\n",
       "         [123,  88,  55],\n",
       "         [119,  83,  50],\n",
       "         [122,  87,  57]],\n",
       "\n",
       "        [[ 25,  24,  21],\n",
       "         [ 16,   7,   0],\n",
       "         [ 49,  27,   8],\n",
       "         ...,\n",
       "         [118,  84,  50],\n",
       "         [120,  84,  50],\n",
       "         [109,  73,  42]],\n",
       "\n",
       "        ...,\n",
       "\n",
       "        [[208, 170,  96],\n",
       "         [201, 153,  34],\n",
       "         [198, 161,  26],\n",
       "         ...,\n",
       "         [160, 133,  70],\n",
       "         [ 56,  31,   7],\n",
       "         [ 53,  34,  20]],\n",
       "\n",
       "        [[180, 139,  96],\n",
       "         [173, 123,  42],\n",
       "         [186, 144,  30],\n",
       "         ...,\n",
       "         [184, 148,  94],\n",
       "         [ 97,  62,  34],\n",
       "         [ 83,  53,  34]],\n",
       "\n",
       "        [[177, 144, 116],\n",
       "         [168, 129,  94],\n",
       "         [179, 142,  87],\n",
       "         ...,\n",
       "         [216, 184, 140],\n",
       "         [151, 118,  84],\n",
       "         [123,  92,  72]]],\n",
       "\n",
       "\n",
       "       [[[154, 177, 187],\n",
       "         [126, 137, 136],\n",
       "         [105, 104,  95],\n",
       "         ...,\n",
       "         [ 91,  95,  71],\n",
       "         [ 87,  90,  71],\n",
       "         [ 79,  81,  70]],\n",
       "\n",
       "        [[140, 160, 169],\n",
       "         [145, 153, 154],\n",
       "         [125, 125, 118],\n",
       "         ...,\n",
       "         [ 96,  99,  78],\n",
       "         [ 77,  80,  62],\n",
       "         [ 71,  73,  61]],\n",
       "\n",
       "        [[140, 155, 164],\n",
       "         [139, 146, 149],\n",
       "         [115, 115, 112],\n",
       "         ...,\n",
       "         [ 79,  82,  64],\n",
       "         [ 68,  70,  55],\n",
       "         [ 67,  69,  55]],\n",
       "\n",
       "        ...,\n",
       "\n",
       "        [[175, 167, 166],\n",
       "         [156, 154, 160],\n",
       "         [154, 160, 170],\n",
       "         ...,\n",
       "         [ 42,  34,  36],\n",
       "         [ 61,  53,  57],\n",
       "         [ 93,  83,  91]],\n",
       "\n",
       "        [[165, 154, 128],\n",
       "         [156, 152, 130],\n",
       "         [159, 161, 142],\n",
       "         ...,\n",
       "         [103,  93,  96],\n",
       "         [123, 114, 120],\n",
       "         [131, 121, 131]],\n",
       "\n",
       "        [[163, 148, 120],\n",
       "         [158, 148, 122],\n",
       "         [163, 156, 133],\n",
       "         ...,\n",
       "         [143, 133, 139],\n",
       "         [143, 134, 142],\n",
       "         [143, 133, 144]]],\n",
       "\n",
       "\n",
       "       [[[255, 255, 255],\n",
       "         [253, 253, 253],\n",
       "         [253, 253, 253],\n",
       "         ...,\n",
       "         [253, 253, 253],\n",
       "         [253, 253, 253],\n",
       "         [253, 253, 253]],\n",
       "\n",
       "        [[255, 255, 255],\n",
       "         [255, 255, 255],\n",
       "         [255, 255, 255],\n",
       "         ...,\n",
       "         [255, 255, 255],\n",
       "         [255, 255, 255],\n",
       "         [255, 255, 255]],\n",
       "\n",
       "        [[255, 255, 255],\n",
       "         [254, 254, 254],\n",
       "         [254, 254, 254],\n",
       "         ...,\n",
       "         [254, 254, 254],\n",
       "         [254, 254, 254],\n",
       "         [254, 254, 254]],\n",
       "\n",
       "        ...,\n",
       "\n",
       "        [[113, 120, 112],\n",
       "         [111, 118, 111],\n",
       "         [105, 112, 106],\n",
       "         ...,\n",
       "         [ 72,  81,  80],\n",
       "         [ 72,  80,  79],\n",
       "         [ 72,  80,  79]],\n",
       "\n",
       "        [[111, 118, 110],\n",
       "         [104, 111, 104],\n",
       "         [ 99, 106,  98],\n",
       "         ...,\n",
       "         [ 68,  75,  73],\n",
       "         [ 70,  76,  75],\n",
       "         [ 78,  84,  82]],\n",
       "\n",
       "        [[106, 113, 105],\n",
       "         [ 99, 106,  98],\n",
       "         [ 95, 102,  94],\n",
       "         ...,\n",
       "         [ 78,  85,  83],\n",
       "         [ 79,  85,  83],\n",
       "         [ 80,  86,  84]]],\n",
       "\n",
       "\n",
       "       [[[ 28,  25,  10],\n",
       "         [ 37,  34,  19],\n",
       "         [ 38,  35,  20],\n",
       "         ...,\n",
       "         [ 76,  67,  39],\n",
       "         [ 81,  72,  43],\n",
       "         [ 85,  76,  47]],\n",
       "\n",
       "        [[ 33,  28,  13],\n",
       "         [ 34,  30,  14],\n",
       "         [ 32,  27,  12],\n",
       "         ...,\n",
       "         [ 95,  82,  55],\n",
       "         [ 96,  82,  56],\n",
       "         [ 85,  72,  45]],\n",
       "\n",
       "        [[ 39,  32,  15],\n",
       "         [ 40,  33,  17],\n",
       "         [ 57,  50,  33],\n",
       "         ...,\n",
       "         [ 93,  76,  52],\n",
       "         [107,  89,  66],\n",
       "         [ 95,  77,  54]],\n",
       "\n",
       "        ...,\n",
       "\n",
       "        [[ 83,  73,  52],\n",
       "         [ 87,  77,  56],\n",
       "         [ 84,  74,  52],\n",
       "         ...,\n",
       "         [ 99,  93,  70],\n",
       "         [ 90,  84,  61],\n",
       "         [ 81,  75,  52]],\n",
       "\n",
       "        [[ 88,  72,  51],\n",
       "         [ 90,  74,  52],\n",
       "         [ 93,  77,  56],\n",
       "         ...,\n",
       "         [ 80,  74,  53],\n",
       "         [ 76,  70,  49],\n",
       "         [ 82,  76,  55]],\n",
       "\n",
       "        [[ 97,  78,  56],\n",
       "         [ 94,  75,  53],\n",
       "         [ 93,  75,  53],\n",
       "         ...,\n",
       "         [ 54,  47,  28],\n",
       "         [ 63,  56,  37],\n",
       "         [ 72,  65,  46]]],\n",
       "\n",
       "\n",
       "       [[[170, 180, 198],\n",
       "         [168, 178, 196],\n",
       "         [177, 185, 203],\n",
       "         ...,\n",
       "         [162, 179, 215],\n",
       "         [158, 178, 214],\n",
       "         [157, 177, 212]],\n",
       "\n",
       "        [[168, 181, 198],\n",
       "         [172, 185, 201],\n",
       "         [171, 183, 200],\n",
       "         ...,\n",
       "         [159, 177, 212],\n",
       "         [156, 176, 211],\n",
       "         [154, 174, 209]],\n",
       "\n",
       "        [[154, 170, 186],\n",
       "         [149, 165, 181],\n",
       "         [129, 144, 162],\n",
       "         ...,\n",
       "         [161, 178, 214],\n",
       "         [157, 177, 212],\n",
       "         [154, 174, 209]],\n",
       "\n",
       "        ...,\n",
       "\n",
       "        [[ 74,  84,  80],\n",
       "         [ 76,  85,  81],\n",
       "         [ 78,  85,  82],\n",
       "         ...,\n",
       "         [ 71,  75,  78],\n",
       "         [ 68,  72,  75],\n",
       "         [ 61,  65,  68]],\n",
       "\n",
       "        [[ 68,  76,  77],\n",
       "         [ 69,  77,  78],\n",
       "         [ 72,  79,  78],\n",
       "         ...,\n",
       "         [ 76,  80,  83],\n",
       "         [ 71,  75,  78],\n",
       "         [ 71,  75,  78]],\n",
       "\n",
       "        [[ 67,  75,  78],\n",
       "         [ 68,  76,  79],\n",
       "         [ 69,  75,  76],\n",
       "         ...,\n",
       "         [ 75,  79,  82],\n",
       "         [ 71,  75,  78],\n",
       "         [ 73,  77,  80]]]], dtype=uint8)"
      ]
     },
     "execution_count": 6,
     "metadata": {},
     "output_type": "execute_result"
    }
   ],
   "source": [
    "x_train[:5]"
   ]
  },
  {
   "cell_type": "code",
   "execution_count": 7,
   "metadata": {},
   "outputs": [
    {
     "data": {
      "text/plain": [
       "array([6], dtype=uint8)"
      ]
     },
     "execution_count": 7,
     "metadata": {},
     "output_type": "execute_result"
    }
   ],
   "source": [
    "y_train[0]"
   ]
  },
  {
   "cell_type": "code",
   "execution_count": 34,
   "metadata": {},
   "outputs": [],
   "source": [
    "class_names = ['airplane', 'automobile', 'bird', 'cat', 'deer',\n",
    "               'dog', 'frog', 'horse', 'ship', 'truck']"
   ]
  },
  {
   "cell_type": "markdown",
   "metadata": {},
   "source": [
    "Using Matplotlib, we display a few images from our dataset to get a general idea of what the dataset contains."
   ]
  },
  {
   "cell_type": "code",
   "execution_count": null,
   "metadata": {},
   "outputs": [
    {
     "data": {
      "image/png": "[encoded data removed]",
      "text/plain": [
       "<Figure size 640x480 with 1 Axes>"
      ]
     },
     "metadata": {},
     "output_type": "display_data"
    },
    {
     "data": {
      "image/png": "[encoded data removed]",
      "text/plain": [
       "<Figure size 640x480 with 1 Axes>"
      ]
     },
     "metadata": {},
     "output_type": "display_data"
    },
    {
     "data": {
      "image/png": "[encoded data removed]",
      "text/plain": [
       "<Figure size 640x480 with 1 Axes>"
      ]
     },
     "metadata": {},
     "output_type": "display_data"
    },
    {
     "data": {
      "image/png": "[encoded data removed]",
      "text/plain": [
       "<Figure size 640x480 with 1 Axes>"
      ]
     },
     "metadata": {},
     "output_type": "display_data"
    },
    {
     "data": {
      "image/png": "[encoded data removed]",
      "text/plain": [
       "<Figure size 640x480 with 1 Axes>"
      ]
     },
     "metadata": {},
     "output_type": "display_data"
    },
    {
     "data": {
      "image/png": "[encoded data removed]",
      "text/plain": [
       "<Figure size 640x480 with 1 Axes>"
      ]
     },
     "metadata": {},
     "output_type": "display_data"
    },
    {
     "data": {
      "image/png": "[encoded data removed]",
      "text/plain": [
       "<Figure size 640x480 with 1 Axes>"
      ]
     },
     "metadata": {},
     "output_type": "display_data"
    },
    {
     "data": {
      "image/png": "[encoded data removed]",
      "text/plain": [
       "<Figure size 640x480 with 1 Axes>"
      ]
     },
     "metadata": {},
     "output_type": "display_data"
    },
    {
     "data": {
      "image/png": "[encoded data removed]",
      "text/plain": [
       "<Figure size 640x480 with 1 Axes>"
      ]
     },
     "metadata": {},
     "output_type": "display_data"
    },
    {
     "data": {
      "image/png": "[encoded data removed]",
      "text/plain": [
       "<Figure size 640x480 with 1 Axes>"
      ]
     },
     "metadata": {},
     "output_type": "display_data"
    }
   ],
   "source": [
    "for i in range(10):\n",
    "    plt.imshow(x_train[i])\n",
    "    plt.title(class_names[int(y_train[i])])\n",
    "    plt.show()"
   ]
  },
  {
   "cell_type": "markdown",
   "metadata": {
    "jp-MarkdownHeadingCollapsed": true
   },
   "source": [
    "# ANN"
   ]
  },
  {
   "cell_type": "markdown",
   "metadata": {},
   "source": [
    "At this stage, we want to fit an ANN on the CIFAR dataset images. But before that, we need to do a few things on the data first!"
   ]
  },
  {
   "cell_type": "markdown",
   "metadata": {},
   "source": [
    "At this stage, we want to fit an ANN on the CIFAR dataset images. But before that, we need to do a few things on the data! And after that, they need to be in a format that can be fed into the ANN as input."
   ]
  },
  {
   "cell_type": "markdown",
   "metadata": {},
   "source": [
    "### ⚠️ Important Reminder: Don't Forget the 3 Color Channels!\n",
    "\n",
    "When working with CIFAR-10 images:\n",
    "\n",
    "- Each image has the shape **(32, 32, 3)** → height, width, and 3 **color channels** (RGB)\n",
    "- If you're flattening the images to feed them into a fully connected ANN, make sure to include **all 3 channels**"
   ]
  },
  {
   "cell_type": "code",
   "execution_count": 7,
   "metadata": {},
   "outputs": [
    {
     "data": {
      "text/plain": [
       "50000"
      ]
     },
     "execution_count": 7,
     "metadata": {},
     "output_type": "execute_result"
    }
   ],
   "source": [
    "x_train.shape[0]"
   ]
  },
  {
   "cell_type": "code",
   "execution_count": 11,
   "metadata": {},
   "outputs": [],
   "source": [
    "x_train_flat = x_train.reshape(x_train.shape[0], -1)"
   ]
  },
  {
   "cell_type": "code",
   "execution_count": 12,
   "metadata": {},
   "outputs": [
    {
     "data": {
      "text/plain": [
       "dtype('uint8')"
      ]
     },
     "execution_count": 12,
     "metadata": {},
     "output_type": "execute_result"
    }
   ],
   "source": [
    "x_train_flat.dtype  # dtype('uint8')"
   ]
  },
  {
   "cell_type": "code",
   "execution_count": 7,
   "metadata": {
    "scrolled": true
   },
   "outputs": [],
   "source": [
    "x_train_final = x_train.reshape(x_train.shape[0], -1) / 255\n",
    "x_test_final = x_test.reshape(x_test.shape[0], -1) / 255"
   ]
  },
  {
   "cell_type": "code",
   "execution_count": 8,
   "metadata": {},
   "outputs": [
    {
     "data": {
      "text/plain": [
       "dtype('float64')"
      ]
     },
     "execution_count": 8,
     "metadata": {},
     "output_type": "execute_result"
    }
   ],
   "source": [
    "x_train_final.dtype"
   ]
  },
  {
   "cell_type": "code",
   "execution_count": 9,
   "metadata": {},
   "outputs": [],
   "source": [
    "x_train_final = x_train.reshape((x_train.shape[0], -1)).astype(\"float32\") / 255.0\n",
    "x_test_final = x_test.reshape((x_test.shape[0], -1)).astype(\"float32\") / 255.0"
   ]
  },
  {
   "cell_type": "code",
   "execution_count": 10,
   "metadata": {},
   "outputs": [
    {
     "data": {
      "text/plain": [
       "dtype('float32')"
      ]
     },
     "execution_count": 10,
     "metadata": {},
     "output_type": "execute_result"
    }
   ],
   "source": [
    "x_train_final.dtype"
   ]
  },
  {
   "cell_type": "markdown",
   "metadata": {},
   "source": [
    "### 🛠️ Image Preprocessing Explained: Reshaping, Normalization, and Data Type\n",
    "\n",
    "Before feeding image data into a fully connected Artificial Neural Network (ANN), we need to prepare it properly. Here's why we apply the following steps:\n",
    "\n",
    "---\n",
    "\n",
    "#### 🔄 1. **Why do we reshape the images?**\n",
    "\n",
    "Original image shape from CIFAR-10: (32, 32, 3) → height, width, RGB channels\n",
    "\n",
    "\n",
    "- Neural networks using dense (fully connected) layers expect **1D input vectors**, not 3D images.\n",
    "- So we reshape each image to a **flat vector**: 32 × 32 × 3 = 3072\n",
    "\n",
    "✅ Final reshaped training set shape: (50000, 3072)"
   ]
  },
  {
   "cell_type": "markdown",
   "metadata": {},
   "source": [
    "---\n",
    "\n",
    "#### 🎨 2. **Why do we divide by 255? (Normalization)**\n",
    "\n",
    "Pixel values in image data range from **0 to 255** (uint8).\n",
    "\n",
    "- Dividing by 255 scales them to the range **[0.0, 1.0]**\n",
    "- This makes training **faster, more stable, and more accurate**\n",
    "- Neural networks generally perform better when inputs are **small, centered, and normalized**\n",
    "\n",
    "---\n",
    "\n",
    "#### 🔢 3. **Why use `.astype(\"float32\")`?**\n",
    "\n",
    "By default, dividing an integer array by an integer (like `/ 255`) in NumPy **converts the result to float64**. While this works, it's not ideal for deep learning:\n",
    "\n",
    "| Reason | Why it matters |\n",
    "|--------|----------------|\n",
    "| ✅ ML Frameworks Expect It | Libraries like TensorFlow and PyTorch use `float32` by default |\n",
    "| ⚡ More Efficient on GPU | `float32` uses less memory and computes faster than `float64` |\n",
    "| 📏 Lower Memory Usage | Saves half the memory compared to `float64` |\n",
    "| 🧠 Consistency | Ensures compatibility and avoids subtle bugs later |\n",
    "\n",
    "---\n",
    "\n",
    "### ✅ Final Code\n",
    "\n",
    "```python\n",
    "x_train_final = x_train.reshape((x_train.shape[0], -1)).astype(\"float32\") / 255.0\n",
    "x_test_final = x_test.reshape((x_test.shape[0], -1)).astype(\"float32\") / 255.0"
   ]
  },
  {
   "cell_type": "markdown",
   "metadata": {},
   "source": [
    "##### To make sure our data is in the format we want, we print their shapes."
   ]
  },
  {
   "cell_type": "code",
   "execution_count": 11,
   "metadata": {},
   "outputs": [
    {
     "name": "stdout",
     "output_type": "stream",
     "text": [
      "Training images shape: (50000, 3072)\n",
      "Training labels shape: (10000, 3072)\n"
     ]
    }
   ],
   "source": [
    "print(\"Training images shape:\", x_train_final.shape)\n",
    "print(\"Training labels shape:\", x_test_final.shape)"
   ]
  },
  {
   "cell_type": "markdown",
   "metadata": {},
   "source": [
    "Now, the label format needs to match the format of our network's output — meaning it should have 10 values.\n",
    "So, using the to_categorical function from Keras, we create the desired labels."
   ]
  },
  {
   "cell_type": "code",
   "execution_count": 12,
   "metadata": {},
   "outputs": [],
   "source": [
    "from keras.utils import to_categorical\n",
    "y_train_cat = to_categorical(y_train, num_classes=10)\n",
    "y_test_cat = to_categorical(y_test, num_classes=10)"
   ]
  },
  {
   "cell_type": "markdown",
   "metadata": {},
   "source": [
    "<div dir=\"auto\">\n",
    "Now we need to build our model.\n",
    "First of all, we import the classes, functions, and layers that we need."
   ]
  },
  {
   "cell_type": "code",
   "execution_count": 15,
   "metadata": {},
   "outputs": [],
   "source": [
    "from tensorflow.keras.models import Sequential\n",
    "from tensorflow.keras.layers import Dense, Input"
   ]
  },
  {
   "cell_type": "markdown",
   "metadata": {},
   "source": [
    "Now, we build our model:\n",
    "1. We build our model using the Sequential API.\n",
    "2. The first layer is an Input layer, and we specify the input shape for it.\n",
    "3. Then, we add Dense layers in order, with 512, 512, 1024, and 10 nodes respectively, and assign appropriate activation functions to each one."
   ]
  },
  {
   "cell_type": "code",
   "execution_count": 19,
   "metadata": {},
   "outputs": [],
   "source": [
    "model = Sequential()\n",
    "model.add(Input(shape=(32*32*3)))\n",
    "model.add(Dense(512, activation='relu'))\n",
    "model.add(Dense(512, activation='relu'))\n",
    "model.add(Dense(1024, activation='relu'))\n",
    "model.add(Dense(len(np.unique(y_train)), activation='softmax'))"
   ]
  },
  {
   "cell_type": "markdown",
   "metadata": {},
   "source": [
    "We compile our model,\n",
    "set the loss function to categorical_crossentropy, and use the Adam optimizer.\n",
    "We also use the accuracy metric to make the model’s performance more interpretable."
   ]
  },
  {
   "cell_type": "code",
   "execution_count": 20,
   "metadata": {},
   "outputs": [],
   "source": [
    "model.compile(\n",
    "    loss = 'categorical_crossentropy',\n",
    "    optimizer='adam',\n",
    "    metrics=['accuracy']\n",
    ")"
   ]
  },
  {
   "cell_type": "markdown",
   "metadata": {},
   "source": [
    "Let's look at the summary of our model.\n",
    "How many parameters do we have?"
   ]
  },
  {
   "cell_type": "code",
   "execution_count": 21,
   "metadata": {
    "scrolled": true
   },
   "outputs": [
    {
     "name": "stdout",
     "output_type": "stream",
     "text": [
      "Model: \"sequential\"\n",
      "_________________________________________________________________\n",
      " Layer (type)                Output Shape              Param #   \n",
      "=================================================================\n",
      " dense (Dense)               (None, 512)               1573376   \n",
      "                                                                 \n",
      " dense_1 (Dense)             (None, 512)               262656    \n",
      "                                                                 \n",
      " dense_2 (Dense)             (None, 1024)              525312    \n",
      "                                                                 \n",
      " dense_3 (Dense)             (None, 10)                10250     \n",
      "                                                                 \n",
      "=================================================================\n",
      "Total params: 2,371,594\n",
      "Trainable params: 2,371,594\n",
      "Non-trainable params: 0\n",
      "_________________________________________________________________\n"
     ]
    }
   ],
   "source": [
    "model.summary()"
   ]
  },
  {
   "cell_type": "markdown",
   "metadata": {},
   "source": [
    "We fit our model on the data we’ve prepared, using the following arguments:\n",
    "batch_size = 128\n",
    "epochs = 30\n",
    "\n",
    "And don’t forget the validation data! We want our model to perform well on the test dataset, so we include that in the training process too."
   ]
  },
  {
   "cell_type": "code",
   "execution_count": 22,
   "metadata": {},
   "outputs": [
    {
     "name": "stdout",
     "output_type": "stream",
     "text": [
      "Epoch 1/30\n",
      "391/391 [==============================] - 3s 4ms/step - loss: 1.8523 - accuracy: 0.3266 - val_loss: 1.7277 - val_accuracy: 0.3836\n",
      "Epoch 2/30\n",
      "391/391 [==============================] - 1s 3ms/step - loss: 1.6378 - accuracy: 0.4129 - val_loss: 1.5905 - val_accuracy: 0.4346\n",
      "Epoch 3/30\n",
      "391/391 [==============================] - 1s 3ms/step - loss: 1.5590 - accuracy: 0.4398 - val_loss: 1.4953 - val_accuracy: 0.4705\n",
      "Epoch 4/30\n",
      "391/391 [==============================] - 1s 4ms/step - loss: 1.4904 - accuracy: 0.4635 - val_loss: 1.4937 - val_accuracy: 0.4710\n",
      "Epoch 5/30\n",
      "391/391 [==============================] - 1s 4ms/step - loss: 1.4464 - accuracy: 0.4824 - val_loss: 1.5017 - val_accuracy: 0.4655\n",
      "Epoch 6/30\n",
      "391/391 [==============================] - 1s 4ms/step - loss: 1.4209 - accuracy: 0.4923 - val_loss: 1.4709 - val_accuracy: 0.4841\n",
      "Epoch 7/30\n",
      "391/391 [==============================] - 1s 4ms/step - loss: 1.3718 - accuracy: 0.5064 - val_loss: 1.4511 - val_accuracy: 0.4840\n",
      "Epoch 8/30\n",
      "391/391 [==============================] - 1s 3ms/step - loss: 1.3343 - accuracy: 0.5209 - val_loss: 1.4252 - val_accuracy: 0.4912\n",
      "Epoch 9/30\n",
      "391/391 [==============================] - 1s 3ms/step - loss: 1.2986 - accuracy: 0.5363 - val_loss: 1.4387 - val_accuracy: 0.4898\n",
      "Epoch 10/30\n",
      "391/391 [==============================] - 1s 4ms/step - loss: 1.2603 - accuracy: 0.5472 - val_loss: 1.4221 - val_accuracy: 0.5001\n",
      "Epoch 11/30\n",
      "391/391 [==============================] - 1s 3ms/step - loss: 1.2144 - accuracy: 0.5637 - val_loss: 1.4112 - val_accuracy: 0.5100\n",
      "Epoch 12/30\n",
      "391/391 [==============================] - 1s 3ms/step - loss: 1.1688 - accuracy: 0.5791 - val_loss: 1.4272 - val_accuracy: 0.5017\n",
      "Epoch 13/30\n",
      "391/391 [==============================] - 1s 3ms/step - loss: 1.1200 - accuracy: 0.5967 - val_loss: 1.4092 - val_accuracy: 0.5159\n",
      "Epoch 14/30\n",
      "391/391 [==============================] - 1s 3ms/step - loss: 1.0815 - accuracy: 0.6078 - val_loss: 1.4703 - val_accuracy: 0.4960\n",
      "Epoch 15/30\n",
      "391/391 [==============================] - 1s 3ms/step - loss: 1.0300 - accuracy: 0.6269 - val_loss: 1.4624 - val_accuracy: 0.5051\n",
      "Epoch 16/30\n",
      "391/391 [==============================] - 1s 3ms/step - loss: 0.9770 - accuracy: 0.6494 - val_loss: 1.4837 - val_accuracy: 0.5078\n",
      "Epoch 17/30\n",
      "391/391 [==============================] - 1s 4ms/step - loss: 0.9180 - accuracy: 0.6691 - val_loss: 1.5084 - val_accuracy: 0.5092\n",
      "Epoch 18/30\n",
      "391/391 [==============================] - 1s 3ms/step - loss: 0.8567 - accuracy: 0.6927 - val_loss: 1.5379 - val_accuracy: 0.5095\n",
      "Epoch 19/30\n",
      "391/391 [==============================] - 1s 4ms/step - loss: 0.7986 - accuracy: 0.7094 - val_loss: 1.6526 - val_accuracy: 0.5119\n",
      "Epoch 20/30\n",
      "391/391 [==============================] - 1s 4ms/step - loss: 0.7417 - accuracy: 0.7330 - val_loss: 1.6604 - val_accuracy: 0.5063\n",
      "Epoch 21/30\n",
      "391/391 [==============================] - 1s 4ms/step - loss: 0.6843 - accuracy: 0.7544 - val_loss: 1.7366 - val_accuracy: 0.5045\n",
      "Epoch 22/30\n",
      "391/391 [==============================] - 1s 3ms/step - loss: 0.6277 - accuracy: 0.7739 - val_loss: 1.8379 - val_accuracy: 0.4961\n",
      "Epoch 23/30\n",
      "391/391 [==============================] - 1s 4ms/step - loss: 0.5736 - accuracy: 0.7957 - val_loss: 1.9311 - val_accuracy: 0.4912\n",
      "Epoch 24/30\n",
      "391/391 [==============================] - 1s 3ms/step - loss: 0.5237 - accuracy: 0.8122 - val_loss: 1.9903 - val_accuracy: 0.5012\n",
      "Epoch 25/30\n",
      "391/391 [==============================] - 1s 3ms/step - loss: 0.4858 - accuracy: 0.8255 - val_loss: 2.0692 - val_accuracy: 0.4960\n",
      "Epoch 26/30\n",
      "391/391 [==============================] - 1s 3ms/step - loss: 0.4254 - accuracy: 0.8483 - val_loss: 2.2244 - val_accuracy: 0.4929\n",
      "Epoch 27/30\n",
      "391/391 [==============================] - 1s 3ms/step - loss: 0.4007 - accuracy: 0.8576 - val_loss: 2.3608 - val_accuracy: 0.4920\n",
      "Epoch 28/30\n",
      "391/391 [==============================] - 1s 3ms/step - loss: 0.3691 - accuracy: 0.8689 - val_loss: 2.3748 - val_accuracy: 0.4944\n",
      "Epoch 29/30\n",
      "391/391 [==============================] - 1s 3ms/step - loss: 0.3467 - accuracy: 0.8769 - val_loss: 2.5654 - val_accuracy: 0.4820\n",
      "Epoch 30/30\n",
      "391/391 [==============================] - 1s 3ms/step - loss: 0.3291 - accuracy: 0.8830 - val_loss: 2.6585 - val_accuracy: 0.4910\n"
     ]
    },
    {
     "data": {
      "text/plain": [
       "<keras.callbacks.History at 0x2076f1cefe0>"
      ]
     },
     "execution_count": 22,
     "metadata": {},
     "output_type": "execute_result"
    }
   ],
   "source": [
    "model.fit(\n",
    "    x_train_final,\n",
    "    y_train_cat,\n",
    "    batch_size = 128,\n",
    "    epochs = 30,\n",
    "    verbose = 1,\n",
    "    validation_data = (x_test_final, y_test_cat)\n",
    ")"
   ]
  },
  {
   "cell_type": "markdown",
   "metadata": {},
   "source": [
    "### ❌ Why ANN Fails on Image Data Like CIFAR-10\n",
    "\n",
    "When using a basic **Artificial Neural Network (ANN)** (a.k.a. fully connected network) on image datasets like CIFAR-10, we often see poor generalization performance on validation/test data.\n",
    "\n",
    "---\n",
    "\n",
    "#### 🧪 What's the issue?\n",
    "\n",
    "- ANN **flattens** images into 1D vectors (e.g., 32×32×3 → 3072).\n",
    "- This causes the model to **lose spatial structure** (like edges, textures, object shapes).\n",
    "- As a result, the network can't **detect local features** that are crucial for image understanding.\n",
    "\n",
    "---\n",
    "\n",
    "#### ⚠️ Symptoms You Might See\n",
    "\n",
    "- **High training accuracy** (the model memorizes the data)\n",
    "- **Low validation accuracy**\n",
    "- **Validation loss increasing** while training loss decreases → classic sign of **overfitting**\n",
    "\n",
    "---\n",
    "\n",
    "#### ✅ Why CNNs Work Better\n",
    "\n",
    "- CNNs preserve the **2D spatial structure** of images\n",
    "- They use **convolutional layers** to learn local patterns (edges, corners, etc.)\n",
    "- CNNs are much more effective at learning image hierarchies and generalizing to new images\n",
    "\n",
    "---\n",
    "\n",
    "📌 **Conclusion**: ANNs are not well-suited for image tasks. For datasets like CIFAR-10, **Convolutional Neural Networks (CNNs)** are the preferred choice.\n"
   ]
  },
  {
   "cell_type": "markdown",
   "metadata": {},
   "source": [
    "<br><br><br>  <!-- Creates multiple empty lines -->"
   ]
  },
  {
   "cell_type": "markdown",
   "metadata": {},
   "source": [
    "# CNN"
   ]
  },
  {
   "cell_type": "markdown",
   "metadata": {},
   "source": [
    "Now let’s build a CNN!🔥"
   ]
  },
  {
   "cell_type": "markdown",
   "metadata": {},
   "source": [
    "Just like before, the first thing we need to do is properly transform our data.\n",
    "So, our data should be reshaped and scaled between 0 and 1.\n",
    "Also, let’s not forget to use astype so that we get float32 instead of float64."
   ]
  },
  {
   "cell_type": "code",
   "execution_count": 3,
   "metadata": {},
   "outputs": [],
   "source": [
    "x_train_cnn = x_train.reshape(-1, 32, 32, 3).astype(\"float32\") / 255\n",
    "x_test_cnn = x_test.reshape(-1, 32, 32, 3).astype(\"float32\") / 255"
   ]
  },
  {
   "cell_type": "code",
   "execution_count": 9,
   "metadata": {},
   "outputs": [],
   "source": [
    "x_train_cnn = x_train.astype(\"float32\") / 255\n",
    "x_test_cnn = x_test.astype(\"float32\") / 255"
   ]
  },
  {
   "cell_type": "markdown",
   "metadata": {},
   "source": [
    "Now, the label format needs to match the format of our network's output — meaning it should have 10 values.\n",
    "So, using the to_categorical function from Keras, we create the desired labels."
   ]
  },
  {
   "cell_type": "code",
   "execution_count": 10,
   "metadata": {},
   "outputs": [],
   "source": [
    "from keras.utils import to_categorical\n",
    "y_train_cat = to_categorical(y_train, num_classes=10)\n",
    "y_test_cat = to_categorical(y_test, num_classes=10)"
   ]
  },
  {
   "cell_type": "markdown",
   "metadata": {},
   "source": [
    "<div dir=\"auto\">\n",
    "Now we need to build our model.\n",
    "First of all, we import the classes, functions, and layers that we need."
   ]
  },
  {
   "cell_type": "code",
   "execution_count": 4,
   "metadata": {},
   "outputs": [],
   "source": [
    "from tensorflow.keras.models import Sequential\n",
    "from tensorflow.keras.layers import Dense, Conv2D, MaxPool2D, Flatten"
   ]
  },
  {
   "cell_type": "markdown",
   "metadata": {},
   "source": [
    "Now we build our model:\n",
    "\n",
    "1. We define the model using the Sequential API.\n",
    "\n",
    "2. We add the input layer to the network and specify the shape it accepts.\n",
    "\n",
    "3. We add three convolutional layers in sequence, each with 32 filters.\n",
    "\n",
    "4. We add a max pooling layer to the network.\n",
    "\n",
    "5. We add a flatten layer to convert the feature maps into a 1D vector.\n",
    "\n",
    "6. We add three dense layers with 64, 32, and 10 nodes respectively, and assign appropriate activation functions to each."
   ]
  },
  {
   "cell_type": "code",
   "execution_count": 16,
   "metadata": {
    "jupyter": {
     "source_hidden": true
    }
   },
   "outputs": [],
   "source": [
    "model = Sequential() #Model\n",
    "\n",
    "#CNN\n",
    "model.add(Conv2D(filters=32, kernel_size=(3,3), activation='relu', input_shape=(32,32,3)))\n",
    "model.add(Conv2D(filters=32, kernel_size=(3,3), activation='relu'))\n",
    "model.add(Conv2D(filters=32, kernel_size=(3,3), activation='relu'))\n",
    "model.add(MaxPool2D(pool_size=(2,2)))\n",
    "model.add(Flatten())\n",
    "\n",
    "#ANN\n",
    "model.add(Dense(64, activation='relu'))\n",
    "model.add(Dense(32, activation='relu'))\n",
    "model.add(Dense(10, activation='softmax'))\n",
    "\n",
    "model.compile(loss = 'categorical_crossentropy',\n",
    "              optimizer = 'adam', \n",
    "              metrics = ['accuracy']\n",
    ")"
   ]
  },
  {
   "cell_type": "markdown",
   "metadata": {},
   "source": [
    "Let's look at the summary of our model.\n",
    "How many parameters do we have?"
   ]
  },
  {
   "cell_type": "code",
   "execution_count": 17,
   "metadata": {
    "collapsed": true,
    "jupyter": {
     "outputs_hidden": true
    }
   },
   "outputs": [
    {
     "name": "stdout",
     "output_type": "stream",
     "text": [
      "Model: \"sequential_1\"\n",
      "_________________________________________________________________\n",
      " Layer (type)                Output Shape              Param #   \n",
      "=================================================================\n",
      " conv2d_3 (Conv2D)           (None, 30, 30, 32)        896       \n",
      "                                                                 \n",
      " conv2d_4 (Conv2D)           (None, 28, 28, 32)        9248      \n",
      "                                                                 \n",
      " conv2d_5 (Conv2D)           (None, 26, 26, 32)        9248      \n",
      "                                                                 \n",
      " max_pooling2d_1 (MaxPooling  (None, 13, 13, 32)       0         \n",
      " 2D)                                                             \n",
      "                                                                 \n",
      " flatten_1 (Flatten)         (None, 5408)              0         \n",
      "                                                                 \n",
      " dense_3 (Dense)             (None, 64)                346176    \n",
      "                                                                 \n",
      " dense_4 (Dense)             (None, 32)                2080      \n",
      "                                                                 \n",
      " dense_5 (Dense)             (None, 10)                330       \n",
      "                                                                 \n",
      "=================================================================\n",
      "Total params: 367,978\n",
      "Trainable params: 367,978\n",
      "Non-trainable params: 0\n",
      "_________________________________________________________________\n"
     ]
    }
   ],
   "source": [
    "model.summary()"
   ]
  },
  {
   "cell_type": "markdown",
   "metadata": {},
   "source": [
    "We fit our model on the data we’ve prepared, using the following arguments:\n",
    "batch_size = 128\n",
    "epochs = 30\n",
    "\n",
    "And don’t forget the validation data! We want our model to perform well on the test dataset, so we include that in the training process too."
   ]
  },
  {
   "cell_type": "code",
   "execution_count": 19,
   "metadata": {
    "jupyter": {
     "source_hidden": true
    },
    "scrolled": true
   },
   "outputs": [
    {
     "name": "stdout",
     "output_type": "stream",
     "text": [
      "Epoch 1/30\n",
      "391/391 [==============================] - 10s 12ms/step - loss: 1.6121 - accuracy: 0.4116 - val_loss: 1.3504 - val_accuracy: 0.5084\n",
      "Epoch 2/30\n",
      "391/391 [==============================] - 4s 11ms/step - loss: 1.2227 - accuracy: 0.5662 - val_loss: 1.1446 - val_accuracy: 0.5928\n",
      "Epoch 3/30\n",
      "391/391 [==============================] - 4s 11ms/step - loss: 1.0423 - accuracy: 0.6349 - val_loss: 1.0860 - val_accuracy: 0.6195\n",
      "Epoch 4/30\n",
      "391/391 [==============================] - 4s 11ms/step - loss: 0.9339 - accuracy: 0.6741 - val_loss: 0.9991 - val_accuracy: 0.6519\n",
      "Epoch 5/30\n",
      "391/391 [==============================] - 4s 11ms/step - loss: 0.8561 - accuracy: 0.7021 - val_loss: 0.9955 - val_accuracy: 0.6536\n",
      "Epoch 6/30\n",
      "391/391 [==============================] - 4s 11ms/step - loss: 0.7896 - accuracy: 0.7245 - val_loss: 0.9728 - val_accuracy: 0.6641\n",
      "Epoch 7/30\n",
      "391/391 [==============================] - 4s 11ms/step - loss: 0.7248 - accuracy: 0.7491 - val_loss: 0.9666 - val_accuracy: 0.6720\n",
      "Epoch 8/30\n",
      "391/391 [==============================] - 4s 11ms/step - loss: 0.6744 - accuracy: 0.7672 - val_loss: 0.9878 - val_accuracy: 0.6699\n",
      "Epoch 9/30\n",
      "391/391 [==============================] - 5s 12ms/step - loss: 0.6201 - accuracy: 0.7851 - val_loss: 0.9934 - val_accuracy: 0.6764\n",
      "Epoch 10/30\n",
      "391/391 [==============================] - 5s 12ms/step - loss: 0.5715 - accuracy: 0.8013 - val_loss: 1.0338 - val_accuracy: 0.6693\n",
      "Epoch 11/30\n",
      "391/391 [==============================] - 4s 11ms/step - loss: 0.5185 - accuracy: 0.8208 - val_loss: 1.0633 - val_accuracy: 0.6709\n",
      "Epoch 12/30\n",
      "391/391 [==============================] - 4s 11ms/step - loss: 0.4695 - accuracy: 0.8387 - val_loss: 1.1802 - val_accuracy: 0.6559\n",
      "Epoch 13/30\n",
      "391/391 [==============================] - 4s 11ms/step - loss: 0.4240 - accuracy: 0.8522 - val_loss: 1.1882 - val_accuracy: 0.6590\n",
      "Epoch 14/30\n",
      "391/391 [==============================] - 4s 11ms/step - loss: 0.3771 - accuracy: 0.8708 - val_loss: 1.3421 - val_accuracy: 0.6497\n",
      "Epoch 15/30\n",
      "391/391 [==============================] - 4s 11ms/step - loss: 0.3371 - accuracy: 0.8826 - val_loss: 1.3739 - val_accuracy: 0.6593\n",
      "Epoch 16/30\n",
      "391/391 [==============================] - 4s 11ms/step - loss: 0.3010 - accuracy: 0.8958 - val_loss: 1.4640 - val_accuracy: 0.6487\n",
      "Epoch 17/30\n",
      "391/391 [==============================] - 5s 12ms/step - loss: 0.2609 - accuracy: 0.9086 - val_loss: 1.6163 - val_accuracy: 0.6485\n",
      "Epoch 18/30\n",
      "391/391 [==============================] - 5s 12ms/step - loss: 0.2273 - accuracy: 0.9206 - val_loss: 1.6434 - val_accuracy: 0.6470\n",
      "Epoch 19/30\n",
      "391/391 [==============================] - 5s 13ms/step - loss: 0.2084 - accuracy: 0.9264 - val_loss: 1.8714 - val_accuracy: 0.6398\n",
      "Epoch 20/30\n",
      "391/391 [==============================] - 5s 12ms/step - loss: 0.1858 - accuracy: 0.9338 - val_loss: 2.0584 - val_accuracy: 0.6280\n",
      "Epoch 21/30\n",
      "391/391 [==============================] - 4s 11ms/step - loss: 0.1680 - accuracy: 0.9402 - val_loss: 2.0379 - val_accuracy: 0.6430\n",
      "Epoch 22/30\n",
      "391/391 [==============================] - 5s 12ms/step - loss: 0.1558 - accuracy: 0.9445 - val_loss: 2.2228 - val_accuracy: 0.6355\n",
      "Epoch 23/30\n",
      "391/391 [==============================] - 5s 12ms/step - loss: 0.1311 - accuracy: 0.9543 - val_loss: 2.3379 - val_accuracy: 0.6347\n",
      "Epoch 24/30\n",
      "391/391 [==============================] - 5s 12ms/step - loss: 0.1334 - accuracy: 0.9533 - val_loss: 2.5121 - val_accuracy: 0.6257\n",
      "Epoch 25/30\n",
      "391/391 [==============================] - 5s 12ms/step - loss: 0.1075 - accuracy: 0.9623 - val_loss: 2.7048 - val_accuracy: 0.6195\n",
      "Epoch 26/30\n",
      "391/391 [==============================] - 4s 11ms/step - loss: 0.1122 - accuracy: 0.9603 - val_loss: 2.7376 - val_accuracy: 0.6313\n",
      "Epoch 27/30\n",
      "391/391 [==============================] - 5s 12ms/step - loss: 0.0928 - accuracy: 0.9667 - val_loss: 2.8442 - val_accuracy: 0.6325\n",
      "Epoch 28/30\n",
      "391/391 [==============================] - 4s 11ms/step - loss: 0.1048 - accuracy: 0.9626 - val_loss: 2.8872 - val_accuracy: 0.6320\n",
      "Epoch 29/30\n",
      "391/391 [==============================] - 4s 11ms/step - loss: 0.0913 - accuracy: 0.9681 - val_loss: 3.0391 - val_accuracy: 0.6235\n",
      "Epoch 30/30\n",
      "391/391 [==============================] - 4s 11ms/step - loss: 0.0988 - accuracy: 0.9657 - val_loss: 2.9371 - val_accuracy: 0.6363\n"
     ]
    },
    {
     "data": {
      "text/plain": [
       "<keras.callbacks.History at 0x1c8382e8970>"
      ]
     },
     "execution_count": 19,
     "metadata": {},
     "output_type": "execute_result"
    }
   ],
   "source": [
    "model.fit(\n",
    "    x_train_cnn,\n",
    "    y_train_cat,\n",
    "    batch_size = 128,\n",
    "    epochs = 30,\n",
    "    verbose = 1,\n",
    "    validation_data = (x_test_cnn, y_test_cat)\n",
    ")"
   ]
  },
  {
   "cell_type": "markdown",
   "metadata": {},
   "source": [
    "---"
   ]
  },
  {
   "cell_type": "markdown",
   "metadata": {},
   "source": [
    "We’re going to modify both our ANN and CNN models\n",
    "to see what the highest accuracy we can get from them is."
   ]
  },
  {
   "cell_type": "code",
   "execution_count": 3,
   "metadata": {},
   "outputs": [],
   "source": [
    "from tensorflow.keras.layers import Dropout"
   ]
  },
  {
   "cell_type": "code",
   "execution_count": null,
   "metadata": {
    "jupyter": {
     "source_hidden": true
    }
   },
   "outputs": [],
   "source": [
    "model = Sequential() #Model\n",
    "\n",
    "#CNN\n",
    "#First Block\n",
    "model.add(Conv2D(filters=32, kernel_size=(3,3), \n",
    "                 activation='relu',\n",
    "                 input_shape=(32,32,3)\n",
    "                 )\n",
    ")\n",
    "model.add(Conv2D(filters=32, kernel_size=(3,3), activation='relu'))\n",
    "model.add(Conv2D(filters=32, kernel_size=(3,3), activation='relu'))\n",
    "model.add(MaxPool2D(pool_size=(2,2)))\n",
    "#Second Block\n",
    "model.add(Conv2D(64, (3, 3), activation='relu'))\n",
    "model.add(Conv2D(64, (3, 3), activation='relu'))\n",
    "model.add(MaxPool2D(pool_size=(2,2)))\n",
    "#Third Block\n",
    "model.add(Conv2D(128, (3,3), activation='relu'))\n",
    "model.add(MaxPool2D(pool_size=(2,2)))\n",
    "#Last of CNN\n",
    "model.add(Flatten())\n",
    "model.add(Dropout(0.25))\n",
    "#---------------------------------------------------------------------\n",
    "#ANN\n",
    "model.add(Dense(256, activation='relu'))\n",
    "model.add(Dropout(0.5))\n",
    "model.add(Dense(128, activation='relu'))\n",
    "model.add(Dropout(0.5))\n",
    "model.add(Dense(64, activation='relu'))\n",
    "model.add(Dense(10, activation='softmax'))\n",
    "\n",
    "model.compile(loss = 'categorical_crossentropy',\n",
    "              optimizer = 'adam', \n",
    "              metrics = ['accuracy']\n",
    ")"
   ]
  },
  {
   "cell_type": "code",
   "execution_count": 10,
   "metadata": {
    "collapsed": true,
    "jupyter": {
     "outputs_hidden": true
    }
   },
   "outputs": [
    {
     "name": "stdout",
     "output_type": "stream",
     "text": [
      "Epoch 1/30\n",
      "782/782 [==============================] - 7s 9ms/step - loss: 0.5262 - accuracy: 0.8254 - val_loss: 0.9123 - val_accuracy: 0.7257\n",
      "Epoch 2/30\n",
      "782/782 [==============================] - 7s 9ms/step - loss: 0.5217 - accuracy: 0.8262 - val_loss: 0.9471 - val_accuracy: 0.7171\n",
      "Epoch 3/30\n",
      "782/782 [==============================] - 7s 9ms/step - loss: 0.5106 - accuracy: 0.8309 - val_loss: 0.9231 - val_accuracy: 0.7215\n",
      "Epoch 4/30\n",
      "782/782 [==============================] - 7s 9ms/step - loss: 0.5062 - accuracy: 0.8311 - val_loss: 0.9213 - val_accuracy: 0.7215\n",
      "Epoch 5/30\n",
      "782/782 [==============================] - 7s 9ms/step - loss: 0.4948 - accuracy: 0.8369 - val_loss: 0.9171 - val_accuracy: 0.7257\n",
      "Epoch 6/30\n",
      "782/782 [==============================] - 8s 10ms/step - loss: 0.4860 - accuracy: 0.8383 - val_loss: 0.9372 - val_accuracy: 0.7116\n",
      "Epoch 7/30\n",
      "782/782 [==============================] - 7s 10ms/step - loss: 0.4825 - accuracy: 0.8412 - val_loss: 0.9310 - val_accuracy: 0.7202\n",
      "Epoch 8/30\n",
      "782/782 [==============================] - 8s 10ms/step - loss: 0.4762 - accuracy: 0.8432 - val_loss: 0.9153 - val_accuracy: 0.7246\n",
      "Epoch 9/30\n",
      "782/782 [==============================] - 7s 9ms/step - loss: 0.4684 - accuracy: 0.8461 - val_loss: 0.9286 - val_accuracy: 0.7162\n",
      "Epoch 10/30\n",
      "782/782 [==============================] - 7s 9ms/step - loss: 0.4677 - accuracy: 0.8464 - val_loss: 0.9534 - val_accuracy: 0.7205\n",
      "Epoch 11/30\n",
      "782/782 [==============================] - 7s 9ms/step - loss: 0.4549 - accuracy: 0.8493 - val_loss: 0.9537 - val_accuracy: 0.7226\n",
      "Epoch 12/30\n",
      "782/782 [==============================] - 7s 9ms/step - loss: 0.4379 - accuracy: 0.8551 - val_loss: 0.9647 - val_accuracy: 0.7160\n",
      "Epoch 13/30\n",
      "782/782 [==============================] - 7s 9ms/step - loss: 0.4425 - accuracy: 0.8542 - val_loss: 0.9605 - val_accuracy: 0.7188\n",
      "Epoch 14/30\n",
      "782/782 [==============================] - 7s 9ms/step - loss: 0.4441 - accuracy: 0.8557 - val_loss: 0.9452 - val_accuracy: 0.7225\n",
      "Epoch 15/30\n",
      "782/782 [==============================] - 7s 9ms/step - loss: 0.4329 - accuracy: 0.8577 - val_loss: 1.0444 - val_accuracy: 0.7121\n",
      "Epoch 16/30\n",
      "782/782 [==============================] - 8s 11ms/step - loss: 0.4243 - accuracy: 0.8618 - val_loss: 0.9831 - val_accuracy: 0.7234\n",
      "Epoch 17/30\n",
      "782/782 [==============================] - 9s 12ms/step - loss: 0.4270 - accuracy: 0.8605 - val_loss: 0.9493 - val_accuracy: 0.7215\n",
      "Epoch 18/30\n",
      "782/782 [==============================] - 9s 12ms/step - loss: 0.4221 - accuracy: 0.8635 - val_loss: 0.9927 - val_accuracy: 0.7126\n",
      "Epoch 19/30\n",
      "782/782 [==============================] - 9s 12ms/step - loss: 0.4184 - accuracy: 0.8626 - val_loss: 0.9584 - val_accuracy: 0.7217\n",
      "Epoch 20/30\n",
      "782/782 [==============================] - 9s 12ms/step - loss: 0.4103 - accuracy: 0.8651 - val_loss: 1.0012 - val_accuracy: 0.7199\n",
      "Epoch 21/30\n",
      "782/782 [==============================] - 9s 12ms/step - loss: 0.4014 - accuracy: 0.8694 - val_loss: 1.0148 - val_accuracy: 0.7243\n",
      "Epoch 22/30\n",
      "782/782 [==============================] - 9s 12ms/step - loss: 0.4056 - accuracy: 0.8682 - val_loss: 0.9741 - val_accuracy: 0.7205\n",
      "Epoch 23/30\n",
      "782/782 [==============================] - 9s 12ms/step - loss: 0.3960 - accuracy: 0.8699 - val_loss: 1.0265 - val_accuracy: 0.7163\n",
      "Epoch 24/30\n",
      "782/782 [==============================] - 9s 12ms/step - loss: 0.3944 - accuracy: 0.8722 - val_loss: 1.0138 - val_accuracy: 0.7182\n",
      "Epoch 25/30\n",
      "782/782 [==============================] - 9s 12ms/step - loss: 0.3806 - accuracy: 0.8757 - val_loss: 1.0621 - val_accuracy: 0.7183\n",
      "Epoch 26/30\n",
      "782/782 [==============================] - 9s 12ms/step - loss: 0.3836 - accuracy: 0.8764 - val_loss: 1.0393 - val_accuracy: 0.7191\n",
      "Epoch 27/30\n",
      "782/782 [==============================] - 8s 10ms/step - loss: 0.3798 - accuracy: 0.8768 - val_loss: 1.0567 - val_accuracy: 0.7181\n",
      "Epoch 28/30\n",
      "782/782 [==============================] - 8s 10ms/step - loss: 0.3744 - accuracy: 0.8791 - val_loss: 1.0681 - val_accuracy: 0.7228\n",
      "Epoch 29/30\n",
      "782/782 [==============================] - 8s 10ms/step - loss: 0.3723 - accuracy: 0.8803 - val_loss: 1.0218 - val_accuracy: 0.7192\n",
      "Epoch 30/30\n",
      "782/782 [==============================] - 9s 12ms/step - loss: 0.3752 - accuracy: 0.8785 - val_loss: 1.0286 - val_accuracy: 0.7230\n"
     ]
    },
    {
     "data": {
      "text/plain": [
       "<keras.callbacks.History at 0x1fbe5a97af0>"
      ]
     },
     "execution_count": 10,
     "metadata": {},
     "output_type": "execute_result"
    }
   ],
   "source": [
    "model.fit(\n",
    "    x_train_cnn,         # CNN-shaped input: (50000, 32, 32, 3)\n",
    "    y_train_cat,         # One-hot encoded labels: (50000, 10)\n",
    "    batch_size=64,      # Reasonable for training speed vs. memory\n",
    "    epochs=30,           # Good range to watch learning progress\n",
    "    verbose=1,           # Shows progress bar\n",
    "    validation_data=(x_test_cnn, y_test_cat)  # Evaluates generalization\n",
    ")"
   ]
  },
  {
   "cell_type": "markdown",
   "metadata": {
    "jupyter": {
     "source_hidden": true
    }
   },
   "source": [
    "### 🧠 Deep CNN Model Explanation & Training Summary\n",
    "\n",
    "This section defines and trains a deep **Convolutional Neural Network (CNN)** designed for **image classification** on the CIFAR-10 dataset. The model is built using the **Keras Sequential API**, and contains both convolutional and dense (fully connected) layers.\n",
    "\n",
    "---\n",
    "\n",
    "#### 📐 Model Architecture\n",
    "\n",
    "##### 🧱 Convolutional Feature Extractor (CNN Blocks)\n",
    "\n",
    "1. **First Block**\n",
    "   - `Conv2D(32)` × 3 with ReLU activation\n",
    "   - `MaxPool2D(2×2)`\n",
    "   - Learns low-level features (edges, textures)\n",
    "\n",
    "2. **Second Block**\n",
    "   - `Conv2D(64)` × 2 with ReLU\n",
    "   - `MaxPool2D(2×2)`\n",
    "   - Learns mid-level features (shapes, object parts)\n",
    "\n",
    "3. **Third Block**\n",
    "   - `Conv2D(128)` × 1 with ReLU\n",
    "   - `MaxPool2D(2×2)`\n",
    "   - Learns high-level abstract features\n",
    "\n",
    "4. `Flatten()` – Converts 3D feature maps into a 1D vector  \n",
    "5. `Dropout(0.25)` – Regularization to reduce overfitting\n",
    "\n",
    "---\n",
    "\n",
    "##### 🧠 Fully Connected Classifier (ANN Part)\n",
    "\n",
    "1. `Dense(256)` with ReLU + `Dropout(0.5)`\n",
    "2. `Dense(128)` with ReLU + `Dropout(0.5)`\n",
    "3. `Dense(64)` with ReLU\n",
    "4. `Dense(10)` with `softmax` – Output layer for 10 classes\n",
    "\n",
    "---\n",
    "\n",
    "#### ⚙️ Compilation Details\n",
    "\n",
    "- **Loss Function**: `categorical_crossentropy` (for multi-class classification)\n",
    "- **Optimizer**: `adam` (efficient and adaptive)\n",
    "- **Metric**: `accuracy`\n",
    "\n",
    "```python\n",
    "model.compile(\n",
    "    loss='categorical_crossentropy',\n",
    "    optimizer='adam',\n",
    "    metrics=['accuracy']\n",
    ")\n"
   ]
  },
  {
   "cell_type": "markdown",
   "metadata": {},
   "source": [
    "<br><br><br>  <!-- Creates multiple empty lines -->"
   ]
  },
  {
   "cell_type": "markdown",
   "metadata": {
    "jupyter": {
     "source_hidden": true
    }
   },
   "source": [
    "### 📊 CNN Model Performance Comparison\n",
    "\n",
    "This section compares the performance of a **simple CNN** and an **enhanced deep CNN** on the CIFAR-10 dataset.\n",
    "\n",
    "---\n",
    "\n",
    "#### 🧠 Simple CNN Model\n",
    "\n",
    "- **Structure**:\n",
    "  - 3 × `Conv2D(32, 3x3)` + ReLU\n",
    "  - `MaxPool2D(2x2)`\n",
    "  - `Flatten()`\n",
    "  - Dense Layers: 64 → 32 → 10 with ReLU and Softmax\n",
    "- **Training Result**:\n",
    "  - Final training accuracy: **~96%**\n",
    "  - Final validation accuracy: **~63%**\n",
    "\n",
    "🟡 **Observation**: While the model performed well on training data, it **overfitted** quickly and failed to generalize well to unseen data.\n",
    "\n",
    "---\n",
    "\n",
    "#### 🚀 Enhanced Deep CNN Model\n",
    "\n",
    "- **Structure**:\n",
    "  - Block 1: 3 × `Conv2D(32, 3x3)` → `MaxPool2D(2x2)`\n",
    "  - Block 2: 2 × `Conv2D(64, 3x3)` → `MaxPool2D(2x2)`\n",
    "  - Block 3: 1 × `Conv2D(128, 3x3)` → `MaxPool2D(2x2)`\n",
    "  - `Flatten()` → `Dropout(0.25)`\n",
    "  - Dense Layers: 256 → `Dropout(0.5)` → 128 → `Dropout(0.5)` → 64 → 10\n",
    "- **Training Result**:\n",
    "  - Final training accuracy: **~88%**\n",
    "  - Final validation accuracy: **~72%**\n",
    "\n",
    "🟢 **Observation**: The deeper architecture with regularization techniques **reduced overfitting** and **improved generalization** on test data significantly.\n",
    "\n",
    "---\n",
    "\n",
    "✅ **Conclusion**:\n",
    "- The deeper CNN with `Dropout` and more feature extraction layers was able to **generalize better**.\n",
    "- For image data like CIFAR-10, CNNs dramatically outperform plain fully connected networks.\n"
   ]
  },
  {
   "cell_type": "markdown",
   "metadata": {},
   "source": [
    "<br><br><br>  <!-- Creates multiple empty lines -->"
   ]
  },
  {
   "cell_type": "code",
   "execution_count": 11,
   "metadata": {},
   "outputs": [],
   "source": [
    "model = Sequential() #Model\n",
    "\n",
    "#CNN\n",
    "#First Block\n",
    "model.add(Conv2D(filters=32, kernel_size=(3,3), activation='relu', input_shape=(32,32,3),\n",
    "                 kernel_initializer = 'he_uniform', padding = 'same'\n",
    "                )\n",
    ")\n",
    "model.add(Conv2D(filters=32, kernel_size=(3,3),\n",
    "                 activation='relu', kernel_initializer = 'he_uniform',\n",
    "                 padding = 'same'\n",
    "                )\n",
    ")\n",
    "model.add(Conv2D(filters=32, kernel_size=(3,3),\n",
    "                 activation='relu', kernel_initializer = 'he_uniform',\n",
    "                 padding = 'same'\n",
    "                )\n",
    ")\n",
    "model.add(MaxPool2D(pool_size=(2,2)))\n",
    "model.add(Dropout(0.2))\n",
    "\n",
    "#Second Block\n",
    "model.add(Conv2D(64, (3, 3), activation='relu',\n",
    "                 kernel_initializer = 'he_uniform', padding = 'same'\n",
    "                )\n",
    ")\n",
    "model.add(Conv2D(64, (3, 3), activation='relu',\n",
    "                 kernel_initializer = 'he_uniform', padding = 'same'\n",
    "                )\n",
    ")\n",
    "model.add(MaxPool2D(pool_size=(2,2)))\n",
    "model.add(Dropout(0.2))\n",
    "\n",
    "#Third Block\n",
    "model.add(Conv2D(128, (3, 3), activation='relu',\n",
    "                 kernel_initializer = 'he_uniform', padding = 'same'\n",
    "                )\n",
    ")\n",
    "model.add(Conv2D(128, (3, 3), activation='relu',\n",
    "                 kernel_initializer = 'he_uniform', padding = 'same'\n",
    "                )\n",
    ")\n",
    "model.add(MaxPool2D(pool_size=(2,2)))\n",
    "model.add(Dropout(0.2))\n",
    "#Last of CNN\n",
    "model.add(Flatten())\n",
    "model.add(Dropout(0.25))\n",
    "#---------------------------------------------------------------------\n",
    "#ANN\n",
    "model.add(Dense(256, activation='relu', kernel_initializer = 'he_uniform'))\n",
    "model.add(Dropout(0.5))\n",
    "model.add(Dense(128, activation='relu', kernel_initializer = 'he_uniform'))\n",
    "model.add(Dropout(0.5))\n",
    "model.add(Dense(64, activation='relu', kernel_initializer = 'he_uniform'))\n",
    "model.add(Dense(10, activation='softmax'))\n",
    "\n",
    "model.compile(loss = 'categorical_crossentropy',\n",
    "              optimizer = 'adam', \n",
    "              metrics = ['accuracy']\n",
    ")"
   ]
  },
  {
   "cell_type": "code",
   "execution_count": 12,
   "metadata": {},
   "outputs": [],
   "source": [
    "model.compile(loss = 'categorical_crossentropy',\n",
    "              optimizer = 'adam', \n",
    "              metrics = ['accuracy']\n",
    ")"
   ]
  },
  {
   "cell_type": "code",
   "execution_count": 13,
   "metadata": {},
   "outputs": [
    {
     "name": "stdout",
     "output_type": "stream",
     "text": [
      "Epoch 1/30\n",
      "782/782 [==============================] - 16s 13ms/step - loss: 2.0060 - accuracy: 0.2164 - val_loss: 1.7482 - val_accuracy: 0.3493\n",
      "Epoch 2/30\n",
      "782/782 [==============================] - 10s 12ms/step - loss: 1.5624 - accuracy: 0.4128 - val_loss: 1.2688 - val_accuracy: 0.5386\n",
      "Epoch 3/30\n",
      "782/782 [==============================] - 10s 13ms/step - loss: 1.3040 - accuracy: 0.5277 - val_loss: 1.2338 - val_accuracy: 0.5584\n",
      "Epoch 4/30\n",
      "782/782 [==============================] - 10s 13ms/step - loss: 1.1525 - accuracy: 0.5930 - val_loss: 1.0227 - val_accuracy: 0.6340\n",
      "Epoch 5/30\n",
      "782/782 [==============================] - 10s 13ms/step - loss: 1.0520 - accuracy: 0.6341 - val_loss: 0.9109 - val_accuracy: 0.6795\n",
      "Epoch 6/30\n",
      "782/782 [==============================] - 10s 13ms/step - loss: 0.9770 - accuracy: 0.6624 - val_loss: 0.8574 - val_accuracy: 0.6948\n",
      "Epoch 7/30\n",
      "782/782 [==============================] - 10s 13ms/step - loss: 0.9232 - accuracy: 0.6815 - val_loss: 0.8166 - val_accuracy: 0.7178\n",
      "Epoch 8/30\n",
      "782/782 [==============================] - 10s 13ms/step - loss: 0.8864 - accuracy: 0.6972 - val_loss: 0.7777 - val_accuracy: 0.7353\n",
      "Epoch 9/30\n",
      "782/782 [==============================] - 10s 13ms/step - loss: 0.8470 - accuracy: 0.7110 - val_loss: 0.7978 - val_accuracy: 0.7224\n",
      "Epoch 10/30\n",
      "782/782 [==============================] - 10s 13ms/step - loss: 0.8154 - accuracy: 0.7253 - val_loss: 0.7815 - val_accuracy: 0.7370\n",
      "Epoch 11/30\n",
      "782/782 [==============================] - 10s 13ms/step - loss: 0.7964 - accuracy: 0.7284 - val_loss: 0.7267 - val_accuracy: 0.7533\n",
      "Epoch 12/30\n",
      "782/782 [==============================] - 10s 13ms/step - loss: 0.7675 - accuracy: 0.7406 - val_loss: 0.7197 - val_accuracy: 0.7575\n",
      "Epoch 13/30\n",
      "782/782 [==============================] - 10s 13ms/step - loss: 0.7443 - accuracy: 0.7491 - val_loss: 0.7196 - val_accuracy: 0.7583\n",
      "Epoch 14/30\n",
      "782/782 [==============================] - 10s 13ms/step - loss: 0.7230 - accuracy: 0.7553 - val_loss: 0.6812 - val_accuracy: 0.7698\n",
      "Epoch 15/30\n",
      "782/782 [==============================] - 10s 13ms/step - loss: 0.7101 - accuracy: 0.7622 - val_loss: 0.6520 - val_accuracy: 0.7812\n",
      "Epoch 16/30\n",
      "782/782 [==============================] - 10s 13ms/step - loss: 0.6952 - accuracy: 0.7661 - val_loss: 0.6835 - val_accuracy: 0.7690\n",
      "Epoch 17/30\n",
      "782/782 [==============================] - 10s 13ms/step - loss: 0.6831 - accuracy: 0.7709 - val_loss: 0.6727 - val_accuracy: 0.7714\n",
      "Epoch 18/30\n",
      "782/782 [==============================] - 10s 13ms/step - loss: 0.6693 - accuracy: 0.7778 - val_loss: 0.6589 - val_accuracy: 0.7824\n",
      "Epoch 19/30\n",
      "782/782 [==============================] - 10s 13ms/step - loss: 0.6511 - accuracy: 0.7851 - val_loss: 0.6284 - val_accuracy: 0.7930\n",
      "Epoch 20/30\n",
      "782/782 [==============================] - 10s 13ms/step - loss: 0.6436 - accuracy: 0.7860 - val_loss: 0.6328 - val_accuracy: 0.7935\n",
      "Epoch 21/30\n",
      "782/782 [==============================] - 10s 13ms/step - loss: 0.6284 - accuracy: 0.7900 - val_loss: 0.6456 - val_accuracy: 0.7907\n",
      "Epoch 22/30\n",
      "782/782 [==============================] - 10s 13ms/step - loss: 0.6206 - accuracy: 0.7956 - val_loss: 0.6144 - val_accuracy: 0.8001\n",
      "Epoch 23/30\n",
      "782/782 [==============================] - 10s 13ms/step - loss: 0.6182 - accuracy: 0.7948 - val_loss: 0.6098 - val_accuracy: 0.8010\n",
      "Epoch 24/30\n",
      "782/782 [==============================] - 10s 13ms/step - loss: 0.6021 - accuracy: 0.7995 - val_loss: 0.6222 - val_accuracy: 0.7965\n",
      "Epoch 25/30\n",
      "782/782 [==============================] - 10s 13ms/step - loss: 0.5984 - accuracy: 0.8018 - val_loss: 0.6797 - val_accuracy: 0.7803\n",
      "Epoch 26/30\n",
      "782/782 [==============================] - 10s 13ms/step - loss: 0.5906 - accuracy: 0.8049 - val_loss: 0.6197 - val_accuracy: 0.7964\n",
      "Epoch 27/30\n",
      "782/782 [==============================] - 10s 13ms/step - loss: 0.5813 - accuracy: 0.8087 - val_loss: 0.6549 - val_accuracy: 0.7916\n",
      "Epoch 28/30\n",
      "782/782 [==============================] - 10s 13ms/step - loss: 0.5727 - accuracy: 0.8144 - val_loss: 0.6288 - val_accuracy: 0.7995\n",
      "Epoch 29/30\n",
      "782/782 [==============================] - 10s 13ms/step - loss: 0.5692 - accuracy: 0.8125 - val_loss: 0.6332 - val_accuracy: 0.7973\n",
      "Epoch 30/30\n",
      "782/782 [==============================] - 10s 13ms/step - loss: 0.5570 - accuracy: 0.8168 - val_loss: 0.5828 - val_accuracy: 0.8142\n"
     ]
    },
    {
     "data": {
      "text/plain": [
       "<keras.callbacks.History at 0x2849e4e4a90>"
      ]
     },
     "execution_count": 13,
     "metadata": {},
     "output_type": "execute_result"
    }
   ],
   "source": [
    "model.fit(\n",
    "    x_train_cnn,         # CNN-shaped input: (50000, 32, 32, 3)\n",
    "    y_train_cat,         # One-hot encoded labels: (50000, 10)\n",
    "    batch_size=64,      # Reasonable for training speed vs. memory\n",
    "    epochs=30,           # Good range to watch learning progress\n",
    "    verbose=1,           # Shows progress bar\n",
    "    validation_data=(x_test_cnn, y_test_cat)  # Evaluates generalization\n",
    ")"
   ]
  },
  {
   "cell_type": "code",
   "execution_count": null,
   "metadata": {},
   "outputs": [],
   "source": []
  }
 ],
 "metadata": {
  "kernelspec": {
   "display_name": "Python (dpn)",
   "language": "python",
   "name": "dpn"
  },
  "language_info": {
   "codemirror_mode": {
    "name": "ipython",
    "version": 3
   },
   "file_extension": ".py",
   "mimetype": "text/x-python",
   "name": "python",
   "nbconvert_exporter": "python",
   "pygments_lexer": "ipython3",
   "version": "3.10.16"
  }
 },
 "nbformat": 4,
 "nbformat_minor": 4
}
